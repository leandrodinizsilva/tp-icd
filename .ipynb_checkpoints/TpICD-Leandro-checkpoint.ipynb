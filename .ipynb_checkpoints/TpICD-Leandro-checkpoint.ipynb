{
 "cells": [
  {
   "cell_type": "code",
   "execution_count": null,
   "metadata": {
    "id": "O6HNqwSkcB3i"
   },
   "outputs": [],
   "source": [
    "import pandas as pd\n",
    "import numpy as np\n",
    "import seaborn as sns\n",
    "import matplotlib.pyplot as plt\n",
    "from sklearn.linear_model import LinearRegression\n",
    "data = pd.read_csv('data.csv', index_col='ID')"
   ]
  },
  {
   "cell_type": "code",
   "execution_count": null,
   "metadata": {
    "id": "AouFNrBayDBz"
   },
   "outputs": [],
   "source": [
    "#arrumando o valor, salário e cláusula de quebra\n",
    "s = pd.Series(['Value','Wage','Release Clause'])\n",
    "for i in s:\n",
    "  data['aux1'] = data[i].str.extract('(€\\d+)')\n",
    "  data['aux1'] = data['aux1'].str.extract('(\\d+)')\n",
    "  data['aux1'] = data['aux1'].astype(float)\n",
    "  data['aux2'] = data[i].str.extract('(\\.\\d+)')\n",
    "  data['aux2'].fillna(0, inplace=True)\n",
    "  data['aux2'] = data['aux2'].astype(float)\n",
    "  data[i] = data['aux1'] + data['aux2']\n",
    "  data.drop(['aux1', 'aux2'],axis=1,inplace=True)"
   ]
  },
  {
   "cell_type": "code",
   "execution_count": null,
   "metadata": {
    "id": "S3oSiCdferSB"
   },
   "outputs": [],
   "source": [
    "# Converte o peso e altura para o sistema de medida usado no brasil\n",
    "data.drop(['Unnamed: 0','Photo', 'Flag', 'Club Logo'], axis=1, inplace=True)\n",
    "pd.options.display.max_columns = 90\n",
    "data['Weight'] =  data['Weight'].str[:3].astype(float) /  2.205\n",
    "data['Height(cm)'] = data['Height'].str.split(\"'\") \n",
    "data['Height'] = (12 * data['Height(cm)'].str[0].astype(float) + data['Height(cm)'].str[1].astype(float)) * 2.54\n",
    "data.drop(['Height(cm)'], axis=1, inplace=True)\n",
    "data.rename({'Height': 'Height (cm)', 'Weight': 'Weight (kg)'},axis=1, inplace=True)"
   ]
  },
  {
   "cell_type": "code",
   "execution_count": null,
   "metadata": {},
   "outputs": [],
   "source": [
    "# Apaga as colunas que não são importantes\n",
    "cols = [x for x in range(24,50)]\n",
    "data.drop(data.columns[cols], axis=1, inplace=True)\n",
    "data.drop(\"Loaned From\", axis=1, inplace=True)\n",
    "data.drop(\"LS\", axis=1, inplace=True)\n",
    "\n",
    "# Refina o body type dos jogadores, pois existem jogadores com tipo de corpo\n",
    "# especiais no jogo\n",
    "data.loc[data['Body Type'] == 'Akinfenwa', 'Body Type'] = 'Stocky'\n",
    "data.loc[data['Body Type'] == 'Neymar', 'Body Type'] = 'Lean'\n",
    "data.loc[data['Body Type'] == 'Messi', 'Body Type'] = 'Lean'\n",
    "data.loc[data['Body Type'] == 'C. Ronaldo', 'Body Type'] = 'Stocky'\n",
    "data.loc[data['Body Type'] == 'Shaqiri', 'Body Type'] = 'Stocky'\n",
    "data.loc[data['Body Type'] == 'Courtois', 'Body Type'] = 'Normal'\n",
    "data.loc[data['Body Type'] == 'PLAYER_BODY_TYPE_25', 'Body Type'] = 'Normal'\n",
    "data.shape\n",
    "\n",
    "data = data.dropna()\n"
   ]
  },
  {
   "cell_type": "code",
   "execution_count": null,
   "metadata": {
    "colab": {
     "base_uri": "https://localhost:8080/",
     "height": 640
    },
    "id": "PzfRQ6dh5_2Z",
    "outputId": "468a6ffd-caa7-4315-ba6a-11a247744611",
    "scrolled": true
   },
   "outputs": [],
   "source": [
    "data.loc[data['Position'] == \"GK\"].sort_values(\"Height (cm)\", ascending=False)\n",
    "data.sort_values(\"Height (cm)\", ascending=False)\n",
    "\n",
    "data.head(10)\n",
    "\n",
    "data = data[data['Wage'] > 10]\n",
    "print(data.shape)\n",
    "# teste.head(100)"
   ]
  },
  {
   "cell_type": "markdown",
   "metadata": {},
   "source": [
    "**Hipótese**\n",
    "\n",
    "Se um jogador brasileiro ganha mais que um jogador argentino e se isso é isso é provado aleatoriamente ou por um outro motivo alem de \"u\"\n",
    "\n",
    "*uSerBrasileiro != uSerArgentino*\n"
   ]
  },
  {
   "cell_type": "code",
   "execution_count": null,
   "metadata": {},
   "outputs": [],
   "source": [
    "brasilArgentina = data.loc[(data['Nationality'] == 'Brazil') | (data['Nationality'] == 'Argentina')].sort_values('Wage', ascending = False)\n",
    "brasilArgentina['log_wage'] = np.log(brasilArgentina['Wage'])\n",
    "\n",
    "meanPlot = brasilArgentina[['Nationality','Wage']].groupby(\"Nationality\").agg([np.mean])\n",
    "meanPlot.plot(kind = \"bar\", y = \"Wage\", legend = False,\n",
    "            title = \"Média Salarial dos jogadores\")"
   ]
  },
  {
   "cell_type": "code",
   "execution_count": null,
   "metadata": {},
   "outputs": [],
   "source": [
    "g = sns.catplot(x=\"Nationality\", y=\"log_wage\", kind=\"violin\", inner=None, data=brasilArgentina)\n",
    "sns.swarmplot(x=\"Nationality\", y=\"log_wage\", color=\"k\", size=0.5, data=brasilArgentina, ax=g.ax)"
   ]
  },
  {
   "cell_type": "markdown",
   "metadata": {},
   "source": [
    "Pelo violin plot é possível perceber que existem menos jogadores brasileiro que recebem \"pouco\" comparado aos jogadores argentinos, onde no centro do \"violiono\" brasileiro é possivel reparar que ele é mais \"aberto\", representando uma quantidade maior de jogadores com salario \"médio\"."
   ]
  },
  {
   "cell_type": "code",
   "execution_count": null,
   "metadata": {},
   "outputs": [],
   "source": [
    "# def bootstrap_mean(df1, df2, column, n=10000):\n",
    "#     size1 = len(df1)\n",
    "#     size2 = len(df2)\n",
    "#     values1 = np.zeros(n)\n",
    "#     values2 = np.zeros(n)\n",
    "#     values_diff = np.zeros(n)\n",
    "#     for i in range(n):\n",
    "#         sample1 = df1[column].sample(size1, replace=True, random_state=i)\n",
    "#         sample2 = df2[column].sample(size2, replace=True, random_state=i*3)\n",
    "#         values1[i] = sample1.mean()\n",
    "#         values2[i] = sample2.mean()\n",
    "#         values_diff[i] = sample1.mean() - sample2.mean()\n",
    "#     return values1, values2, values_diff\n",
    "\n",
    "# brasil = data[data['Nationality']=='Brazil']\n",
    "# argentina = data[data['Nationality']=='Argentina']\n",
    "# col = 'log_wage'\n",
    "# v_brasil, v_argentina, v_diff = bootstrap_mean(brasil, argentina, col)\n",
    "\n",
    "# bp_data = [v_brasil, v_argentina]\n",
    "# plt.rcParams['figure.figsize']  = (8, 6)\n",
    "# plt.boxplot(bp_data, whis=[5, 95], positions=[1,2], showfliers=False, showmeans=True)\n",
    "# plt.xticks([1,2], ['Brasil', 'Argentina'], fontsize=10)\n",
    "# plt.ylabel('', fontsize=13)\n",
    "# plt.xlabel('Nacionalidade', fontsize=12)\n",
    "# plt.title('Salário (log) Médio dos Jogadores por Nacionalidade', fontsize=14)\n",
    "# plt.show()"
   ]
  },
  {
   "cell_type": "markdown",
   "metadata": {},
   "source": [
    "**Teste A/B**\n",
    "\n",
    "Realizando um teste *A/B* sobre os salários (em *log*) dos jogadores, percebemos que com 5% de chance os jogadores brasileiros se encontram com o mesmo salário que os argentinos, provando que com os dados usados no FIFA nesse ano, os brasileiros ganham mais que os argentinos"
   ]
  },
  {
   "cell_type": "code",
   "execution_count": null,
   "metadata": {},
   "outputs": [],
   "source": [
    "from sklearn import metrics\n",
    "from sklearn.linear_model import Lasso\n",
    "from sklearn.neighbors import KNeighborsClassifier, KNeighborsRegressor\n",
    "from sklearn.model_selection import StratifiedKFold,KFold, train_test_split\n",
    "\n",
    "from statistics import mean, stdev\n",
    "from sklearn import preprocessing\n",
    "from sklearn import linear_model"
   ]
  },
  {
   "cell_type": "code",
   "execution_count": null,
   "metadata": {},
   "outputs": [],
   "source": [
    "#Crianda DF para gerar os graficos finais\n",
    "d = {'teste': [], 'kfold': [], 'n':[], 'precisao':[], 'revocação':[], 'f1':[]}\n",
    "dfG = pd.DataFrame(data=d)\n",
    "dfG"
   ]
  },
  {
   "cell_type": "code",
   "execution_count": null,
   "metadata": {},
   "outputs": [],
   "source": [
    "# Feature Scaling for input features.\n",
    "scaler = preprocessing.MinMaxScaler()\n",
    "X_scaled = scaler.fit_transform(X)\n",
    "  \n",
    "# Create  classifier object.\n",
    "lasso = Lasso(alpha = 1)\n",
    "  \n",
    "\n",
    "# Create StratifiedKFold object.\n",
    "skf = KFold(n_splits=SPLITS, shuffle=True, random_state=1)\n",
    "lst_accu_stratified = []\n",
    "batata = np.array([90,90,90,90,90,90,90,90,90,90,90,90,90,90,90,90,90,90,90,90,90,90,90,90,90,90,90,90,90,90,90,90,90]).reshape(1,-1)\n",
    "# batata = np.array([90,90,90]).reshape(1,-1)\n",
    "print(\"Regressão Lasso\")\n",
    "contador = 0\n",
    "for train_index, test_index in skf.split(X, y):\n",
    "    X_train_fold, X_test_fold = X_scaled[train_index], X_scaled[test_index]\n",
    "    y_train_fold, y_test_fold = y[train_index], y[test_index]\n",
    "    lasso.fit(X_train_fold, y_train_fold)\n",
    "    print(lasso.predict(batata))\n",
    "    y_pred1 = lasso.predict(X_test)\n",
    "    lst_accu_stratified.append(lasso.score(X_test_fold, y_test_fold))\n",
    "    mean_squared_error = np.mean((y_pred1 - y_test)**2)\n",
    "    contador = contador + 1\n",
    "    print(\"Fold \",contador,\"| Erro quadrado médio: \", mean_squared_error)"
   ]
  },
  {
   "cell_type": "code",
   "execution_count": null,
   "metadata": {},
   "outputs": [],
   "source": [
    "# print(\"KNN\")\n",
    "# contador = 0\n",
    "# for train_index, test_index in skf.split(X, y):\n",
    "#     X_train_fold, X_test_fold = X_scaled[train_index], X_scaled[test_index]\n",
    "#     y_train_fold, y_test_fold = y[train_index], y[test_index]\n",
    "#     contador = contador + 1\n",
    "#     print(\"Fold\", contador)\n",
    "#     for i in [10, 50, 350]:\n",
    "#       knn = KNeighborsRegressor(n_neighbors=i)\n",
    "#       knn.fit(X_train_fold, y_train_fold)\n",
    "#       y_pred1 = knn.predict(X_test)\n",
    "#       prec = metrics.accuracy_score(y_test, y_pred1)\n",
    "#       rev = metrics.recall_score(y_test, y_pred1)\n",
    "#       f1= metrics.f1_score(y_test, y_pred1)\n",
    "#       #teste\tkfold\tn\tprecisao\trevocação\tf1\n",
    "#       dfG = dfG.append({'teste': 'KNN', 'kfold': contador, 'n': i, 'precisao': prec, 'revocação': rev, 'f1':f1}, ignore_index=True)\n",
    "#       print(\"Teste K-Vizinhos - \",i)\n",
    "#       print(\"Precisão:\", prec)\n",
    "#       print(\"Revocação:\", rev)\n",
    "#       print(\"F1:\", f1)\n",
    "#       print(\"Matriz de Confusão:\\n\",metrics.confusion_matrix(y_test, y_pred1))\n",
    "#       print(\"\\n\")\n",
    "#     print(\"\\n\")"
   ]
  },
  {
   "cell_type": "code",
   "execution_count": null,
   "metadata": {},
   "outputs": [],
   "source": [
    "#Pegar as colunas que serão usadas na classificação\n",
    "features = ['ShortPassing']\n",
    "# features = ['ShortPassing','LongPassing','Reactions']\n",
    "# features = data.columns[22:-1]\n",
    "# Número de folds da validação cruzada\n",
    "SPLITS = 2\n",
    "\n",
    "X = data[features].values\n",
    "y = data[['Wage']].values\n",
    "\n",
    "X_train, X_test, y_train, y_test = train_test_split(X, y, test_size=0.30, random_state=40)"
   ]
  },
  {
   "cell_type": "code",
   "execution_count": null,
   "metadata": {},
   "outputs": [],
   "source": [
    "# YOUR CODE HERE\n",
    "# Feature Scaling for input features.\n",
    "scaler = preprocessing.MinMaxScaler()\n",
    "X_scaled = scaler.fit_transform(X)\n",
    "# Create StratifiedKFold object.\n",
    "skf = StratifiedKFold(n_splits=SPLITS, shuffle=True, random_state=1)"
   ]
  },
  {
   "cell_type": "code",
   "execution_count": null,
   "metadata": {
    "scrolled": false
   },
   "outputs": [],
   "source": [
    "print(\"KNN\")\n",
    "batata = np.array([99,99,99,99,99]).reshape(1,-1)\n",
    "contador = 0\n",
    "for train_index, test_index in skf.split(X, y):\n",
    "    X_train_fold, X_test_fold = X_scaled[train_index], X_scaled[test_index]\n",
    "    y_train_fold, y_test_fold = y[train_index], y[test_index]\n",
    "    contador = contador + 1\n",
    "    print(\"Fold\", contador)\n",
    "    for i in [1,5,10, 50,100]:\n",
    "      knn = KNeighborsRegressor(n_neighbors=i)\n",
    "      knn.fit(X_train_fold, y_train_fold)\n",
    "      y_pred1 = knn.predict(X_test)\n",
    "      y_pred0 = knn.predict(batata)\n",
    "      print(y_pred0)\n",
    "      mean_squared_error = np.mean((y_pred1 - y_test)**2)\n",
    "      print(i,\"Vizinhos | Erro quadrado médio: \", mean_squared_error)\n",
    "    print(\"\\n\")"
   ]
  },
  {
   "cell_type": "code",
   "execution_count": null,
   "metadata": {},
   "outputs": [],
   "source": [
    "# YOUR CODE HERE\n",
    "# Feature Scaling for input features.\n",
    "scaler = preprocessing.MinMaxScaler()\n",
    "X_scaled = scaler.fit_transform(X)\n",
    "# Create StratifiedKFold object.\n",
    "skf = StratifiedKFold(n_splits=SPLITS, shuffle=True, random_state=1)\n",
    "n_est = [10,50,100,300]\n",
    "#Create a Gaussian Classifier\n",
    "contador = 0\n",
    "for train_index, test_index in skf.split(X, y):\n",
    "    X_train_fold, X_test_fold = X_scaled[train_index], X_scaled[test_index]\n",
    "    y_train_fold, y_test_fold = y[train_index], y[test_index]\n",
    "    contador = contador + 1\n",
    "    print(\"Fold\", contador)\n",
    "    for i in n_est:\n",
    "      clf=RandomForestClassifier(n_estimators=i)\n",
    "\n",
    "      #Train the model using the training sets y_pred=clf.predict(X_test)\n",
    "      clf.fit(X_train,y_train)\n",
    "\n",
    "      y_pred=clf.predict(X_test)\n",
    "      prec = metrics.accuracy_score(y_test, y_pred)\n",
    "      rev = metrics.recall_score(y_test, y_pred)\n",
    "      f1= metrics.f1_score(y_test, y_pred)\n",
    "      #teste\tkfold\tn\tprecisao\trevocação\tf1\n",
    "      dfG = dfG.append({'teste': 'RandomForest', 'kfold': contador, 'n': i, 'precisao': prec, 'revocação': rev, 'f1':f1}, ignore_index=True)\n",
    "      print(\"Teste n_estimators - \",i)\n",
    "      print(\"Precisão:\", prec)\n",
    "      print(\"Revocação:\", rev)\n",
    "      print(\"F1:\", f1)\n",
    "      print(\"Matriz de Confusão:\\n\",metrics.confusion_matrix(y_test, y_pred))\n",
    "      print(\"\\n\")\n",
    "    print(\"\\n\")\n",
    "\n"
   ]
  }
 ],
 "metadata": {
  "colab": {
   "collapsed_sections": [],
   "name": "TpICD.ipynb",
   "provenance": []
  },
  "kernelspec": {
   "display_name": "Python 3 (ipykernel)",
   "language": "python",
   "name": "python3"
  },
  "language_info": {
   "codemirror_mode": {
    "name": "ipython",
    "version": 3
   },
   "file_extension": ".py",
   "mimetype": "text/x-python",
   "name": "python",
   "nbconvert_exporter": "python",
   "pygments_lexer": "ipython3",
   "version": "3.9.7"
  }
 },
 "nbformat": 4,
 "nbformat_minor": 1
}
