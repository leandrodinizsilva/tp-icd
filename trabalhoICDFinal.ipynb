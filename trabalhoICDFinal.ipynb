{
  "cells": [
    {
      "cell_type": "markdown",
      "source": [
        "Nome/Matrícula:\n",
        "\n",
        "Thales Henrique Silva / 2020007040\n",
        "\n",
        "Leandro Diniz Silva / 2019105718\n",
        "\n",
        "Rodrigo Ferreira Araújo / 2020006990\n",
        "\n",
        "Hélio Martíns de Araújo Costa Neto / 2017068750\n",
        "\n",
        "Link do vídeo: https://www.youtube.com/watch?v=pVsKMdK-41A"
      ],
      "metadata": {
        "id": "hYKw5BwYl957"
      }
    },
    {
      "cell_type": "code",
      "execution_count": 319,
      "metadata": {
        "id": "O6HNqwSkcB3i"
      },
      "outputs": [],
      "source": [
        "import pandas as pd\n",
        "import numpy as np\n",
        "import seaborn as sns\n",
        "import matplotlib.pyplot as plt\n",
        "from sklearn.linear_model import LinearRegression\n",
        "from sklearn.neighbors import KNeighborsClassifier, KNeighborsRegressor\n",
        "from sklearn.model_selection import StratifiedKFold,KFold, train_test_split\n",
        "import warnings\n",
        "from sklearn import preprocessing\n",
        "warnings.filterwarnings(\"ignore\")\n",
        "\n",
        "plt.rcParams['figure.figsize']  = (18, 10)\n",
        "plt.rcParams['axes.labelsize']  = 20\n",
        "plt.rcParams['axes.titlesize']  = 20\n",
        "plt.rcParams['legend.fontsize'] = 20\n",
        "plt.rcParams['xtick.labelsize'] = 20\n",
        "plt.rcParams['ytick.labelsize'] = 20\n",
        "plt.rcParams['lines.linewidth'] = 4\n",
        "plt.ion()\n",
        "\n",
        "plt.style.use('seaborn-colorblind')\n",
        "plt.rcParams['figure.figsize']  = (12, 8)\n"
      ]
    },
    {
      "cell_type": "markdown",
      "source": [
        "# Introdução\n",
        "\n",
        "Iremos analisar informações sobre os jogadores do jogo Fifa 19. Daremos atenção à pergunta de como determinar o salário de um jogador com base em certas características.\n",
        "\n"
      ],
      "metadata": {
        "id": "lQZd2xyCvKXb"
      }
    },
    {
      "cell_type": "code",
      "execution_count": 320,
      "metadata": {
        "colab": {
          "base_uri": "https://localhost:8080/",
          "height": 409
        },
        "id": "4ZUs5x_K2RZO",
        "outputId": "bb6cd745-fe4a-49b6-beb3-6b77f39560b1"
      },
      "outputs": [
        {
          "output_type": "execute_result",
          "data": {
            "text/html": [
              "\n",
              "  <div id=\"df-16e683bd-961b-4cf6-81cd-de2718e97ac5\">\n",
              "    <div class=\"colab-df-container\">\n",
              "      <div>\n",
              "<style scoped>\n",
              "    .dataframe tbody tr th:only-of-type {\n",
              "        vertical-align: middle;\n",
              "    }\n",
              "\n",
              "    .dataframe tbody tr th {\n",
              "        vertical-align: top;\n",
              "    }\n",
              "\n",
              "    .dataframe thead th {\n",
              "        text-align: right;\n",
              "    }\n",
              "</style>\n",
              "<table border=\"1\" class=\"dataframe\">\n",
              "  <thead>\n",
              "    <tr style=\"text-align: right;\">\n",
              "      <th></th>\n",
              "      <th>Unnamed: 0</th>\n",
              "      <th>ID</th>\n",
              "      <th>Name</th>\n",
              "      <th>Age</th>\n",
              "      <th>Photo</th>\n",
              "      <th>Nationality</th>\n",
              "      <th>Flag</th>\n",
              "      <th>Overall</th>\n",
              "      <th>Potential</th>\n",
              "      <th>Club</th>\n",
              "      <th>Club Logo</th>\n",
              "      <th>Value</th>\n",
              "      <th>Wage</th>\n",
              "      <th>Special</th>\n",
              "      <th>Preferred Foot</th>\n",
              "      <th>International Reputation</th>\n",
              "      <th>Weak Foot</th>\n",
              "      <th>Skill Moves</th>\n",
              "      <th>Work Rate</th>\n",
              "      <th>Body Type</th>\n",
              "      <th>Real Face</th>\n",
              "      <th>Position</th>\n",
              "      <th>Jersey Number</th>\n",
              "      <th>Joined</th>\n",
              "      <th>Loaned From</th>\n",
              "      <th>Contract Valid Until</th>\n",
              "      <th>Height</th>\n",
              "      <th>Weight</th>\n",
              "      <th>LS</th>\n",
              "      <th>ST</th>\n",
              "      <th>RS</th>\n",
              "      <th>LW</th>\n",
              "      <th>LF</th>\n",
              "      <th>CF</th>\n",
              "      <th>RF</th>\n",
              "      <th>RW</th>\n",
              "      <th>LAM</th>\n",
              "      <th>CAM</th>\n",
              "      <th>RAM</th>\n",
              "      <th>LM</th>\n",
              "      <th>LCM</th>\n",
              "      <th>CM</th>\n",
              "      <th>RCM</th>\n",
              "      <th>RM</th>\n",
              "      <th>LWB</th>\n",
              "      <th>LDM</th>\n",
              "      <th>CDM</th>\n",
              "      <th>RDM</th>\n",
              "      <th>RWB</th>\n",
              "      <th>LB</th>\n",
              "      <th>LCB</th>\n",
              "      <th>CB</th>\n",
              "      <th>RCB</th>\n",
              "      <th>RB</th>\n",
              "      <th>Crossing</th>\n",
              "      <th>Finishing</th>\n",
              "      <th>HeadingAccuracy</th>\n",
              "      <th>ShortPassing</th>\n",
              "      <th>Volleys</th>\n",
              "      <th>Dribbling</th>\n",
              "      <th>Curve</th>\n",
              "      <th>FKAccuracy</th>\n",
              "      <th>LongPassing</th>\n",
              "      <th>BallControl</th>\n",
              "      <th>Acceleration</th>\n",
              "      <th>SprintSpeed</th>\n",
              "      <th>Agility</th>\n",
              "      <th>Reactions</th>\n",
              "      <th>Balance</th>\n",
              "      <th>ShotPower</th>\n",
              "      <th>Jumping</th>\n",
              "      <th>Stamina</th>\n",
              "      <th>Strength</th>\n",
              "      <th>LongShots</th>\n",
              "      <th>Aggression</th>\n",
              "      <th>Interceptions</th>\n",
              "      <th>Positioning</th>\n",
              "      <th>Vision</th>\n",
              "      <th>Penalties</th>\n",
              "      <th>Composure</th>\n",
              "      <th>Marking</th>\n",
              "      <th>StandingTackle</th>\n",
              "      <th>SlidingTackle</th>\n",
              "      <th>GKDiving</th>\n",
              "      <th>GKHandling</th>\n",
              "      <th>GKKicking</th>\n",
              "      <th>GKPositioning</th>\n",
              "      <th>GKReflexes</th>\n",
              "      <th>Release Clause</th>\n",
              "    </tr>\n",
              "  </thead>\n",
              "  <tbody>\n",
              "    <tr>\n",
              "      <th>0</th>\n",
              "      <td>0</td>\n",
              "      <td>158023</td>\n",
              "      <td>L. Messi</td>\n",
              "      <td>31</td>\n",
              "      <td>https://cdn.sofifa.org/players/4/19/158023.png</td>\n",
              "      <td>Argentina</td>\n",
              "      <td>https://cdn.sofifa.org/flags/52.png</td>\n",
              "      <td>94</td>\n",
              "      <td>94</td>\n",
              "      <td>FC Barcelona</td>\n",
              "      <td>https://cdn.sofifa.org/teams/2/light/241.png</td>\n",
              "      <td>€110.5M</td>\n",
              "      <td>€565K</td>\n",
              "      <td>2202</td>\n",
              "      <td>Left</td>\n",
              "      <td>5.0</td>\n",
              "      <td>4.0</td>\n",
              "      <td>4.0</td>\n",
              "      <td>Medium/ Medium</td>\n",
              "      <td>Messi</td>\n",
              "      <td>Yes</td>\n",
              "      <td>RF</td>\n",
              "      <td>10.0</td>\n",
              "      <td>Jul 1, 2004</td>\n",
              "      <td>NaN</td>\n",
              "      <td>2021</td>\n",
              "      <td>5'7</td>\n",
              "      <td>159lbs</td>\n",
              "      <td>88+2</td>\n",
              "      <td>88+2</td>\n",
              "      <td>88+2</td>\n",
              "      <td>92+2</td>\n",
              "      <td>93+2</td>\n",
              "      <td>93+2</td>\n",
              "      <td>93+2</td>\n",
              "      <td>92+2</td>\n",
              "      <td>93+2</td>\n",
              "      <td>93+2</td>\n",
              "      <td>93+2</td>\n",
              "      <td>91+2</td>\n",
              "      <td>84+2</td>\n",
              "      <td>84+2</td>\n",
              "      <td>84+2</td>\n",
              "      <td>91+2</td>\n",
              "      <td>64+2</td>\n",
              "      <td>61+2</td>\n",
              "      <td>61+2</td>\n",
              "      <td>61+2</td>\n",
              "      <td>64+2</td>\n",
              "      <td>59+2</td>\n",
              "      <td>47+2</td>\n",
              "      <td>47+2</td>\n",
              "      <td>47+2</td>\n",
              "      <td>59+2</td>\n",
              "      <td>84.0</td>\n",
              "      <td>95.0</td>\n",
              "      <td>70.0</td>\n",
              "      <td>90.0</td>\n",
              "      <td>86.0</td>\n",
              "      <td>97.0</td>\n",
              "      <td>93.0</td>\n",
              "      <td>94.0</td>\n",
              "      <td>87.0</td>\n",
              "      <td>96.0</td>\n",
              "      <td>91.0</td>\n",
              "      <td>86.0</td>\n",
              "      <td>91.0</td>\n",
              "      <td>95.0</td>\n",
              "      <td>95.0</td>\n",
              "      <td>85.0</td>\n",
              "      <td>68.0</td>\n",
              "      <td>72.0</td>\n",
              "      <td>59.0</td>\n",
              "      <td>94.0</td>\n",
              "      <td>48.0</td>\n",
              "      <td>22.0</td>\n",
              "      <td>94.0</td>\n",
              "      <td>94.0</td>\n",
              "      <td>75.0</td>\n",
              "      <td>96.0</td>\n",
              "      <td>33.0</td>\n",
              "      <td>28.0</td>\n",
              "      <td>26.0</td>\n",
              "      <td>6.0</td>\n",
              "      <td>11.0</td>\n",
              "      <td>15.0</td>\n",
              "      <td>14.0</td>\n",
              "      <td>8.0</td>\n",
              "      <td>€226.5M</td>\n",
              "    </tr>\n",
              "    <tr>\n",
              "      <th>1</th>\n",
              "      <td>1</td>\n",
              "      <td>20801</td>\n",
              "      <td>Cristiano Ronaldo</td>\n",
              "      <td>33</td>\n",
              "      <td>https://cdn.sofifa.org/players/4/19/20801.png</td>\n",
              "      <td>Portugal</td>\n",
              "      <td>https://cdn.sofifa.org/flags/38.png</td>\n",
              "      <td>94</td>\n",
              "      <td>94</td>\n",
              "      <td>Juventus</td>\n",
              "      <td>https://cdn.sofifa.org/teams/2/light/45.png</td>\n",
              "      <td>€77M</td>\n",
              "      <td>€405K</td>\n",
              "      <td>2228</td>\n",
              "      <td>Right</td>\n",
              "      <td>5.0</td>\n",
              "      <td>4.0</td>\n",
              "      <td>5.0</td>\n",
              "      <td>High/ Low</td>\n",
              "      <td>C. Ronaldo</td>\n",
              "      <td>Yes</td>\n",
              "      <td>ST</td>\n",
              "      <td>7.0</td>\n",
              "      <td>Jul 10, 2018</td>\n",
              "      <td>NaN</td>\n",
              "      <td>2022</td>\n",
              "      <td>6'2</td>\n",
              "      <td>183lbs</td>\n",
              "      <td>91+3</td>\n",
              "      <td>91+3</td>\n",
              "      <td>91+3</td>\n",
              "      <td>89+3</td>\n",
              "      <td>90+3</td>\n",
              "      <td>90+3</td>\n",
              "      <td>90+3</td>\n",
              "      <td>89+3</td>\n",
              "      <td>88+3</td>\n",
              "      <td>88+3</td>\n",
              "      <td>88+3</td>\n",
              "      <td>88+3</td>\n",
              "      <td>81+3</td>\n",
              "      <td>81+3</td>\n",
              "      <td>81+3</td>\n",
              "      <td>88+3</td>\n",
              "      <td>65+3</td>\n",
              "      <td>61+3</td>\n",
              "      <td>61+3</td>\n",
              "      <td>61+3</td>\n",
              "      <td>65+3</td>\n",
              "      <td>61+3</td>\n",
              "      <td>53+3</td>\n",
              "      <td>53+3</td>\n",
              "      <td>53+3</td>\n",
              "      <td>61+3</td>\n",
              "      <td>84.0</td>\n",
              "      <td>94.0</td>\n",
              "      <td>89.0</td>\n",
              "      <td>81.0</td>\n",
              "      <td>87.0</td>\n",
              "      <td>88.0</td>\n",
              "      <td>81.0</td>\n",
              "      <td>76.0</td>\n",
              "      <td>77.0</td>\n",
              "      <td>94.0</td>\n",
              "      <td>89.0</td>\n",
              "      <td>91.0</td>\n",
              "      <td>87.0</td>\n",
              "      <td>96.0</td>\n",
              "      <td>70.0</td>\n",
              "      <td>95.0</td>\n",
              "      <td>95.0</td>\n",
              "      <td>88.0</td>\n",
              "      <td>79.0</td>\n",
              "      <td>93.0</td>\n",
              "      <td>63.0</td>\n",
              "      <td>29.0</td>\n",
              "      <td>95.0</td>\n",
              "      <td>82.0</td>\n",
              "      <td>85.0</td>\n",
              "      <td>95.0</td>\n",
              "      <td>28.0</td>\n",
              "      <td>31.0</td>\n",
              "      <td>23.0</td>\n",
              "      <td>7.0</td>\n",
              "      <td>11.0</td>\n",
              "      <td>15.0</td>\n",
              "      <td>14.0</td>\n",
              "      <td>11.0</td>\n",
              "      <td>€127.1M</td>\n",
              "    </tr>\n",
              "    <tr>\n",
              "      <th>2</th>\n",
              "      <td>2</td>\n",
              "      <td>190871</td>\n",
              "      <td>Neymar Jr</td>\n",
              "      <td>26</td>\n",
              "      <td>https://cdn.sofifa.org/players/4/19/190871.png</td>\n",
              "      <td>Brazil</td>\n",
              "      <td>https://cdn.sofifa.org/flags/54.png</td>\n",
              "      <td>92</td>\n",
              "      <td>93</td>\n",
              "      <td>Paris Saint-Germain</td>\n",
              "      <td>https://cdn.sofifa.org/teams/2/light/73.png</td>\n",
              "      <td>€118.5M</td>\n",
              "      <td>€290K</td>\n",
              "      <td>2143</td>\n",
              "      <td>Right</td>\n",
              "      <td>5.0</td>\n",
              "      <td>5.0</td>\n",
              "      <td>5.0</td>\n",
              "      <td>High/ Medium</td>\n",
              "      <td>Neymar</td>\n",
              "      <td>Yes</td>\n",
              "      <td>LW</td>\n",
              "      <td>10.0</td>\n",
              "      <td>Aug 3, 2017</td>\n",
              "      <td>NaN</td>\n",
              "      <td>2022</td>\n",
              "      <td>5'9</td>\n",
              "      <td>150lbs</td>\n",
              "      <td>84+3</td>\n",
              "      <td>84+3</td>\n",
              "      <td>84+3</td>\n",
              "      <td>89+3</td>\n",
              "      <td>89+3</td>\n",
              "      <td>89+3</td>\n",
              "      <td>89+3</td>\n",
              "      <td>89+3</td>\n",
              "      <td>89+3</td>\n",
              "      <td>89+3</td>\n",
              "      <td>89+3</td>\n",
              "      <td>88+3</td>\n",
              "      <td>81+3</td>\n",
              "      <td>81+3</td>\n",
              "      <td>81+3</td>\n",
              "      <td>88+3</td>\n",
              "      <td>65+3</td>\n",
              "      <td>60+3</td>\n",
              "      <td>60+3</td>\n",
              "      <td>60+3</td>\n",
              "      <td>65+3</td>\n",
              "      <td>60+3</td>\n",
              "      <td>47+3</td>\n",
              "      <td>47+3</td>\n",
              "      <td>47+3</td>\n",
              "      <td>60+3</td>\n",
              "      <td>79.0</td>\n",
              "      <td>87.0</td>\n",
              "      <td>62.0</td>\n",
              "      <td>84.0</td>\n",
              "      <td>84.0</td>\n",
              "      <td>96.0</td>\n",
              "      <td>88.0</td>\n",
              "      <td>87.0</td>\n",
              "      <td>78.0</td>\n",
              "      <td>95.0</td>\n",
              "      <td>94.0</td>\n",
              "      <td>90.0</td>\n",
              "      <td>96.0</td>\n",
              "      <td>94.0</td>\n",
              "      <td>84.0</td>\n",
              "      <td>80.0</td>\n",
              "      <td>61.0</td>\n",
              "      <td>81.0</td>\n",
              "      <td>49.0</td>\n",
              "      <td>82.0</td>\n",
              "      <td>56.0</td>\n",
              "      <td>36.0</td>\n",
              "      <td>89.0</td>\n",
              "      <td>87.0</td>\n",
              "      <td>81.0</td>\n",
              "      <td>94.0</td>\n",
              "      <td>27.0</td>\n",
              "      <td>24.0</td>\n",
              "      <td>33.0</td>\n",
              "      <td>9.0</td>\n",
              "      <td>9.0</td>\n",
              "      <td>15.0</td>\n",
              "      <td>15.0</td>\n",
              "      <td>11.0</td>\n",
              "      <td>€228.1M</td>\n",
              "    </tr>\n",
              "    <tr>\n",
              "      <th>3</th>\n",
              "      <td>3</td>\n",
              "      <td>193080</td>\n",
              "      <td>De Gea</td>\n",
              "      <td>27</td>\n",
              "      <td>https://cdn.sofifa.org/players/4/19/193080.png</td>\n",
              "      <td>Spain</td>\n",
              "      <td>https://cdn.sofifa.org/flags/45.png</td>\n",
              "      <td>91</td>\n",
              "      <td>93</td>\n",
              "      <td>Manchester United</td>\n",
              "      <td>https://cdn.sofifa.org/teams/2/light/11.png</td>\n",
              "      <td>€72M</td>\n",
              "      <td>€260K</td>\n",
              "      <td>1471</td>\n",
              "      <td>Right</td>\n",
              "      <td>4.0</td>\n",
              "      <td>3.0</td>\n",
              "      <td>1.0</td>\n",
              "      <td>Medium/ Medium</td>\n",
              "      <td>Lean</td>\n",
              "      <td>Yes</td>\n",
              "      <td>GK</td>\n",
              "      <td>1.0</td>\n",
              "      <td>Jul 1, 2011</td>\n",
              "      <td>NaN</td>\n",
              "      <td>2020</td>\n",
              "      <td>6'4</td>\n",
              "      <td>168lbs</td>\n",
              "      <td>NaN</td>\n",
              "      <td>NaN</td>\n",
              "      <td>NaN</td>\n",
              "      <td>NaN</td>\n",
              "      <td>NaN</td>\n",
              "      <td>NaN</td>\n",
              "      <td>NaN</td>\n",
              "      <td>NaN</td>\n",
              "      <td>NaN</td>\n",
              "      <td>NaN</td>\n",
              "      <td>NaN</td>\n",
              "      <td>NaN</td>\n",
              "      <td>NaN</td>\n",
              "      <td>NaN</td>\n",
              "      <td>NaN</td>\n",
              "      <td>NaN</td>\n",
              "      <td>NaN</td>\n",
              "      <td>NaN</td>\n",
              "      <td>NaN</td>\n",
              "      <td>NaN</td>\n",
              "      <td>NaN</td>\n",
              "      <td>NaN</td>\n",
              "      <td>NaN</td>\n",
              "      <td>NaN</td>\n",
              "      <td>NaN</td>\n",
              "      <td>NaN</td>\n",
              "      <td>17.0</td>\n",
              "      <td>13.0</td>\n",
              "      <td>21.0</td>\n",
              "      <td>50.0</td>\n",
              "      <td>13.0</td>\n",
              "      <td>18.0</td>\n",
              "      <td>21.0</td>\n",
              "      <td>19.0</td>\n",
              "      <td>51.0</td>\n",
              "      <td>42.0</td>\n",
              "      <td>57.0</td>\n",
              "      <td>58.0</td>\n",
              "      <td>60.0</td>\n",
              "      <td>90.0</td>\n",
              "      <td>43.0</td>\n",
              "      <td>31.0</td>\n",
              "      <td>67.0</td>\n",
              "      <td>43.0</td>\n",
              "      <td>64.0</td>\n",
              "      <td>12.0</td>\n",
              "      <td>38.0</td>\n",
              "      <td>30.0</td>\n",
              "      <td>12.0</td>\n",
              "      <td>68.0</td>\n",
              "      <td>40.0</td>\n",
              "      <td>68.0</td>\n",
              "      <td>15.0</td>\n",
              "      <td>21.0</td>\n",
              "      <td>13.0</td>\n",
              "      <td>90.0</td>\n",
              "      <td>85.0</td>\n",
              "      <td>87.0</td>\n",
              "      <td>88.0</td>\n",
              "      <td>94.0</td>\n",
              "      <td>€138.6M</td>\n",
              "    </tr>\n",
              "    <tr>\n",
              "      <th>4</th>\n",
              "      <td>4</td>\n",
              "      <td>192985</td>\n",
              "      <td>K. De Bruyne</td>\n",
              "      <td>27</td>\n",
              "      <td>https://cdn.sofifa.org/players/4/19/192985.png</td>\n",
              "      <td>Belgium</td>\n",
              "      <td>https://cdn.sofifa.org/flags/7.png</td>\n",
              "      <td>91</td>\n",
              "      <td>92</td>\n",
              "      <td>Manchester City</td>\n",
              "      <td>https://cdn.sofifa.org/teams/2/light/10.png</td>\n",
              "      <td>€102M</td>\n",
              "      <td>€355K</td>\n",
              "      <td>2281</td>\n",
              "      <td>Right</td>\n",
              "      <td>4.0</td>\n",
              "      <td>5.0</td>\n",
              "      <td>4.0</td>\n",
              "      <td>High/ High</td>\n",
              "      <td>Normal</td>\n",
              "      <td>Yes</td>\n",
              "      <td>RCM</td>\n",
              "      <td>7.0</td>\n",
              "      <td>Aug 30, 2015</td>\n",
              "      <td>NaN</td>\n",
              "      <td>2023</td>\n",
              "      <td>5'11</td>\n",
              "      <td>154lbs</td>\n",
              "      <td>82+3</td>\n",
              "      <td>82+3</td>\n",
              "      <td>82+3</td>\n",
              "      <td>87+3</td>\n",
              "      <td>87+3</td>\n",
              "      <td>87+3</td>\n",
              "      <td>87+3</td>\n",
              "      <td>87+3</td>\n",
              "      <td>88+3</td>\n",
              "      <td>88+3</td>\n",
              "      <td>88+3</td>\n",
              "      <td>88+3</td>\n",
              "      <td>87+3</td>\n",
              "      <td>87+3</td>\n",
              "      <td>87+3</td>\n",
              "      <td>88+3</td>\n",
              "      <td>77+3</td>\n",
              "      <td>77+3</td>\n",
              "      <td>77+3</td>\n",
              "      <td>77+3</td>\n",
              "      <td>77+3</td>\n",
              "      <td>73+3</td>\n",
              "      <td>66+3</td>\n",
              "      <td>66+3</td>\n",
              "      <td>66+3</td>\n",
              "      <td>73+3</td>\n",
              "      <td>93.0</td>\n",
              "      <td>82.0</td>\n",
              "      <td>55.0</td>\n",
              "      <td>92.0</td>\n",
              "      <td>82.0</td>\n",
              "      <td>86.0</td>\n",
              "      <td>85.0</td>\n",
              "      <td>83.0</td>\n",
              "      <td>91.0</td>\n",
              "      <td>91.0</td>\n",
              "      <td>78.0</td>\n",
              "      <td>76.0</td>\n",
              "      <td>79.0</td>\n",
              "      <td>91.0</td>\n",
              "      <td>77.0</td>\n",
              "      <td>91.0</td>\n",
              "      <td>63.0</td>\n",
              "      <td>90.0</td>\n",
              "      <td>75.0</td>\n",
              "      <td>91.0</td>\n",
              "      <td>76.0</td>\n",
              "      <td>61.0</td>\n",
              "      <td>87.0</td>\n",
              "      <td>94.0</td>\n",
              "      <td>79.0</td>\n",
              "      <td>88.0</td>\n",
              "      <td>68.0</td>\n",
              "      <td>58.0</td>\n",
              "      <td>51.0</td>\n",
              "      <td>15.0</td>\n",
              "      <td>13.0</td>\n",
              "      <td>5.0</td>\n",
              "      <td>10.0</td>\n",
              "      <td>13.0</td>\n",
              "      <td>€196.4M</td>\n",
              "    </tr>\n",
              "  </tbody>\n",
              "</table>\n",
              "</div>\n",
              "      <button class=\"colab-df-convert\" onclick=\"convertToInteractive('df-16e683bd-961b-4cf6-81cd-de2718e97ac5')\"\n",
              "              title=\"Convert this dataframe to an interactive table.\"\n",
              "              style=\"display:none;\">\n",
              "        \n",
              "  <svg xmlns=\"http://www.w3.org/2000/svg\" height=\"24px\"viewBox=\"0 0 24 24\"\n",
              "       width=\"24px\">\n",
              "    <path d=\"M0 0h24v24H0V0z\" fill=\"none\"/>\n",
              "    <path d=\"M18.56 5.44l.94 2.06.94-2.06 2.06-.94-2.06-.94-.94-2.06-.94 2.06-2.06.94zm-11 1L8.5 8.5l.94-2.06 2.06-.94-2.06-.94L8.5 2.5l-.94 2.06-2.06.94zm10 10l.94 2.06.94-2.06 2.06-.94-2.06-.94-.94-2.06-.94 2.06-2.06.94z\"/><path d=\"M17.41 7.96l-1.37-1.37c-.4-.4-.92-.59-1.43-.59-.52 0-1.04.2-1.43.59L10.3 9.45l-7.72 7.72c-.78.78-.78 2.05 0 2.83L4 21.41c.39.39.9.59 1.41.59.51 0 1.02-.2 1.41-.59l7.78-7.78 2.81-2.81c.8-.78.8-2.07 0-2.86zM5.41 20L4 18.59l7.72-7.72 1.47 1.35L5.41 20z\"/>\n",
              "  </svg>\n",
              "      </button>\n",
              "      \n",
              "  <style>\n",
              "    .colab-df-container {\n",
              "      display:flex;\n",
              "      flex-wrap:wrap;\n",
              "      gap: 12px;\n",
              "    }\n",
              "\n",
              "    .colab-df-convert {\n",
              "      background-color: #E8F0FE;\n",
              "      border: none;\n",
              "      border-radius: 50%;\n",
              "      cursor: pointer;\n",
              "      display: none;\n",
              "      fill: #1967D2;\n",
              "      height: 32px;\n",
              "      padding: 0 0 0 0;\n",
              "      width: 32px;\n",
              "    }\n",
              "\n",
              "    .colab-df-convert:hover {\n",
              "      background-color: #E2EBFA;\n",
              "      box-shadow: 0px 1px 2px rgba(60, 64, 67, 0.3), 0px 1px 3px 1px rgba(60, 64, 67, 0.15);\n",
              "      fill: #174EA6;\n",
              "    }\n",
              "\n",
              "    [theme=dark] .colab-df-convert {\n",
              "      background-color: #3B4455;\n",
              "      fill: #D2E3FC;\n",
              "    }\n",
              "\n",
              "    [theme=dark] .colab-df-convert:hover {\n",
              "      background-color: #434B5C;\n",
              "      box-shadow: 0px 1px 3px 1px rgba(0, 0, 0, 0.15);\n",
              "      filter: drop-shadow(0px 1px 2px rgba(0, 0, 0, 0.3));\n",
              "      fill: #FFFFFF;\n",
              "    }\n",
              "  </style>\n",
              "\n",
              "      <script>\n",
              "        const buttonEl =\n",
              "          document.querySelector('#df-16e683bd-961b-4cf6-81cd-de2718e97ac5 button.colab-df-convert');\n",
              "        buttonEl.style.display =\n",
              "          google.colab.kernel.accessAllowed ? 'block' : 'none';\n",
              "\n",
              "        async function convertToInteractive(key) {\n",
              "          const element = document.querySelector('#df-16e683bd-961b-4cf6-81cd-de2718e97ac5');\n",
              "          const dataTable =\n",
              "            await google.colab.kernel.invokeFunction('convertToInteractive',\n",
              "                                                     [key], {});\n",
              "          if (!dataTable) return;\n",
              "\n",
              "          const docLinkHtml = 'Like what you see? Visit the ' +\n",
              "            '<a target=\"_blank\" href=https://colab.research.google.com/notebooks/data_table.ipynb>data table notebook</a>'\n",
              "            + ' to learn more about interactive tables.';\n",
              "          element.innerHTML = '';\n",
              "          dataTable['output_type'] = 'display_data';\n",
              "          await google.colab.output.renderOutput(dataTable, element);\n",
              "          const docLink = document.createElement('div');\n",
              "          docLink.innerHTML = docLinkHtml;\n",
              "          element.appendChild(docLink);\n",
              "        }\n",
              "      </script>\n",
              "    </div>\n",
              "  </div>\n",
              "  "
            ],
            "text/plain": [
              "   Unnamed: 0      ID               Name  Age  \\\n",
              "0           0  158023           L. Messi   31   \n",
              "1           1   20801  Cristiano Ronaldo   33   \n",
              "2           2  190871          Neymar Jr   26   \n",
              "3           3  193080             De Gea   27   \n",
              "4           4  192985       K. De Bruyne   27   \n",
              "\n",
              "                                            Photo Nationality  \\\n",
              "0  https://cdn.sofifa.org/players/4/19/158023.png   Argentina   \n",
              "1   https://cdn.sofifa.org/players/4/19/20801.png    Portugal   \n",
              "2  https://cdn.sofifa.org/players/4/19/190871.png      Brazil   \n",
              "3  https://cdn.sofifa.org/players/4/19/193080.png       Spain   \n",
              "4  https://cdn.sofifa.org/players/4/19/192985.png     Belgium   \n",
              "\n",
              "                                  Flag  Overall  Potential  \\\n",
              "0  https://cdn.sofifa.org/flags/52.png       94         94   \n",
              "1  https://cdn.sofifa.org/flags/38.png       94         94   \n",
              "2  https://cdn.sofifa.org/flags/54.png       92         93   \n",
              "3  https://cdn.sofifa.org/flags/45.png       91         93   \n",
              "4   https://cdn.sofifa.org/flags/7.png       91         92   \n",
              "\n",
              "                  Club                                     Club Logo    Value  \\\n",
              "0         FC Barcelona  https://cdn.sofifa.org/teams/2/light/241.png  €110.5M   \n",
              "1             Juventus   https://cdn.sofifa.org/teams/2/light/45.png     €77M   \n",
              "2  Paris Saint-Germain   https://cdn.sofifa.org/teams/2/light/73.png  €118.5M   \n",
              "3    Manchester United   https://cdn.sofifa.org/teams/2/light/11.png     €72M   \n",
              "4      Manchester City   https://cdn.sofifa.org/teams/2/light/10.png    €102M   \n",
              "\n",
              "    Wage  Special Preferred Foot  International Reputation  Weak Foot  \\\n",
              "0  €565K     2202           Left                       5.0        4.0   \n",
              "1  €405K     2228          Right                       5.0        4.0   \n",
              "2  €290K     2143          Right                       5.0        5.0   \n",
              "3  €260K     1471          Right                       4.0        3.0   \n",
              "4  €355K     2281          Right                       4.0        5.0   \n",
              "\n",
              "   Skill Moves       Work Rate   Body Type Real Face Position  Jersey Number  \\\n",
              "0          4.0  Medium/ Medium       Messi       Yes       RF           10.0   \n",
              "1          5.0       High/ Low  C. Ronaldo       Yes       ST            7.0   \n",
              "2          5.0    High/ Medium      Neymar       Yes       LW           10.0   \n",
              "3          1.0  Medium/ Medium        Lean       Yes       GK            1.0   \n",
              "4          4.0      High/ High      Normal       Yes      RCM            7.0   \n",
              "\n",
              "         Joined Loaned From Contract Valid Until Height  Weight    LS    ST  \\\n",
              "0   Jul 1, 2004         NaN                 2021    5'7  159lbs  88+2  88+2   \n",
              "1  Jul 10, 2018         NaN                 2022    6'2  183lbs  91+3  91+3   \n",
              "2   Aug 3, 2017         NaN                 2022    5'9  150lbs  84+3  84+3   \n",
              "3   Jul 1, 2011         NaN                 2020    6'4  168lbs   NaN   NaN   \n",
              "4  Aug 30, 2015         NaN                 2023   5'11  154lbs  82+3  82+3   \n",
              "\n",
              "     RS    LW    LF    CF    RF    RW   LAM   CAM   RAM    LM   LCM    CM  \\\n",
              "0  88+2  92+2  93+2  93+2  93+2  92+2  93+2  93+2  93+2  91+2  84+2  84+2   \n",
              "1  91+3  89+3  90+3  90+3  90+3  89+3  88+3  88+3  88+3  88+3  81+3  81+3   \n",
              "2  84+3  89+3  89+3  89+3  89+3  89+3  89+3  89+3  89+3  88+3  81+3  81+3   \n",
              "3   NaN   NaN   NaN   NaN   NaN   NaN   NaN   NaN   NaN   NaN   NaN   NaN   \n",
              "4  82+3  87+3  87+3  87+3  87+3  87+3  88+3  88+3  88+3  88+3  87+3  87+3   \n",
              "\n",
              "    RCM    RM   LWB   LDM   CDM   RDM   RWB    LB   LCB    CB   RCB    RB  \\\n",
              "0  84+2  91+2  64+2  61+2  61+2  61+2  64+2  59+2  47+2  47+2  47+2  59+2   \n",
              "1  81+3  88+3  65+3  61+3  61+3  61+3  65+3  61+3  53+3  53+3  53+3  61+3   \n",
              "2  81+3  88+3  65+3  60+3  60+3  60+3  65+3  60+3  47+3  47+3  47+3  60+3   \n",
              "3   NaN   NaN   NaN   NaN   NaN   NaN   NaN   NaN   NaN   NaN   NaN   NaN   \n",
              "4  87+3  88+3  77+3  77+3  77+3  77+3  77+3  73+3  66+3  66+3  66+3  73+3   \n",
              "\n",
              "   Crossing  Finishing  HeadingAccuracy  ShortPassing  Volleys  Dribbling  \\\n",
              "0      84.0       95.0             70.0          90.0     86.0       97.0   \n",
              "1      84.0       94.0             89.0          81.0     87.0       88.0   \n",
              "2      79.0       87.0             62.0          84.0     84.0       96.0   \n",
              "3      17.0       13.0             21.0          50.0     13.0       18.0   \n",
              "4      93.0       82.0             55.0          92.0     82.0       86.0   \n",
              "\n",
              "   Curve  FKAccuracy  LongPassing  BallControl  Acceleration  SprintSpeed  \\\n",
              "0   93.0        94.0         87.0         96.0          91.0         86.0   \n",
              "1   81.0        76.0         77.0         94.0          89.0         91.0   \n",
              "2   88.0        87.0         78.0         95.0          94.0         90.0   \n",
              "3   21.0        19.0         51.0         42.0          57.0         58.0   \n",
              "4   85.0        83.0         91.0         91.0          78.0         76.0   \n",
              "\n",
              "   Agility  Reactions  Balance  ShotPower  Jumping  Stamina  Strength  \\\n",
              "0     91.0       95.0     95.0       85.0     68.0     72.0      59.0   \n",
              "1     87.0       96.0     70.0       95.0     95.0     88.0      79.0   \n",
              "2     96.0       94.0     84.0       80.0     61.0     81.0      49.0   \n",
              "3     60.0       90.0     43.0       31.0     67.0     43.0      64.0   \n",
              "4     79.0       91.0     77.0       91.0     63.0     90.0      75.0   \n",
              "\n",
              "   LongShots  Aggression  Interceptions  Positioning  Vision  Penalties  \\\n",
              "0       94.0        48.0           22.0         94.0    94.0       75.0   \n",
              "1       93.0        63.0           29.0         95.0    82.0       85.0   \n",
              "2       82.0        56.0           36.0         89.0    87.0       81.0   \n",
              "3       12.0        38.0           30.0         12.0    68.0       40.0   \n",
              "4       91.0        76.0           61.0         87.0    94.0       79.0   \n",
              "\n",
              "   Composure  Marking  StandingTackle  SlidingTackle  GKDiving  GKHandling  \\\n",
              "0       96.0     33.0            28.0           26.0       6.0        11.0   \n",
              "1       95.0     28.0            31.0           23.0       7.0        11.0   \n",
              "2       94.0     27.0            24.0           33.0       9.0         9.0   \n",
              "3       68.0     15.0            21.0           13.0      90.0        85.0   \n",
              "4       88.0     68.0            58.0           51.0      15.0        13.0   \n",
              "\n",
              "   GKKicking  GKPositioning  GKReflexes Release Clause  \n",
              "0       15.0           14.0         8.0        €226.5M  \n",
              "1       15.0           14.0        11.0        €127.1M  \n",
              "2       15.0           15.0        11.0        €228.1M  \n",
              "3       87.0           88.0        94.0        €138.6M  \n",
              "4        5.0           10.0        13.0        €196.4M  "
            ]
          },
          "metadata": {},
          "execution_count": 320
        }
      ],
      "source": [
        "data = pd.read_csv('https://raw.githubusercontent.com/leandrodinizsilva/tp-icd/main/data.csv', sep=',', header=0)\n",
        "data.head()"
      ]
    },
    {
      "cell_type": "markdown",
      "source": [
        "#Metodologia\n",
        "\n",
        "\n",
        "**Fifa 19 - Descrição:**  \n",
        "\n",
        "A base original apresenta várias colunas contendo informações dos jogadores cadastrados no Fifa 19, tais como time, idade, salário, altura, etc. \n",
        "\n",
        "Fonte: https://www.kaggle.com/karangadiya/fifa19\n"
      ],
      "metadata": {
        "id": "0g5LHcDcvN1z"
      }
    },
    {
      "cell_type": "markdown",
      "metadata": {
        "id": "ok0VZd4E9jnq"
      },
      "source": [
        "## Processamento de dados\n",
        "\n",
        "Foi necessário remover colunas com dados irrelevantes e converter algumas para tipo numérico, visando facilitar o nosso objeto de estudo."
      ]
    },
    {
      "cell_type": "code",
      "execution_count": 321,
      "metadata": {
        "id": "S3oSiCdferSB"
      },
      "outputs": [],
      "source": [
        "#retirando colunas irrelavantes\n",
        "data.drop(['Unnamed: 0','ID','Photo', 'Flag', 'Club Logo', 'Loaned From'], axis=1, inplace=True)\n",
        "cols = [i for i in range(22,49)]\n",
        "data.drop(data.columns[cols], axis = 1, inplace=True)\n",
        "\n",
        "#arrumando a altura e o peso\n",
        "pd.options.display.max_columns = 90\n",
        "data['Weight'] =  data['Weight'].str[:3].astype(float) /  2.205\n",
        "data['Height(cm)'] = data['Height'].str.split(\"'\") \n",
        "data['Height'] = (12 * data['Height(cm)'].str[0].astype(float) + data['Height(cm)'].str[1].astype(float)) * 2.54\n",
        "data.drop(['Height(cm)'], axis=1, inplace=True)\n",
        "data.rename({'Height': 'Height (cm)', 'Weight': 'Weight (kg)'},axis=1, inplace=True)\n"
      ]
    },
    {
      "cell_type": "code",
      "execution_count": 322,
      "metadata": {
        "id": "AouFNrBayDBz"
      },
      "outputs": [],
      "source": [
        "#arrumando o valor, salário e cláusula de quebra\n",
        "s = pd.Series(['Value','Wage','Release Clause'])\n",
        "for i in s:\n",
        "  data['aux1'] = data[i].str.extract('(€\\d+)')\n",
        "  data['aux1'] = data['aux1'].str.extract('(\\d+)')\n",
        "  data['aux1'] = data['aux1'].astype(float)\n",
        "  data['aux2'] = data[i].str.extract('(\\.\\d+)')\n",
        "  data['aux2'].fillna(0, inplace=True)\n",
        "  data['aux2'] = data['aux2'].astype(float)\n",
        "  data[i] = data['aux1'] + data['aux2']\n",
        "  data.drop(['aux1', 'aux2'],axis=1,inplace=True)"
      ]
    },
    {
      "cell_type": "code",
      "execution_count": 323,
      "metadata": {
        "colab": {
          "base_uri": "https://localhost:8080/"
        },
        "id": "QB9H6TJlzyko",
        "outputId": "a22e5665-1734-470e-d878-ca8f58c6f3aa"
      },
      "outputs": [
        {
          "output_type": "execute_result",
          "data": {
            "text/plain": [
              "{'Lean', 'Normal', 'Stocky', nan}"
            ]
          },
          "metadata": {},
          "execution_count": 323
        }
      ],
      "source": [
        "#Arrumando os tipos corporais\n",
        "data.loc[data['Body Type'] == 'Akinfenwa', 'Body Type'] = 'Stocky'\n",
        "data.loc[data['Body Type'] == 'Neymar', 'Body Type'] = 'Lean'\n",
        "data.loc[data['Body Type'] == 'Messi', 'Body Type'] = 'Lean'\n",
        "data.loc[data['Body Type'] == 'C. Ronaldo', 'Body Type'] = 'Stocky'\n",
        "data.loc[data['Body Type'] == 'Shaqiri', 'Body Type'] = 'Stocky'\n",
        "data.loc[data['Body Type'] == 'Courtois', 'Body Type'] = 'Normal'\n",
        "data.loc[data['Body Type'] == 'PLAYER_BODY_TYPE_25', 'Body Type'] = 'Normal'\n",
        "\n",
        "#Agora só há três tipos\n",
        "set(data['Body Type'])"
      ]
    },
    {
      "cell_type": "code",
      "execution_count": 324,
      "metadata": {
        "colab": {
          "base_uri": "https://localhost:8080/"
        },
        "id": "Z3KzRV8H7hJA",
        "outputId": "8eb5fcb9-8dda-403a-af49-97f625fa4c14"
      },
      "outputs": [
        {
          "output_type": "execute_result",
          "data": {
            "text/plain": [
              "(18207, 56)"
            ]
          },
          "metadata": {},
          "execution_count": 324
        }
      ],
      "source": [
        "#tamanho normal\n",
        "data.shape"
      ]
    },
    {
      "cell_type": "code",
      "execution_count": 325,
      "metadata": {
        "colab": {
          "base_uri": "https://localhost:8080/"
        },
        "id": "w5A9657gD-cu",
        "outputId": "8c492263-7d7b-4199-d632-724677a78ea9"
      },
      "outputs": [
        {
          "output_type": "execute_result",
          "data": {
            "text/plain": [
              "(16643, 56)"
            ]
          },
          "metadata": {},
          "execution_count": 325
        }
      ],
      "source": [
        "#tamanho depois de remover os nulos (diferença de ~1500)\n",
        "data = data.dropna()\n",
        "data.shape"
      ]
    },
    {
      "cell_type": "markdown",
      "source": [
        "A base de dados após o processamento possui 16643 linhas e 56 colunas."
      ],
      "metadata": {
        "id": "YRowoGfHxWXT"
      }
    },
    {
      "cell_type": "markdown",
      "metadata": {
        "id": "rYdAugn3d1kE"
      },
      "source": [
        "# Análise Exploratória de Dados"
      ]
    },
    {
      "cell_type": "code",
      "execution_count": 326,
      "metadata": {
        "colab": {
          "base_uri": "https://localhost:8080/",
          "height": 409
        },
        "id": "f90_S5Fn9c8q",
        "outputId": "49b31f79-9625-4853-f0e8-1e6c942e69e4"
      },
      "outputs": [
        {
          "output_type": "display_data",
          "data": {
            "text/html": [
              "\n",
              "  <div id=\"df-f3a34336-9245-4918-8cd7-f8b701b1e3a1\">\n",
              "    <div class=\"colab-df-container\">\n",
              "      <div>\n",
              "<style scoped>\n",
              "    .dataframe tbody tr th:only-of-type {\n",
              "        vertical-align: middle;\n",
              "    }\n",
              "\n",
              "    .dataframe tbody tr th {\n",
              "        vertical-align: top;\n",
              "    }\n",
              "\n",
              "    .dataframe thead th {\n",
              "        text-align: right;\n",
              "    }\n",
              "</style>\n",
              "<table border=\"1\" class=\"dataframe\">\n",
              "  <thead>\n",
              "    <tr style=\"text-align: right;\">\n",
              "      <th></th>\n",
              "      <th>Name</th>\n",
              "      <th>Age</th>\n",
              "      <th>Nationality</th>\n",
              "      <th>Overall</th>\n",
              "      <th>Potential</th>\n",
              "      <th>Club</th>\n",
              "      <th>Value</th>\n",
              "      <th>Wage</th>\n",
              "      <th>Special</th>\n",
              "      <th>Preferred Foot</th>\n",
              "      <th>International Reputation</th>\n",
              "      <th>Weak Foot</th>\n",
              "      <th>Skill Moves</th>\n",
              "      <th>Work Rate</th>\n",
              "      <th>Body Type</th>\n",
              "      <th>Real Face</th>\n",
              "      <th>Position</th>\n",
              "      <th>Jersey Number</th>\n",
              "      <th>Joined</th>\n",
              "      <th>Contract Valid Until</th>\n",
              "      <th>Height (cm)</th>\n",
              "      <th>Weight (kg)</th>\n",
              "      <th>Finishing</th>\n",
              "      <th>HeadingAccuracy</th>\n",
              "      <th>ShortPassing</th>\n",
              "      <th>Volleys</th>\n",
              "      <th>Dribbling</th>\n",
              "      <th>Curve</th>\n",
              "      <th>FKAccuracy</th>\n",
              "      <th>LongPassing</th>\n",
              "      <th>BallControl</th>\n",
              "      <th>Acceleration</th>\n",
              "      <th>SprintSpeed</th>\n",
              "      <th>Agility</th>\n",
              "      <th>Reactions</th>\n",
              "      <th>Balance</th>\n",
              "      <th>ShotPower</th>\n",
              "      <th>Jumping</th>\n",
              "      <th>Stamina</th>\n",
              "      <th>Strength</th>\n",
              "      <th>LongShots</th>\n",
              "      <th>Aggression</th>\n",
              "      <th>Interceptions</th>\n",
              "      <th>Positioning</th>\n",
              "      <th>Vision</th>\n",
              "      <th>Penalties</th>\n",
              "      <th>Composure</th>\n",
              "      <th>Marking</th>\n",
              "      <th>StandingTackle</th>\n",
              "      <th>SlidingTackle</th>\n",
              "      <th>GKDiving</th>\n",
              "      <th>GKHandling</th>\n",
              "      <th>GKKicking</th>\n",
              "      <th>GKPositioning</th>\n",
              "      <th>GKReflexes</th>\n",
              "      <th>Release Clause</th>\n",
              "    </tr>\n",
              "  </thead>\n",
              "  <tbody>\n",
              "    <tr>\n",
              "      <th>0</th>\n",
              "      <td>L. Messi</td>\n",
              "      <td>31</td>\n",
              "      <td>Argentina</td>\n",
              "      <td>94</td>\n",
              "      <td>94</td>\n",
              "      <td>FC Barcelona</td>\n",
              "      <td>110.5</td>\n",
              "      <td>565.0</td>\n",
              "      <td>2202</td>\n",
              "      <td>Left</td>\n",
              "      <td>5.0</td>\n",
              "      <td>4.0</td>\n",
              "      <td>4.0</td>\n",
              "      <td>Medium/ Medium</td>\n",
              "      <td>Lean</td>\n",
              "      <td>Yes</td>\n",
              "      <td>RF</td>\n",
              "      <td>10.0</td>\n",
              "      <td>Jul 1, 2004</td>\n",
              "      <td>2021</td>\n",
              "      <td>170.18</td>\n",
              "      <td>72.108844</td>\n",
              "      <td>95.0</td>\n",
              "      <td>70.0</td>\n",
              "      <td>90.0</td>\n",
              "      <td>86.0</td>\n",
              "      <td>97.0</td>\n",
              "      <td>93.0</td>\n",
              "      <td>94.0</td>\n",
              "      <td>87.0</td>\n",
              "      <td>96.0</td>\n",
              "      <td>91.0</td>\n",
              "      <td>86.0</td>\n",
              "      <td>91.0</td>\n",
              "      <td>95.0</td>\n",
              "      <td>95.0</td>\n",
              "      <td>85.0</td>\n",
              "      <td>68.0</td>\n",
              "      <td>72.0</td>\n",
              "      <td>59.0</td>\n",
              "      <td>94.0</td>\n",
              "      <td>48.0</td>\n",
              "      <td>22.0</td>\n",
              "      <td>94.0</td>\n",
              "      <td>94.0</td>\n",
              "      <td>75.0</td>\n",
              "      <td>96.0</td>\n",
              "      <td>33.0</td>\n",
              "      <td>28.0</td>\n",
              "      <td>26.0</td>\n",
              "      <td>6.0</td>\n",
              "      <td>11.0</td>\n",
              "      <td>15.0</td>\n",
              "      <td>14.0</td>\n",
              "      <td>8.0</td>\n",
              "      <td>226.5</td>\n",
              "    </tr>\n",
              "    <tr>\n",
              "      <th>1</th>\n",
              "      <td>Cristiano Ronaldo</td>\n",
              "      <td>33</td>\n",
              "      <td>Portugal</td>\n",
              "      <td>94</td>\n",
              "      <td>94</td>\n",
              "      <td>Juventus</td>\n",
              "      <td>77.0</td>\n",
              "      <td>405.0</td>\n",
              "      <td>2228</td>\n",
              "      <td>Right</td>\n",
              "      <td>5.0</td>\n",
              "      <td>4.0</td>\n",
              "      <td>5.0</td>\n",
              "      <td>High/ Low</td>\n",
              "      <td>Stocky</td>\n",
              "      <td>Yes</td>\n",
              "      <td>ST</td>\n",
              "      <td>7.0</td>\n",
              "      <td>Jul 10, 2018</td>\n",
              "      <td>2022</td>\n",
              "      <td>187.96</td>\n",
              "      <td>82.993197</td>\n",
              "      <td>94.0</td>\n",
              "      <td>89.0</td>\n",
              "      <td>81.0</td>\n",
              "      <td>87.0</td>\n",
              "      <td>88.0</td>\n",
              "      <td>81.0</td>\n",
              "      <td>76.0</td>\n",
              "      <td>77.0</td>\n",
              "      <td>94.0</td>\n",
              "      <td>89.0</td>\n",
              "      <td>91.0</td>\n",
              "      <td>87.0</td>\n",
              "      <td>96.0</td>\n",
              "      <td>70.0</td>\n",
              "      <td>95.0</td>\n",
              "      <td>95.0</td>\n",
              "      <td>88.0</td>\n",
              "      <td>79.0</td>\n",
              "      <td>93.0</td>\n",
              "      <td>63.0</td>\n",
              "      <td>29.0</td>\n",
              "      <td>95.0</td>\n",
              "      <td>82.0</td>\n",
              "      <td>85.0</td>\n",
              "      <td>95.0</td>\n",
              "      <td>28.0</td>\n",
              "      <td>31.0</td>\n",
              "      <td>23.0</td>\n",
              "      <td>7.0</td>\n",
              "      <td>11.0</td>\n",
              "      <td>15.0</td>\n",
              "      <td>14.0</td>\n",
              "      <td>11.0</td>\n",
              "      <td>127.1</td>\n",
              "    </tr>\n",
              "    <tr>\n",
              "      <th>2</th>\n",
              "      <td>Neymar Jr</td>\n",
              "      <td>26</td>\n",
              "      <td>Brazil</td>\n",
              "      <td>92</td>\n",
              "      <td>93</td>\n",
              "      <td>Paris Saint-Germain</td>\n",
              "      <td>118.5</td>\n",
              "      <td>290.0</td>\n",
              "      <td>2143</td>\n",
              "      <td>Right</td>\n",
              "      <td>5.0</td>\n",
              "      <td>5.0</td>\n",
              "      <td>5.0</td>\n",
              "      <td>High/ Medium</td>\n",
              "      <td>Lean</td>\n",
              "      <td>Yes</td>\n",
              "      <td>LW</td>\n",
              "      <td>10.0</td>\n",
              "      <td>Aug 3, 2017</td>\n",
              "      <td>2022</td>\n",
              "      <td>175.26</td>\n",
              "      <td>68.027211</td>\n",
              "      <td>87.0</td>\n",
              "      <td>62.0</td>\n",
              "      <td>84.0</td>\n",
              "      <td>84.0</td>\n",
              "      <td>96.0</td>\n",
              "      <td>88.0</td>\n",
              "      <td>87.0</td>\n",
              "      <td>78.0</td>\n",
              "      <td>95.0</td>\n",
              "      <td>94.0</td>\n",
              "      <td>90.0</td>\n",
              "      <td>96.0</td>\n",
              "      <td>94.0</td>\n",
              "      <td>84.0</td>\n",
              "      <td>80.0</td>\n",
              "      <td>61.0</td>\n",
              "      <td>81.0</td>\n",
              "      <td>49.0</td>\n",
              "      <td>82.0</td>\n",
              "      <td>56.0</td>\n",
              "      <td>36.0</td>\n",
              "      <td>89.0</td>\n",
              "      <td>87.0</td>\n",
              "      <td>81.0</td>\n",
              "      <td>94.0</td>\n",
              "      <td>27.0</td>\n",
              "      <td>24.0</td>\n",
              "      <td>33.0</td>\n",
              "      <td>9.0</td>\n",
              "      <td>9.0</td>\n",
              "      <td>15.0</td>\n",
              "      <td>15.0</td>\n",
              "      <td>11.0</td>\n",
              "      <td>228.1</td>\n",
              "    </tr>\n",
              "    <tr>\n",
              "      <th>3</th>\n",
              "      <td>De Gea</td>\n",
              "      <td>27</td>\n",
              "      <td>Spain</td>\n",
              "      <td>91</td>\n",
              "      <td>93</td>\n",
              "      <td>Manchester United</td>\n",
              "      <td>72.0</td>\n",
              "      <td>260.0</td>\n",
              "      <td>1471</td>\n",
              "      <td>Right</td>\n",
              "      <td>4.0</td>\n",
              "      <td>3.0</td>\n",
              "      <td>1.0</td>\n",
              "      <td>Medium/ Medium</td>\n",
              "      <td>Lean</td>\n",
              "      <td>Yes</td>\n",
              "      <td>GK</td>\n",
              "      <td>1.0</td>\n",
              "      <td>Jul 1, 2011</td>\n",
              "      <td>2020</td>\n",
              "      <td>193.04</td>\n",
              "      <td>76.190476</td>\n",
              "      <td>13.0</td>\n",
              "      <td>21.0</td>\n",
              "      <td>50.0</td>\n",
              "      <td>13.0</td>\n",
              "      <td>18.0</td>\n",
              "      <td>21.0</td>\n",
              "      <td>19.0</td>\n",
              "      <td>51.0</td>\n",
              "      <td>42.0</td>\n",
              "      <td>57.0</td>\n",
              "      <td>58.0</td>\n",
              "      <td>60.0</td>\n",
              "      <td>90.0</td>\n",
              "      <td>43.0</td>\n",
              "      <td>31.0</td>\n",
              "      <td>67.0</td>\n",
              "      <td>43.0</td>\n",
              "      <td>64.0</td>\n",
              "      <td>12.0</td>\n",
              "      <td>38.0</td>\n",
              "      <td>30.0</td>\n",
              "      <td>12.0</td>\n",
              "      <td>68.0</td>\n",
              "      <td>40.0</td>\n",
              "      <td>68.0</td>\n",
              "      <td>15.0</td>\n",
              "      <td>21.0</td>\n",
              "      <td>13.0</td>\n",
              "      <td>90.0</td>\n",
              "      <td>85.0</td>\n",
              "      <td>87.0</td>\n",
              "      <td>88.0</td>\n",
              "      <td>94.0</td>\n",
              "      <td>138.6</td>\n",
              "    </tr>\n",
              "    <tr>\n",
              "      <th>4</th>\n",
              "      <td>K. De Bruyne</td>\n",
              "      <td>27</td>\n",
              "      <td>Belgium</td>\n",
              "      <td>91</td>\n",
              "      <td>92</td>\n",
              "      <td>Manchester City</td>\n",
              "      <td>102.0</td>\n",
              "      <td>355.0</td>\n",
              "      <td>2281</td>\n",
              "      <td>Right</td>\n",
              "      <td>4.0</td>\n",
              "      <td>5.0</td>\n",
              "      <td>4.0</td>\n",
              "      <td>High/ High</td>\n",
              "      <td>Normal</td>\n",
              "      <td>Yes</td>\n",
              "      <td>RCM</td>\n",
              "      <td>7.0</td>\n",
              "      <td>Aug 30, 2015</td>\n",
              "      <td>2023</td>\n",
              "      <td>180.34</td>\n",
              "      <td>69.841270</td>\n",
              "      <td>82.0</td>\n",
              "      <td>55.0</td>\n",
              "      <td>92.0</td>\n",
              "      <td>82.0</td>\n",
              "      <td>86.0</td>\n",
              "      <td>85.0</td>\n",
              "      <td>83.0</td>\n",
              "      <td>91.0</td>\n",
              "      <td>91.0</td>\n",
              "      <td>78.0</td>\n",
              "      <td>76.0</td>\n",
              "      <td>79.0</td>\n",
              "      <td>91.0</td>\n",
              "      <td>77.0</td>\n",
              "      <td>91.0</td>\n",
              "      <td>63.0</td>\n",
              "      <td>90.0</td>\n",
              "      <td>75.0</td>\n",
              "      <td>91.0</td>\n",
              "      <td>76.0</td>\n",
              "      <td>61.0</td>\n",
              "      <td>87.0</td>\n",
              "      <td>94.0</td>\n",
              "      <td>79.0</td>\n",
              "      <td>88.0</td>\n",
              "      <td>68.0</td>\n",
              "      <td>58.0</td>\n",
              "      <td>51.0</td>\n",
              "      <td>15.0</td>\n",
              "      <td>13.0</td>\n",
              "      <td>5.0</td>\n",
              "      <td>10.0</td>\n",
              "      <td>13.0</td>\n",
              "      <td>196.4</td>\n",
              "    </tr>\n",
              "  </tbody>\n",
              "</table>\n",
              "</div>\n",
              "      <button class=\"colab-df-convert\" onclick=\"convertToInteractive('df-f3a34336-9245-4918-8cd7-f8b701b1e3a1')\"\n",
              "              title=\"Convert this dataframe to an interactive table.\"\n",
              "              style=\"display:none;\">\n",
              "        \n",
              "  <svg xmlns=\"http://www.w3.org/2000/svg\" height=\"24px\"viewBox=\"0 0 24 24\"\n",
              "       width=\"24px\">\n",
              "    <path d=\"M0 0h24v24H0V0z\" fill=\"none\"/>\n",
              "    <path d=\"M18.56 5.44l.94 2.06.94-2.06 2.06-.94-2.06-.94-.94-2.06-.94 2.06-2.06.94zm-11 1L8.5 8.5l.94-2.06 2.06-.94-2.06-.94L8.5 2.5l-.94 2.06-2.06.94zm10 10l.94 2.06.94-2.06 2.06-.94-2.06-.94-.94-2.06-.94 2.06-2.06.94z\"/><path d=\"M17.41 7.96l-1.37-1.37c-.4-.4-.92-.59-1.43-.59-.52 0-1.04.2-1.43.59L10.3 9.45l-7.72 7.72c-.78.78-.78 2.05 0 2.83L4 21.41c.39.39.9.59 1.41.59.51 0 1.02-.2 1.41-.59l7.78-7.78 2.81-2.81c.8-.78.8-2.07 0-2.86zM5.41 20L4 18.59l7.72-7.72 1.47 1.35L5.41 20z\"/>\n",
              "  </svg>\n",
              "      </button>\n",
              "      \n",
              "  <style>\n",
              "    .colab-df-container {\n",
              "      display:flex;\n",
              "      flex-wrap:wrap;\n",
              "      gap: 12px;\n",
              "    }\n",
              "\n",
              "    .colab-df-convert {\n",
              "      background-color: #E8F0FE;\n",
              "      border: none;\n",
              "      border-radius: 50%;\n",
              "      cursor: pointer;\n",
              "      display: none;\n",
              "      fill: #1967D2;\n",
              "      height: 32px;\n",
              "      padding: 0 0 0 0;\n",
              "      width: 32px;\n",
              "    }\n",
              "\n",
              "    .colab-df-convert:hover {\n",
              "      background-color: #E2EBFA;\n",
              "      box-shadow: 0px 1px 2px rgba(60, 64, 67, 0.3), 0px 1px 3px 1px rgba(60, 64, 67, 0.15);\n",
              "      fill: #174EA6;\n",
              "    }\n",
              "\n",
              "    [theme=dark] .colab-df-convert {\n",
              "      background-color: #3B4455;\n",
              "      fill: #D2E3FC;\n",
              "    }\n",
              "\n",
              "    [theme=dark] .colab-df-convert:hover {\n",
              "      background-color: #434B5C;\n",
              "      box-shadow: 0px 1px 3px 1px rgba(0, 0, 0, 0.15);\n",
              "      filter: drop-shadow(0px 1px 2px rgba(0, 0, 0, 0.3));\n",
              "      fill: #FFFFFF;\n",
              "    }\n",
              "  </style>\n",
              "\n",
              "      <script>\n",
              "        const buttonEl =\n",
              "          document.querySelector('#df-f3a34336-9245-4918-8cd7-f8b701b1e3a1 button.colab-df-convert');\n",
              "        buttonEl.style.display =\n",
              "          google.colab.kernel.accessAllowed ? 'block' : 'none';\n",
              "\n",
              "        async function convertToInteractive(key) {\n",
              "          const element = document.querySelector('#df-f3a34336-9245-4918-8cd7-f8b701b1e3a1');\n",
              "          const dataTable =\n",
              "            await google.colab.kernel.invokeFunction('convertToInteractive',\n",
              "                                                     [key], {});\n",
              "          if (!dataTable) return;\n",
              "\n",
              "          const docLinkHtml = 'Like what you see? Visit the ' +\n",
              "            '<a target=\"_blank\" href=https://colab.research.google.com/notebooks/data_table.ipynb>data table notebook</a>'\n",
              "            + ' to learn more about interactive tables.';\n",
              "          element.innerHTML = '';\n",
              "          dataTable['output_type'] = 'display_data';\n",
              "          await google.colab.output.renderOutput(dataTable, element);\n",
              "          const docLink = document.createElement('div');\n",
              "          docLink.innerHTML = docLinkHtml;\n",
              "          element.appendChild(docLink);\n",
              "        }\n",
              "      </script>\n",
              "    </div>\n",
              "  </div>\n",
              "  "
            ],
            "text/plain": [
              "                Name  Age Nationality  Overall  Potential  \\\n",
              "0           L. Messi   31   Argentina       94         94   \n",
              "1  Cristiano Ronaldo   33    Portugal       94         94   \n",
              "2          Neymar Jr   26      Brazil       92         93   \n",
              "3             De Gea   27       Spain       91         93   \n",
              "4       K. De Bruyne   27     Belgium       91         92   \n",
              "\n",
              "                  Club  Value   Wage  Special Preferred Foot  \\\n",
              "0         FC Barcelona  110.5  565.0     2202           Left   \n",
              "1             Juventus   77.0  405.0     2228          Right   \n",
              "2  Paris Saint-Germain  118.5  290.0     2143          Right   \n",
              "3    Manchester United   72.0  260.0     1471          Right   \n",
              "4      Manchester City  102.0  355.0     2281          Right   \n",
              "\n",
              "   International Reputation  Weak Foot  Skill Moves       Work Rate Body Type  \\\n",
              "0                       5.0        4.0          4.0  Medium/ Medium      Lean   \n",
              "1                       5.0        4.0          5.0       High/ Low    Stocky   \n",
              "2                       5.0        5.0          5.0    High/ Medium      Lean   \n",
              "3                       4.0        3.0          1.0  Medium/ Medium      Lean   \n",
              "4                       4.0        5.0          4.0      High/ High    Normal   \n",
              "\n",
              "  Real Face Position  Jersey Number        Joined Contract Valid Until  \\\n",
              "0       Yes       RF           10.0   Jul 1, 2004                 2021   \n",
              "1       Yes       ST            7.0  Jul 10, 2018                 2022   \n",
              "2       Yes       LW           10.0   Aug 3, 2017                 2022   \n",
              "3       Yes       GK            1.0   Jul 1, 2011                 2020   \n",
              "4       Yes      RCM            7.0  Aug 30, 2015                 2023   \n",
              "\n",
              "   Height (cm)  Weight (kg)  Finishing  HeadingAccuracy  ShortPassing  \\\n",
              "0       170.18    72.108844       95.0             70.0          90.0   \n",
              "1       187.96    82.993197       94.0             89.0          81.0   \n",
              "2       175.26    68.027211       87.0             62.0          84.0   \n",
              "3       193.04    76.190476       13.0             21.0          50.0   \n",
              "4       180.34    69.841270       82.0             55.0          92.0   \n",
              "\n",
              "   Volleys  Dribbling  Curve  FKAccuracy  LongPassing  BallControl  \\\n",
              "0     86.0       97.0   93.0        94.0         87.0         96.0   \n",
              "1     87.0       88.0   81.0        76.0         77.0         94.0   \n",
              "2     84.0       96.0   88.0        87.0         78.0         95.0   \n",
              "3     13.0       18.0   21.0        19.0         51.0         42.0   \n",
              "4     82.0       86.0   85.0        83.0         91.0         91.0   \n",
              "\n",
              "   Acceleration  SprintSpeed  Agility  Reactions  Balance  ShotPower  Jumping  \\\n",
              "0          91.0         86.0     91.0       95.0     95.0       85.0     68.0   \n",
              "1          89.0         91.0     87.0       96.0     70.0       95.0     95.0   \n",
              "2          94.0         90.0     96.0       94.0     84.0       80.0     61.0   \n",
              "3          57.0         58.0     60.0       90.0     43.0       31.0     67.0   \n",
              "4          78.0         76.0     79.0       91.0     77.0       91.0     63.0   \n",
              "\n",
              "   Stamina  Strength  LongShots  Aggression  Interceptions  Positioning  \\\n",
              "0     72.0      59.0       94.0        48.0           22.0         94.0   \n",
              "1     88.0      79.0       93.0        63.0           29.0         95.0   \n",
              "2     81.0      49.0       82.0        56.0           36.0         89.0   \n",
              "3     43.0      64.0       12.0        38.0           30.0         12.0   \n",
              "4     90.0      75.0       91.0        76.0           61.0         87.0   \n",
              "\n",
              "   Vision  Penalties  Composure  Marking  StandingTackle  SlidingTackle  \\\n",
              "0    94.0       75.0       96.0     33.0            28.0           26.0   \n",
              "1    82.0       85.0       95.0     28.0            31.0           23.0   \n",
              "2    87.0       81.0       94.0     27.0            24.0           33.0   \n",
              "3    68.0       40.0       68.0     15.0            21.0           13.0   \n",
              "4    94.0       79.0       88.0     68.0            58.0           51.0   \n",
              "\n",
              "   GKDiving  GKHandling  GKKicking  GKPositioning  GKReflexes  Release Clause  \n",
              "0       6.0        11.0       15.0           14.0         8.0           226.5  \n",
              "1       7.0        11.0       15.0           14.0        11.0           127.1  \n",
              "2       9.0         9.0       15.0           15.0        11.0           228.1  \n",
              "3      90.0        85.0       87.0           88.0        94.0           138.6  \n",
              "4      15.0        13.0        5.0           10.0        13.0           196.4  "
            ]
          },
          "metadata": {}
        }
      ],
      "source": [
        "#A \"cara\" do dataset:\n",
        "display(data.head())"
      ]
    },
    {
      "cell_type": "code",
      "source": [
        "#função para plotar\n",
        "def plotar(coluna1, coluna2, titulo, tipo):\n",
        "  if tipo == 'count':\n",
        "    attribute = data.groupby([coluna1], as_index = False).count()\n",
        "  \n",
        "  if tipo == 'mean':\n",
        "    attribute = data.groupby([coluna1], as_index = False).mean()\n",
        "  \n",
        "  if tipo == 'median':\n",
        "    attribute = data.groupby([coluna1], as_index = False).median()  \n",
        "\n",
        "  attribute = pd.DataFrame(attribute[[coluna1, coluna2]]).sort_values(by = coluna2, ascending = False)\n",
        "  attribute = attribute[:10]\n",
        "  _ = attribute.plot.bar(x = coluna1, title = titulo, figsize = (7,7), legend = False)"
      ],
      "metadata": {
        "id": "MbdrLNogmmu1"
      },
      "execution_count": 327,
      "outputs": []
    },
    {
      "cell_type": "code",
      "source": [
        "plotar('Nationality', 'Name', 'Nº jogadores por país', 'count')"
      ],
      "metadata": {
        "colab": {
          "base_uri": "https://localhost:8080/",
          "height": 585
        },
        "id": "gzW0nroznD4-",
        "outputId": "c4cd63a9-b01e-464c-a62e-cb183aa33806"
      },
      "execution_count": 328,
      "outputs": [
        {
          "output_type": "display_data",
          "data": {
            "image/png": "[encoded data removed]",
            "text/plain": [
              "<Figure size 504x504 with 1 Axes>"
            ]
          },
          "metadata": {
            "needs_background": "light"
          }
        }
      ]
    },
    {
      "cell_type": "code",
      "source": [
        "plotar('Nationality', 'Wage', 'Salário Médio por país (mil euros)', 'mean')"
      ],
      "metadata": {
        "colab": {
          "base_uri": "https://localhost:8080/",
          "height": 678
        },
        "id": "JfCj9xVknNnX",
        "outputId": "5a5470d5-6f15-429d-ef82-75eb5a1ebac3"
      },
      "execution_count": 329,
      "outputs": [
        {
          "output_type": "display_data",
          "data": {
            "image/png": "[encoded data removed]",
            "text/plain": [
              "<Figure size 504x504 with 1 Axes>"
            ]
          },
          "metadata": {
            "needs_background": "light"
          }
        }
      ]
    },
    {
      "cell_type": "code",
      "execution_count": 330,
      "metadata": {
        "colab": {
          "base_uri": "https://localhost:8080/",
          "height": 678
        },
        "id": "Wj36tFoY12fk",
        "outputId": "2761d822-6362-4b13-ea10-905d811d0a45"
      },
      "outputs": [
        {
          "output_type": "display_data",
          "data": {
            "image/png": "[encoded data removed]",
            "text/plain": [
              "<Figure size 504x504 with 1 Axes>"
            ]
          },
          "metadata": {
            "needs_background": "light"
          }
        }
      ],
      "source": [
        "plotar('Nationality', 'Wage', 'Salário Mediano por país (mil euros)', 'median')"
      ]
    },
    {
      "cell_type": "code",
      "execution_count": 331,
      "metadata": {
        "colab": {
          "base_uri": "https://localhost:8080/",
          "height": 508
        },
        "id": "23K5jqlfGIUQ",
        "outputId": "e34f35a3-dc88-4745-82f9-925c1352c231"
      },
      "outputs": [
        {
          "output_type": "display_data",
          "data": {
            "image/png": "[encoded data removed]",
            "text/plain": [
              "<Figure size 504x504 with 1 Axes>"
            ]
          },
          "metadata": {
            "needs_background": "light"
          }
        }
      ],
      "source": [
        "plotar('Position', 'Wage', 'Salário médio das 10 maiores posições', 'mean')"
      ]
    },
    {
      "cell_type": "markdown",
      "metadata": {
        "id": "zDOJJOLA2xwm"
      },
      "source": [
        "Inserimos alguns gráficos relacionando o salário com algum atributo."
      ]
    },
    {
      "cell_type": "markdown",
      "metadata": {
        "id": "gjG3rXq4W5mD"
      },
      "source": [
        "## Hipótese I\n",
        "\n"
      ]
    },
    {
      "cell_type": "markdown",
      "metadata": {
        "id": "jLK4mfOlWPpI"
      },
      "source": [
        "Hipótese\n",
        "\n",
        "Se um jogador brasileiro ganha mais que um jogador argentino e se isso é causado aleatoriamente (\"hipótese nula\") ou por um outro motivo (\"hipótese alternativa\").\n",
        "\n",
        "*μBrasileiro != μArgentino*\n"
      ]
    },
    {
      "cell_type": "code",
      "execution_count": 332,
      "metadata": {
        "colab": {
          "base_uri": "https://localhost:8080/",
          "height": 634
        },
        "id": "isHTKuiyWPpL",
        "outputId": "ef42b417-d412-4d24-c782-aa8651a9fa5f"
      },
      "outputs": [
        {
          "output_type": "stream",
          "name": "stdout",
          "text": [
            "Diferença observada:  5.996279730166178\n"
          ]
        },
        {
          "output_type": "display_data",
          "data": {
            "image/png": "[encoded data removed]",
            "text/plain": [
              "<Figure size 864x576 with 1 Axes>"
            ]
          },
          "metadata": {
            "needs_background": "light"
          }
        }
      ],
      "source": [
        "#data = pd.read_csv('fifa.csv', index_col='ID')\n",
        "brasilArgentina = data.loc[(data['Nationality'] == 'Brazil') | (data['Nationality'] == 'Argentina')].sort_values('Wage', ascending = False)\n",
        "t_obs = brasilArgentina[brasilArgentina['Nationality'] == 'Brazil']['Wage'].mean() - brasilArgentina[brasilArgentina['Nationality'] != 'Brazil']['Wage'].mean()\n",
        "print(\"Diferença observada: \", t_obs)\n",
        "meanPlot = brasilArgentina[['Nationality','Wage']].groupby(\"Nationality\").agg([np.mean])\n",
        "_ = meanPlot.plot(kind = \"bar\", y = \"Wage\", legend = False,\n",
        "            title = \"Média Salarial dos jogadores\")"
      ]
    },
    {
      "cell_type": "code",
      "execution_count": 333,
      "metadata": {
        "colab": {
          "base_uri": "https://localhost:8080/",
          "height": 369
        },
        "id": "eBFn2U_eWPpM",
        "outputId": "ed7073bb-4aaa-4fec-a91d-d260d40f1090"
      },
      "outputs": [
        {
          "output_type": "display_data",
          "data": {
            "image/png": "[encoded data removed]",
            "text/plain": [
              "<Figure size 360x360 with 1 Axes>"
            ]
          },
          "metadata": {
            "needs_background": "light"
          }
        }
      ],
      "source": [
        "brasilArgentina['log_wage'] = np.log(brasilArgentina['Wage'])\n",
        "g = sns.catplot(x=\"Nationality\", y=\"log_wage\", kind=\"violin\", inner=None, data=brasilArgentina)\n",
        "_ = sns.swarmplot(x=\"Nationality\", y=\"log_wage\", color=\"k\", size=0.5, data=brasilArgentina, ax=g.ax)"
      ]
    },
    {
      "cell_type": "markdown",
      "metadata": {
        "id": "C9hL8XpwWPpM"
      },
      "source": [
        "Pelo violin plot é possível perceber que existem menos jogadores brasileiro que recebem \"pouco\" comparado aos jogadores argentinos, onde no centro do \"violiono\" brasileiro é possivel reparar que ele é mais \"aberto\", representando uma quantidade maior de jogadores com salario \"médio\"."
      ]
    },
    {
      "cell_type": "markdown",
      "source": [
        "Para testar a hipótese utilizamos o bootstrap, que consiste em tirar amostras a fim de simular o \"mundo aleatório\"."
      ],
      "metadata": {
        "id": "wl_mD-XlxlEs"
      }
    },
    {
      "cell_type": "code",
      "execution_count": 334,
      "metadata": {
        "colab": {
          "base_uri": "https://localhost:8080/",
          "height": 478
        },
        "id": "GXyNxvT4WPpO",
        "outputId": "cce21bc1-450c-4a53-9400-523bb21a9eab"
      },
      "outputs": [
        {
          "output_type": "display_data",
          "data": {
            "image/png": "[encoded data removed]",
            "text/plain": [
              "<Figure size 576x432 with 1 Axes>"
            ]
          },
          "metadata": {
            "needs_background": "light"
          }
        },
        {
          "output_type": "stream",
          "name": "stdout",
          "text": [
            "Intervalo de confiança:  3.066616824394732 ,  8.94910744754754\n",
            "Valores extremos (Brasil):  15.407328680203046 ,  19.863007614213195\n",
            "Valores extremos (Argentina):  9.824699879951982 ,  13.522298919567826\n",
            "P-Valor:  0.4996\n"
          ]
        }
      ],
      "source": [
        "def bootstrap_mean(df1, df2, column, n=5000):\n",
        "    size1 = len(df1)\n",
        "    size2 = len(df2)\n",
        "    values1 = np.zeros(n)\n",
        "    values2 = np.zeros(n)\n",
        "    values_diff = np.zeros(n)\n",
        "    for i in range(n):\n",
        "        sample1 = df1[column].sample(size1, replace=True, random_state=i)\n",
        "        sample2 = df2[column].sample(size2, replace=True, random_state=i*3)\n",
        "        values1[i] = sample1.mean()\n",
        "        values2[i] = sample2.mean()\n",
        "        values_diff[i] = sample1.mean() - sample2.mean()\n",
        "    return values1, values2, values_diff\n",
        "\n",
        "brasil = brasilArgentina[brasilArgentina['Nationality']=='Brazil']\n",
        "argentina = brasilArgentina[brasilArgentina['Nationality']=='Argentina']\n",
        "col = 'Wage'\n",
        "v_brasil, v_argentina, v_diff = bootstrap_mean(brasil, argentina, col)\n",
        "\n",
        "bp_data = [v_brasil, v_argentina]\n",
        "plt.rcParams['figure.figsize']  = (8, 6)\n",
        "plt.boxplot(bp_data,  positions=[1,2], showfliers=False, showmeans=True)\n",
        "plt.xticks([1,2], ['Brasil', 'Argentina'], fontsize=10)\n",
        "plt.ylabel('', fontsize=13)\n",
        "plt.xlabel('Nacionalidade', fontsize=12)\n",
        "plt.title('Salário Médio dos Jogadores por Nacionalidade', fontsize=14)\n",
        "plt.show()\n",
        "\n",
        "\n",
        "print(\"Intervalo de confiança: \", np.percentile(v_diff, 2.5), \", \", np.percentile(v_diff, 97.5))\n",
        "print(\"Valores extremos (Brasil): \", np.percentile(v_brasil, 2.5), \", \", np.percentile(v_brasil, 97.5))\n",
        "print(\"Valores extremos (Argentina): \", np.percentile(v_argentina, 2.5), \", \", np.percentile(v_argentina, 97.5))\n",
        "\n",
        "k = 0\n",
        "#p-valor\n",
        "#print(\"Calculando o p-valor:\")\n",
        "for element in v_diff:\n",
        "    if element > t_obs:\n",
        "        k += 1 \n",
        "p = k / len(v_diff)\n",
        "print(\"P-Valor: \",p)"
      ]
    },
    {
      "cell_type": "markdown",
      "metadata": {
        "id": "utJh099dd1kb"
      },
      "source": [
        "O p-valor 0.4996 é altíssimo, então a hipótese nula não é rejeitada. A diferença encontrada provavelmente é explicada pela chance."
      ]
    },
    {
      "cell_type": "markdown",
      "metadata": {
        "id": "rfCi3y5QZ0p5"
      },
      "source": [
        "Histograma da distribuição encontrada:"
      ]
    },
    {
      "cell_type": "code",
      "execution_count": 335,
      "metadata": {
        "colab": {
          "base_uri": "https://localhost:8080/",
          "height": 383
        },
        "id": "0QJSdHH-XIOY",
        "outputId": "229704be-786b-4514-8a8e-6578d81551a4"
      },
      "outputs": [
        {
          "output_type": "display_data",
          "data": {
            "image/png": "[encoded data removed]",
            "text/plain": [
              "<Figure size 576x432 with 1 Axes>"
            ]
          },
          "metadata": {
            "needs_background": "light"
          }
        }
      ],
      "source": [
        "_ = plt.hist(v_diff, bins = 20)"
      ]
    },
    {
      "cell_type": "markdown",
      "source": [
        "# Hipótese II"
      ],
      "metadata": {
        "id": "tokQi-UqeXj7"
      }
    },
    {
      "cell_type": "code",
      "execution_count": 336,
      "metadata": {
        "colab": {
          "base_uri": "https://localhost:8080/",
          "height": 472
        },
        "id": "HZWm5IaUd1ke",
        "outputId": "a8798c6d-8bbf-46af-d4e1-ab91df162f22"
      },
      "outputs": [
        {
          "output_type": "stream",
          "name": "stdout",
          "text": [
            "Média salarial dos clubes (mil euros):\n"
          ]
        },
        {
          "output_type": "execute_result",
          "data": {
            "text/html": [
              "\n",
              "  <div id=\"df-d51b07aa-8c6c-4d10-b691-b3bde2cc3015\">\n",
              "    <div class=\"colab-df-container\">\n",
              "      <div>\n",
              "<style scoped>\n",
              "    .dataframe tbody tr th:only-of-type {\n",
              "        vertical-align: middle;\n",
              "    }\n",
              "\n",
              "    .dataframe tbody tr th {\n",
              "        vertical-align: top;\n",
              "    }\n",
              "\n",
              "    .dataframe thead th {\n",
              "        text-align: right;\n",
              "    }\n",
              "</style>\n",
              "<table border=\"1\" class=\"dataframe\">\n",
              "  <thead>\n",
              "    <tr style=\"text-align: right;\">\n",
              "      <th></th>\n",
              "      <th>Wage</th>\n",
              "    </tr>\n",
              "    <tr>\n",
              "      <th>Club</th>\n",
              "      <th></th>\n",
              "    </tr>\n",
              "  </thead>\n",
              "  <tbody>\n",
              "    <tr>\n",
              "      <th>Lokomotiv Moscow</th>\n",
              "      <td>1.000000</td>\n",
              "    </tr>\n",
              "    <tr>\n",
              "      <th>IF Brommapojkarna</th>\n",
              "      <td>1.000000</td>\n",
              "    </tr>\n",
              "    <tr>\n",
              "      <th>Envigado FC</th>\n",
              "      <td>1.000000</td>\n",
              "    </tr>\n",
              "    <tr>\n",
              "      <th>Trelleborgs FF</th>\n",
              "      <td>1.000000</td>\n",
              "    </tr>\n",
              "    <tr>\n",
              "      <th>FC Carl Zeiss Jena</th>\n",
              "      <td>1.000000</td>\n",
              "    </tr>\n",
              "    <tr>\n",
              "      <th>...</th>\n",
              "      <td>...</td>\n",
              "    </tr>\n",
              "    <tr>\n",
              "      <th>Manchester United</th>\n",
              "      <td>102.757576</td>\n",
              "    </tr>\n",
              "    <tr>\n",
              "      <th>Manchester City</th>\n",
              "      <td>113.363636</td>\n",
              "    </tr>\n",
              "    <tr>\n",
              "      <th>Juventus</th>\n",
              "      <td>131.680000</td>\n",
              "    </tr>\n",
              "    <tr>\n",
              "      <th>FC Barcelona</th>\n",
              "      <td>146.575758</td>\n",
              "    </tr>\n",
              "    <tr>\n",
              "      <th>Real Madrid</th>\n",
              "      <td>152.030303</td>\n",
              "    </tr>\n",
              "  </tbody>\n",
              "</table>\n",
              "<p>651 rows × 1 columns</p>\n",
              "</div>\n",
              "      <button class=\"colab-df-convert\" onclick=\"convertToInteractive('df-d51b07aa-8c6c-4d10-b691-b3bde2cc3015')\"\n",
              "              title=\"Convert this dataframe to an interactive table.\"\n",
              "              style=\"display:none;\">\n",
              "        \n",
              "  <svg xmlns=\"http://www.w3.org/2000/svg\" height=\"24px\"viewBox=\"0 0 24 24\"\n",
              "       width=\"24px\">\n",
              "    <path d=\"M0 0h24v24H0V0z\" fill=\"none\"/>\n",
              "    <path d=\"M18.56 5.44l.94 2.06.94-2.06 2.06-.94-2.06-.94-.94-2.06-.94 2.06-2.06.94zm-11 1L8.5 8.5l.94-2.06 2.06-.94-2.06-.94L8.5 2.5l-.94 2.06-2.06.94zm10 10l.94 2.06.94-2.06 2.06-.94-2.06-.94-.94-2.06-.94 2.06-2.06.94z\"/><path d=\"M17.41 7.96l-1.37-1.37c-.4-.4-.92-.59-1.43-.59-.52 0-1.04.2-1.43.59L10.3 9.45l-7.72 7.72c-.78.78-.78 2.05 0 2.83L4 21.41c.39.39.9.59 1.41.59.51 0 1.02-.2 1.41-.59l7.78-7.78 2.81-2.81c.8-.78.8-2.07 0-2.86zM5.41 20L4 18.59l7.72-7.72 1.47 1.35L5.41 20z\"/>\n",
              "  </svg>\n",
              "      </button>\n",
              "      \n",
              "  <style>\n",
              "    .colab-df-container {\n",
              "      display:flex;\n",
              "      flex-wrap:wrap;\n",
              "      gap: 12px;\n",
              "    }\n",
              "\n",
              "    .colab-df-convert {\n",
              "      background-color: #E8F0FE;\n",
              "      border: none;\n",
              "      border-radius: 50%;\n",
              "      cursor: pointer;\n",
              "      display: none;\n",
              "      fill: #1967D2;\n",
              "      height: 32px;\n",
              "      padding: 0 0 0 0;\n",
              "      width: 32px;\n",
              "    }\n",
              "\n",
              "    .colab-df-convert:hover {\n",
              "      background-color: #E2EBFA;\n",
              "      box-shadow: 0px 1px 2px rgba(60, 64, 67, 0.3), 0px 1px 3px 1px rgba(60, 64, 67, 0.15);\n",
              "      fill: #174EA6;\n",
              "    }\n",
              "\n",
              "    [theme=dark] .colab-df-convert {\n",
              "      background-color: #3B4455;\n",
              "      fill: #D2E3FC;\n",
              "    }\n",
              "\n",
              "    [theme=dark] .colab-df-convert:hover {\n",
              "      background-color: #434B5C;\n",
              "      box-shadow: 0px 1px 3px 1px rgba(0, 0, 0, 0.15);\n",
              "      filter: drop-shadow(0px 1px 2px rgba(0, 0, 0, 0.3));\n",
              "      fill: #FFFFFF;\n",
              "    }\n",
              "  </style>\n",
              "\n",
              "      <script>\n",
              "        const buttonEl =\n",
              "          document.querySelector('#df-d51b07aa-8c6c-4d10-b691-b3bde2cc3015 button.colab-df-convert');\n",
              "        buttonEl.style.display =\n",
              "          google.colab.kernel.accessAllowed ? 'block' : 'none';\n",
              "\n",
              "        async function convertToInteractive(key) {\n",
              "          const element = document.querySelector('#df-d51b07aa-8c6c-4d10-b691-b3bde2cc3015');\n",
              "          const dataTable =\n",
              "            await google.colab.kernel.invokeFunction('convertToInteractive',\n",
              "                                                     [key], {});\n",
              "          if (!dataTable) return;\n",
              "\n",
              "          const docLinkHtml = 'Like what you see? Visit the ' +\n",
              "            '<a target=\"_blank\" href=https://colab.research.google.com/notebooks/data_table.ipynb>data table notebook</a>'\n",
              "            + ' to learn more about interactive tables.';\n",
              "          element.innerHTML = '';\n",
              "          dataTable['output_type'] = 'display_data';\n",
              "          await google.colab.output.renderOutput(dataTable, element);\n",
              "          const docLink = document.createElement('div');\n",
              "          docLink.innerHTML = docLinkHtml;\n",
              "          element.appendChild(docLink);\n",
              "        }\n",
              "      </script>\n",
              "    </div>\n",
              "  </div>\n",
              "  "
            ],
            "text/plain": [
              "                          Wage\n",
              "Club                          \n",
              "Lokomotiv Moscow      1.000000\n",
              "IF Brommapojkarna     1.000000\n",
              "Envigado FC           1.000000\n",
              "Trelleborgs FF        1.000000\n",
              "FC Carl Zeiss Jena    1.000000\n",
              "...                        ...\n",
              "Manchester United   102.757576\n",
              "Manchester City     113.363636\n",
              "Juventus            131.680000\n",
              "FC Barcelona        146.575758\n",
              "Real Madrid         152.030303\n",
              "\n",
              "[651 rows x 1 columns]"
            ]
          },
          "metadata": {},
          "execution_count": 336
        }
      ],
      "source": [
        "clubes = pd.DataFrame(data.groupby(['Club']).mean()['Wage'])\n",
        "print(\"Média salarial dos clubes (mil euros):\")\n",
        "clubes.sort_values(by='Wage')"
      ]
    },
    {
      "cell_type": "code",
      "execution_count": 337,
      "metadata": {
        "colab": {
          "base_uri": "https://localhost:8080/"
        },
        "id": "6Q2_JukBd1kf",
        "outputId": "2970b54f-9753-494b-d788-751bbde8a9a2"
      },
      "outputs": [
        {
          "output_type": "stream",
          "name": "stdout",
          "text": [
            "Média geral dos clubes:  8.965544035531927\n"
          ]
        }
      ],
      "source": [
        "mediaSalarial = clubes['Wage'].mean()\n",
        "print(\"Média geral dos clubes: \", mediaSalarial)"
      ]
    },
    {
      "cell_type": "markdown",
      "metadata": {
        "id": "WEqBIG1zd1kf"
      },
      "source": [
        "A média dos clubes é 8.96 mil euros, e alguns clubes ganham muito mais, como Real Madrid.\n",
        "Assim podemos fazer uma hipótese sobre isso. Será que a chance consegue explicar essa diferença entre as médias (hipótese nula) ou não?"
      ]
    },
    {
      "cell_type": "code",
      "execution_count": 338,
      "metadata": {
        "colab": {
          "base_uri": "https://localhost:8080/",
          "height": 457
        },
        "id": "CamaAuYYd1kg",
        "outputId": "60b496cb-76cb-4bdb-c910-1219896f8eb6"
      },
      "outputs": [
        {
          "output_type": "stream",
          "name": "stdout",
          "text": [
            "Real Madrid:  152.03030303030303\n",
            "Outros Times:  9.335099337748344\n",
            "Diferença observada:  142.69520369255468\n"
          ]
        },
        {
          "output_type": "display_data",
          "data": {
            "image/png": "[encoded data removed]",
            "text/plain": [
              "<Figure size 576x432 with 1 Axes>"
            ]
          },
          "metadata": {
            "needs_background": "light"
          }
        }
      ],
      "source": [
        "times = data.copy()\n",
        "t_obs = times[times['Club'] == 'Real Madrid']['Wage'].mean() - times[times['Club'] != 'Real Madrid']['Wage'].mean()\n",
        "mediaRealMadrid = times[times['Club'] == 'Real Madrid']['Wage'].mean()\n",
        "mediaOutros = times[times['Club'] != 'Real Madrid']['Wage'].mean()\n",
        "print(\"Real Madrid: \", mediaRealMadrid)\n",
        "print(\"Outros Times: \", mediaOutros)\n",
        "print(\"Diferença observada: \", t_obs)\n",
        "\n",
        "_ = plt.bar(['Real Madrid', 'Outros Times'], [mediaRealMadrid, mediaOutros])\n",
        "_ = plt.title(\"Média Salarial dos jogadores Real Madrid / Outros (Mil Euros)\")"
      ]
    },
    {
      "cell_type": "markdown",
      "source": [
        "Utilizamos o teste de permutação para simular as estatísticas do Real Madrid contra a dos outros times."
      ],
      "metadata": {
        "id": "gOW1Z8XNyZbH"
      }
    },
    {
      "cell_type": "code",
      "execution_count": 339,
      "metadata": {
        "id": "VgA-DrX0UrS0"
      },
      "outputs": [],
      "source": [
        "#fazemos um teste de permutação\n",
        "\n",
        "filtro = times['Club'] == 'Real Madrid'\n",
        "N = 5000\n",
        "diferencas =  np.zeros(N)\n",
        "for i in range(N):\n",
        "    np.random.shuffle(filtro.values)\n",
        "    diff = times[filtro]['Wage'].mean() - times[~filtro]['Wage'].mean()\n",
        "    diferencas[i] = diff"
      ]
    },
    {
      "cell_type": "code",
      "execution_count": 340,
      "metadata": {
        "colab": {
          "base_uri": "https://localhost:8080/"
        },
        "id": "X2yng7x1d1ki",
        "outputId": "b9ebd77b-8dcb-4d78-c283-3e51d075fc7a"
      },
      "outputs": [
        {
          "output_type": "stream",
          "name": "stdout",
          "text": [
            "P-Valor:  0.0\n",
            "Intervalo de confiança (95%):  -5.144146598434679 ,  9.310271422837639\n"
          ]
        }
      ],
      "source": [
        "k = 0\n",
        "for element in diferencas:\n",
        "    if element > 145:\n",
        "        k += 1 \n",
        "p = k / len(diferencas)\n",
        "print(\"P-Valor: \",p)\n",
        "print(\"Intervalo de confiança (95%): \", np.percentile(diferencas, 2.5), \", \", np.percentile(diferencas, 97.5))"
      ]
    },
    {
      "cell_type": "code",
      "execution_count": 341,
      "metadata": {
        "id": "pMP7w-cRsvmq",
        "colab": {
          "base_uri": "https://localhost:8080/",
          "height": 406
        },
        "outputId": "20046933-9de6-4060-c22a-b1d6c04de660"
      },
      "outputs": [
        {
          "output_type": "stream",
          "name": "stdout",
          "text": [
            "Histograma da distribuição\n"
          ]
        },
        {
          "output_type": "display_data",
          "data": {
            "image/png": "[encoded data removed]",
            "text/plain": [
              "<Figure size 576x432 with 1 Axes>"
            ]
          },
          "metadata": {
            "needs_background": "light"
          }
        }
      ],
      "source": [
        "print(\"Histograma da distribuição\")\n",
        "_ = plt.hist(diferencas,bins=50, edgecolor='k')"
      ]
    },
    {
      "cell_type": "markdown",
      "metadata": {
        "id": "BSNbzLDSd1kk"
      },
      "source": [
        "O P-Valor encontrado foi muito pequeno, o que nos leva a rejeitar a hipótese nula, e a estatística encontrada é um valor bem extremo. Ou seja,\n",
        "a diferença salarial entre o Real Madrid e os outros times não pode ser explicada pelo acaso apenas."
      ]
    },
    {
      "cell_type": "markdown",
      "metadata": {
        "id": "MmQr0O28Mt2r"
      },
      "source": [
        "# Regressões\n"
      ]
    },
    {
      "cell_type": "markdown",
      "source": [
        "Vamos tentar relacionar o salário de um jogador com a sua idade."
      ],
      "metadata": {
        "id": "UfzoRHmnlYz-"
      }
    },
    {
      "cell_type": "code",
      "execution_count": 342,
      "metadata": {
        "id": "2q1VVllNPbqT",
        "colab": {
          "base_uri": "https://localhost:8080/",
          "height": 206
        },
        "outputId": "72091a53-68a4-4c27-ff7d-e0ba963fdb67"
      },
      "outputs": [
        {
          "output_type": "execute_result",
          "data": {
            "text/html": [
              "\n",
              "  <div id=\"df-d1b48391-d493-4545-ba25-616ae043d4aa\">\n",
              "    <div class=\"colab-df-container\">\n",
              "      <div>\n",
              "<style scoped>\n",
              "    .dataframe tbody tr th:only-of-type {\n",
              "        vertical-align: middle;\n",
              "    }\n",
              "\n",
              "    .dataframe tbody tr th {\n",
              "        vertical-align: top;\n",
              "    }\n",
              "\n",
              "    .dataframe thead th {\n",
              "        text-align: right;\n",
              "    }\n",
              "</style>\n",
              "<table border=\"1\" class=\"dataframe\">\n",
              "  <thead>\n",
              "    <tr style=\"text-align: right;\">\n",
              "      <th></th>\n",
              "      <th>Age</th>\n",
              "      <th>Wage</th>\n",
              "    </tr>\n",
              "  </thead>\n",
              "  <tbody>\n",
              "    <tr>\n",
              "      <th>0</th>\n",
              "      <td>16</td>\n",
              "      <td>1.170732</td>\n",
              "    </tr>\n",
              "    <tr>\n",
              "      <th>1</th>\n",
              "      <td>17</td>\n",
              "      <td>2.147887</td>\n",
              "    </tr>\n",
              "    <tr>\n",
              "      <th>2</th>\n",
              "      <td>18</td>\n",
              "      <td>2.134094</td>\n",
              "    </tr>\n",
              "    <tr>\n",
              "      <th>3</th>\n",
              "      <td>19</td>\n",
              "      <td>2.413607</td>\n",
              "    </tr>\n",
              "    <tr>\n",
              "      <th>4</th>\n",
              "      <td>20</td>\n",
              "      <td>4.111824</td>\n",
              "    </tr>\n",
              "  </tbody>\n",
              "</table>\n",
              "</div>\n",
              "      <button class=\"colab-df-convert\" onclick=\"convertToInteractive('df-d1b48391-d493-4545-ba25-616ae043d4aa')\"\n",
              "              title=\"Convert this dataframe to an interactive table.\"\n",
              "              style=\"display:none;\">\n",
              "        \n",
              "  <svg xmlns=\"http://www.w3.org/2000/svg\" height=\"24px\"viewBox=\"0 0 24 24\"\n",
              "       width=\"24px\">\n",
              "    <path d=\"M0 0h24v24H0V0z\" fill=\"none\"/>\n",
              "    <path d=\"M18.56 5.44l.94 2.06.94-2.06 2.06-.94-2.06-.94-.94-2.06-.94 2.06-2.06.94zm-11 1L8.5 8.5l.94-2.06 2.06-.94-2.06-.94L8.5 2.5l-.94 2.06-2.06.94zm10 10l.94 2.06.94-2.06 2.06-.94-2.06-.94-.94-2.06-.94 2.06-2.06.94z\"/><path d=\"M17.41 7.96l-1.37-1.37c-.4-.4-.92-.59-1.43-.59-.52 0-1.04.2-1.43.59L10.3 9.45l-7.72 7.72c-.78.78-.78 2.05 0 2.83L4 21.41c.39.39.9.59 1.41.59.51 0 1.02-.2 1.41-.59l7.78-7.78 2.81-2.81c.8-.78.8-2.07 0-2.86zM5.41 20L4 18.59l7.72-7.72 1.47 1.35L5.41 20z\"/>\n",
              "  </svg>\n",
              "      </button>\n",
              "      \n",
              "  <style>\n",
              "    .colab-df-container {\n",
              "      display:flex;\n",
              "      flex-wrap:wrap;\n",
              "      gap: 12px;\n",
              "    }\n",
              "\n",
              "    .colab-df-convert {\n",
              "      background-color: #E8F0FE;\n",
              "      border: none;\n",
              "      border-radius: 50%;\n",
              "      cursor: pointer;\n",
              "      display: none;\n",
              "      fill: #1967D2;\n",
              "      height: 32px;\n",
              "      padding: 0 0 0 0;\n",
              "      width: 32px;\n",
              "    }\n",
              "\n",
              "    .colab-df-convert:hover {\n",
              "      background-color: #E2EBFA;\n",
              "      box-shadow: 0px 1px 2px rgba(60, 64, 67, 0.3), 0px 1px 3px 1px rgba(60, 64, 67, 0.15);\n",
              "      fill: #174EA6;\n",
              "    }\n",
              "\n",
              "    [theme=dark] .colab-df-convert {\n",
              "      background-color: #3B4455;\n",
              "      fill: #D2E3FC;\n",
              "    }\n",
              "\n",
              "    [theme=dark] .colab-df-convert:hover {\n",
              "      background-color: #434B5C;\n",
              "      box-shadow: 0px 1px 3px 1px rgba(0, 0, 0, 0.15);\n",
              "      filter: drop-shadow(0px 1px 2px rgba(0, 0, 0, 0.3));\n",
              "      fill: #FFFFFF;\n",
              "    }\n",
              "  </style>\n",
              "\n",
              "      <script>\n",
              "        const buttonEl =\n",
              "          document.querySelector('#df-d1b48391-d493-4545-ba25-616ae043d4aa button.colab-df-convert');\n",
              "        buttonEl.style.display =\n",
              "          google.colab.kernel.accessAllowed ? 'block' : 'none';\n",
              "\n",
              "        async function convertToInteractive(key) {\n",
              "          const element = document.querySelector('#df-d1b48391-d493-4545-ba25-616ae043d4aa');\n",
              "          const dataTable =\n",
              "            await google.colab.kernel.invokeFunction('convertToInteractive',\n",
              "                                                     [key], {});\n",
              "          if (!dataTable) return;\n",
              "\n",
              "          const docLinkHtml = 'Like what you see? Visit the ' +\n",
              "            '<a target=\"_blank\" href=https://colab.research.google.com/notebooks/data_table.ipynb>data table notebook</a>'\n",
              "            + ' to learn more about interactive tables.';\n",
              "          element.innerHTML = '';\n",
              "          dataTable['output_type'] = 'display_data';\n",
              "          await google.colab.output.renderOutput(dataTable, element);\n",
              "          const docLink = document.createElement('div');\n",
              "          docLink.innerHTML = docLinkHtml;\n",
              "          element.appendChild(docLink);\n",
              "        }\n",
              "      </script>\n",
              "    </div>\n",
              "  </div>\n",
              "  "
            ],
            "text/plain": [
              "   Age      Wage\n",
              "0   16  1.170732\n",
              "1   17  2.147887\n",
              "2   18  2.134094\n",
              "3   19  2.413607\n",
              "4   20  4.111824"
            ]
          },
          "metadata": {},
          "execution_count": 342
        }
      ],
      "source": [
        "cols = ['Age', 'Wage']\n",
        "series = data[cols].groupby('Age', as_index=False).mean()\n",
        "series.head()"
      ]
    },
    {
      "cell_type": "code",
      "execution_count": 343,
      "metadata": {
        "colab": {
          "base_uri": "https://localhost:8080/"
        },
        "id": "ZCXLu-NHM1sU",
        "outputId": "1e740586-8f05-44b7-c3bb-ccffc510c88d"
      },
      "outputs": [
        {
          "output_type": "stream",
          "name": "stdout",
          "text": [
            "Coeficiente beta\n"
          ]
        },
        {
          "output_type": "execute_result",
          "data": {
            "text/plain": [
              "0.07967790390876903"
            ]
          },
          "metadata": {},
          "execution_count": 343
        }
      ],
      "source": [
        "def beta(series, mean_x, mean_y):\n",
        "    num = 0\n",
        "    den = 0\n",
        "    for i in range(len(series)):\n",
        "        num += (series.iloc[i][0] - mean_x) * (series.iloc[i][1] - mean_y)\n",
        "        den += (series.iloc[i][0] - mean_x) ** 2\n",
        "    return num/den\n",
        "\n",
        "mean_x = np.mean(series['Age'])\n",
        "mean_y = np.mean(series['Wage'])\n",
        "beta = beta(series, mean_x, mean_y)\n",
        "print(\"Coeficiente beta\")\n",
        "beta"
      ]
    },
    {
      "cell_type": "code",
      "execution_count": 344,
      "metadata": {
        "colab": {
          "base_uri": "https://localhost:8080/"
        },
        "id": "Kk9gBShiM5Zx",
        "outputId": "33a841ee-ac63-4e88-b3f4-d2bbf0683488"
      },
      "outputs": [
        {
          "output_type": "stream",
          "name": "stdout",
          "text": [
            "Coeficiente alpha\n"
          ]
        },
        {
          "output_type": "execute_result",
          "data": {
            "text/plain": [
              "5.836746057155837"
            ]
          },
          "metadata": {},
          "execution_count": 344
        }
      ],
      "source": [
        "alpha = mean_y - beta*mean_x\n",
        "print(\"Coeficiente alpha\")\n",
        "alpha"
      ]
    },
    {
      "cell_type": "code",
      "execution_count": 345,
      "metadata": {
        "colab": {
          "base_uri": "https://localhost:8080/",
          "height": 383
        },
        "id": "NvJmsUNxM7bB",
        "outputId": "611bd8f7-ff58-4951-fda9-225de4d08c9d"
      },
      "outputs": [
        {
          "output_type": "display_data",
          "data": {
            "image/png": "[encoded data removed]",
            "text/plain": [
              "<Figure size 576x432 with 1 Axes>"
            ]
          },
          "metadata": {
            "needs_background": "light"
          }
        }
      ],
      "source": [
        "fig,ax = plt.subplots()\n",
        "x = np.linspace(10.,50.)\n",
        "ax.plot(x,beta*x+alpha)\n",
        "x = np.array(series.iloc[:len(series)-1,0].values).reshape((-1,1)) \n",
        "y = np.array(series.iloc[:len(series)-1,1].values).reshape((-1,1))\n",
        "plt.scatter(x,y,color=\"black\")\n",
        "plt.show()"
      ]
    },
    {
      "cell_type": "code",
      "execution_count": 346,
      "metadata": {
        "colab": {
          "base_uri": "https://localhost:8080/",
          "height": 383
        },
        "id": "PzTrhjAUNAaj",
        "outputId": "1bf763bb-aba1-4f01-a833-547b0798b2f4"
      },
      "outputs": [
        {
          "output_type": "display_data",
          "data": {
            "image/png": "[encoded data removed]",
            "text/plain": [
              "<Figure size 576x432 with 1 Axes>"
            ]
          },
          "metadata": {
            "needs_background": "light"
          }
        }
      ],
      "source": [
        "from sklearn.linear_model import LinearRegression\n",
        "\n",
        "model = LinearRegression()\n",
        "x = np.array(series.iloc[:len(series)-1,0].values).reshape((-1,1)) \n",
        "y = np.array(series.iloc[:len(series)-1,1].values).reshape((-1,1))\n",
        "\n",
        "model.fit(x,y)\n",
        "new_y = model.predict(x)\n",
        "plt.scatter(x,y,color=\"black\")\n",
        "_ = plt.plot(x,new_y,color=\"blue\", linewidth=1)"
      ]
    },
    {
      "cell_type": "code",
      "execution_count": 347,
      "metadata": {
        "id": "-Hcn_LLUNEOj"
      },
      "outputs": [],
      "source": [
        "from sklearn.preprocessing import PolynomialFeatures\n",
        "poly_reg = PolynomialFeatures(degree=2)\n",
        "X_poly = poly_reg.fit_transform(x)"
      ]
    },
    {
      "cell_type": "code",
      "execution_count": 348,
      "metadata": {
        "colab": {
          "base_uri": "https://localhost:8080/",
          "height": 428
        },
        "id": "sGHAgYaMNHzQ",
        "outputId": "f75fc0fd-2d37-4f74-f855-5dc59668d831"
      },
      "outputs": [
        {
          "output_type": "display_data",
          "data": {
            "image/png": "[encoded data removed]",
            "text/plain": [
              "<Figure size 576x432 with 1 Axes>"
            ]
          },
          "metadata": {
            "needs_background": "light"
          }
        }
      ],
      "source": [
        "lin_reg2 = LinearRegression()\n",
        "lin_reg2.fit(X_poly,y)\n",
        "from sklearn.preprocessing import PolynomialFeatures\n",
        "poly_reg = PolynomialFeatures(degree=4)\n",
        "X_poly = poly_reg.fit_transform(x)\n",
        "lin_reg2 = LinearRegression()\n",
        "lin_reg2.fit(X_poly,y)\n",
        "  \n",
        "X_grid = np.arange(min(x),max(x),0.1)\n",
        "X_grid = X_grid.reshape(len(X_grid),1) \n",
        "plt.scatter(x,y, color='red') \n",
        "  \n",
        "plt.plot(X_grid, lin_reg2.predict(poly_reg.fit_transform(X_grid)),color='blue') \n",
        "  \n",
        "plt.title(\"Salário por Idade\")\n",
        "plt.xlabel('Idade')\n",
        "plt.ylabel('Salário')\n",
        "plt.show()"
      ]
    },
    {
      "cell_type": "markdown",
      "source": [
        "A regressão polinomial acima tenta explicar a trajetória salarial de um jogador de acordo com a idade dele. Veja que, inicialmente, o jogador começa ganhando pouco, e conforme ele avança na carreira, sua compensação também aumenta, atigindo um pico em torno dos 25-30 anos. Então, o salário passa a diminuir, refletindo o envelhecimento do jogador e a perda de suas habilidades. "
      ],
      "metadata": {
        "id": "nY-yKeiAhyVI"
      }
    },
    {
      "cell_type": "markdown",
      "metadata": {
        "id": "kDF26B4-Q6Av"
      },
      "source": [
        "# Outras Regressões"
      ]
    },
    {
      "cell_type": "code",
      "execution_count": 349,
      "metadata": {
        "id": "jzWy9PlYQ9s_"
      },
      "outputs": [],
      "source": [
        "#funções para calcular regressão linear\n",
        "data.reset_index(drop=True, inplace=True)\n",
        "\n",
        "def error(alpha, beta, x, y):\n",
        "    return y - alpha - beta*x\n",
        "\n",
        "def sum_of_squared_errors(alpha, beta, x, y):\n",
        "    result = 0\n",
        "    index = 0\n",
        "    while index < len(y):\n",
        "      result += (error(alpha,beta,x[index],y[index]))**2\n",
        "      index += 1\n",
        "    result = result\n",
        "\n",
        "    return result\n",
        "\n",
        "def total_sum_of_squares(y):\n",
        "    result = 0\n",
        "    mean = y.mean()\n",
        "\n",
        "    for element in y:\n",
        "      result += (element - mean)**2\n",
        "    result \n",
        "\n",
        "    return result\n",
        "\n",
        "def r_squared(alpha, beta, x, y):\n",
        "    SQT = total_sum_of_squares(y)\n",
        "    SQR = sum_of_squared_errors(alpha,beta,x,y)\n",
        "\n",
        "    return (SQT - SQR)/SQT"
      ]
    },
    {
      "cell_type": "code",
      "execution_count": 350,
      "metadata": {
        "id": "4hG-bF8MRCfe"
      },
      "outputs": [],
      "source": [
        "def linear_regression(x,y):\n",
        "  alpha = 0\n",
        "  beta = 0\n",
        "  mean_x = x.mean()\n",
        "  mean_y = y.mean()\n",
        "\n",
        "  index = 0\n",
        "  covariancia = 0\n",
        "  variancia = 0\n",
        "  while index < len(y):\n",
        "    covariancia += (x[index] - mean_x)*(y[index] - mean_y)\n",
        "    index += 1\n",
        "  covariancia = covariancia/len(y)\n",
        "  index = 0\n",
        "  while index < len(x):\n",
        "    variancia += (x[index] - mean_x)**2\n",
        "    index += 1\n",
        "  variancia = variancia/len(x)\n",
        "  beta = covariancia/variancia\n",
        "  alpha = mean_y - beta*mean_x\n",
        "\n",
        "  return (alpha, beta)"
      ]
    },
    {
      "cell_type": "code",
      "execution_count": 351,
      "metadata": {
        "id": "lO-y195fRDZn"
      },
      "outputs": [],
      "source": [
        "def correlacao(x_name,y_name):\n",
        "  x = data[x_name]\n",
        "  y = data[y_name]\n",
        "  x = x[:10000]\n",
        "  y = y[:10000]\n",
        "  (alpha,beta) = linear_regression(x,y)\n",
        "  print(\"Alpha , Beta:\")\n",
        "  print((alpha,beta))\n",
        "  print(\"Coeficiente de Determinação:\")\n",
        "  print(r_squared(alpha,beta,x,y))\n",
        "  _ = plt.plot(data[x_name], data[y_name],'o')\n",
        "  _ = plt.plot(data[x_name], alpha + beta*data[x_name], color='r')"
      ]
    },
    {
      "cell_type": "code",
      "execution_count": 352,
      "metadata": {
        "colab": {
          "base_uri": "https://localhost:8080/",
          "height": 453
        },
        "id": "zfrheKouRQVK",
        "outputId": "ab89bf71-fddf-42de-d5f3-8e5d3f36db15"
      },
      "outputs": [
        {
          "output_type": "stream",
          "name": "stdout",
          "text": [
            "Alpha , Beta:\n",
            "(-61.04125607195944, 1.184496316769495)\n",
            "Coeficiente de Determinação:\n",
            "0.16682014461432468\n"
          ]
        },
        {
          "output_type": "display_data",
          "data": {
            "image/png": "[encoded data removed]",
            "text/plain": [
              "<Figure size 576x432 with 1 Axes>"
            ]
          },
          "metadata": {
            "needs_background": "light"
          }
        }
      ],
      "source": [
        "correlacao('Composure','Wage')"
      ]
    },
    {
      "cell_type": "code",
      "execution_count": 353,
      "metadata": {
        "colab": {
          "base_uri": "https://localhost:8080/",
          "height": 453
        },
        "id": "XHDb-b-BRXL6",
        "outputId": "3c66100b-1280-48fd-f729-c7b45eba080f"
      },
      "outputs": [
        {
          "output_type": "stream",
          "name": "stdout",
          "text": [
            "Alpha , Beta:\n",
            "(-17.13935887660564, 0.5525204652616414)\n",
            "Coeficiente de Determinação:\n",
            "0.07615544906973405\n"
          ]
        },
        {
          "output_type": "display_data",
          "data": {
            "image/png": "[encoded data removed]",
            "text/plain": [
              "<Figure size 576x432 with 1 Axes>"
            ]
          },
          "metadata": {
            "needs_background": "light"
          }
        }
      ],
      "source": [
        "correlacao('Vision','Wage')"
      ]
    },
    {
      "cell_type": "code",
      "execution_count": 354,
      "metadata": {
        "colab": {
          "base_uri": "https://localhost:8080/",
          "height": 453
        },
        "id": "Om_dDb3gRkT4",
        "outputId": "cca71943-ee9c-4060-9433-981106d0fc98"
      },
      "outputs": [
        {
          "output_type": "stream",
          "name": "stdout",
          "text": [
            "Alpha , Beta:\n",
            "(-131.43457371449963, 2.1914640128239067)\n",
            "Coeficiente de Determinação:\n",
            "0.29758713977425627\n"
          ]
        },
        {
          "output_type": "display_data",
          "data": {
            "image/png": "[encoded data removed]",
            "text/plain": [
              "<Figure size 576x432 with 1 Axes>"
            ]
          },
          "metadata": {
            "needs_background": "light"
          }
        }
      ],
      "source": [
        "correlacao('Reactions','Wage')"
      ]
    },
    {
      "cell_type": "code",
      "execution_count": 355,
      "metadata": {
        "colab": {
          "base_uri": "https://localhost:8080/",
          "height": 453
        },
        "id": "OrenQciUbUka",
        "outputId": "3ba71930-0718-4fda-8be5-daaf41953b53"
      },
      "outputs": [
        {
          "output_type": "stream",
          "name": "stdout",
          "text": [
            "Alpha , Beta:\n",
            "(-11.248098679826958, 0.4532152602033009)\n",
            "Coeficiente de Determinação:\n",
            "0.05588266362716033\n"
          ]
        },
        {
          "output_type": "display_data",
          "data": {
            "image/png": "[encoded data removed]",
            "text/plain": [
              "<Figure size 576x432 with 1 Axes>"
            ]
          },
          "metadata": {
            "needs_background": "light"
          }
        }
      ],
      "source": [
        "correlacao('LongPassing','Wage')"
      ]
    },
    {
      "cell_type": "code",
      "execution_count": 356,
      "metadata": {
        "colab": {
          "base_uri": "https://localhost:8080/",
          "height": 453
        },
        "id": "OaJIpAP1bVBx",
        "outputId": "782f3a29-7996-4bac-f422-52ac1101f011"
      },
      "outputs": [
        {
          "output_type": "stream",
          "name": "stdout",
          "text": [
            "Alpha , Beta:\n",
            "(-18.97582206784257, 0.533606167327265)\n",
            "Coeficiente de Determinação:\n",
            "0.06877225967400745\n"
          ]
        },
        {
          "output_type": "display_data",
          "data": {
            "image/png": "[encoded data removed]",
            "text/plain": [
              "<Figure size 576x432 with 1 Axes>"
            ]
          },
          "metadata": {
            "needs_background": "light"
          }
        }
      ],
      "source": [
        "correlacao('ShortPassing', 'Wage')"
      ]
    },
    {
      "cell_type": "markdown",
      "source": [
        "Parece haver uma relação entre o salário do jogador e os atributos, então iremos utilizá-los no modelo de Machine Learning."
      ],
      "metadata": {
        "id": "U8_EivLWk3pA"
      }
    },
    {
      "cell_type": "markdown",
      "metadata": {
        "id": "pAK1fOZCd1kx"
      },
      "source": [
        "# Previsão\n",
        "\n"
      ]
    },
    {
      "cell_type": "code",
      "execution_count": 357,
      "metadata": {
        "id": "nNi1qHXkd1kx"
      },
      "outputs": [],
      "source": [
        "#Pegar as colunas que serão usadas na classificação\n",
        "features = ['ShortPassing','LongPassing','Reactions','Vision','Composure']\n",
        "# Número de folds da validação cruzada\n",
        "SPLITS = 5\n",
        "\n",
        "X = data[features].values\n",
        "y = data[['Wage']].values\n",
        "\n",
        "X_train, X_test, y_train, y_test = train_test_split(X, y, test_size=0.20, random_state=40)"
      ]
    },
    {
      "cell_type": "code",
      "execution_count": 358,
      "metadata": {
        "id": "Ki4Tm2_Hd1kx"
      },
      "outputs": [],
      "source": [
        "# Feature Scaling for input features.\n",
        "scaler = preprocessing.MinMaxScaler()\n",
        "X_scaled = scaler.fit_transform(X)\n",
        "# Create StratifiedKFold object.\n",
        "skf = StratifiedKFold(n_splits=SPLITS, shuffle=True, random_state=1)"
      ]
    },
    {
      "cell_type": "code",
      "execution_count": 359,
      "metadata": {
        "colab": {
          "base_uri": "https://localhost:8080/"
        },
        "id": "8nlwipIdd1ky",
        "outputId": "cdf0d543-457e-4e3b-f10f-fbb0905e6277"
      },
      "outputs": [
        {
          "output_type": "stream",
          "name": "stdout",
          "text": [
            "Modelo - KNN\n",
            "Fold 1\n",
            "5 Vizinhos | Erro quadrado médio:  71895.33684589967\n",
            "Salario previsto para o jogador: [[244.2]]\n",
            "15 Vizinhos | Erro quadrado médio:  50661.63699742999\n",
            "Salario previsto para o jogador: [[223.93333333]]\n",
            "25 Vizinhos | Erro quadrado médio:  38831.946060919196\n",
            "Salario previsto para o jogador: [[201.]]\n",
            "1000 Vizinhos | Erro quadrado médio:  1849.2385922979875\n",
            "Salario previsto para o jogador: [[46.503]]\n",
            "\n",
            "\n",
            "Fold 2\n",
            "5 Vizinhos | Erro quadrado médio:  105058.59007509761\n",
            "Salario previsto para o jogador: [[340.2]]\n",
            "15 Vizinhos | Erro quadrado médio:  57281.71992924136\n",
            "Salario previsto para o jogador: [[244.26666667]]\n",
            "25 Vizinhos | Erro quadrado médio:  39043.7036803845\n",
            "Salario previsto para o jogador: [[190.64]]\n",
            "1000 Vizinhos | Erro quadrado médio:  1887.8115930735955\n",
            "Salario previsto para o jogador: [[46.878]]\n",
            "\n",
            "\n",
            "Fold 3\n",
            "5 Vizinhos | Erro quadrado médio:  129123.7491739261\n",
            "Salario previsto para o jogador: [[366.]]\n",
            "15 Vizinhos | Erro quadrado médio:  65278.49005306899\n",
            "Salario previsto para o jogador: [[254.2]]\n",
            "25 Vizinhos | Erro quadrado médio:  44488.97351997597\n",
            "Salario previsto para o jogador: [[212.56]]\n",
            "1000 Vizinhos | Erro quadrado médio:  1905.2929280153203\n",
            "Salario previsto para o jogador: [[46.998]]\n",
            "\n",
            "\n",
            "Fold 4\n",
            "5 Vizinhos | Erro quadrado médio:  134656.77891258636\n",
            "Salario previsto para o jogador: [[366.]]\n",
            "15 Vizinhos | Erro quadrado médio:  61218.44216014152\n",
            "Salario previsto para o jogador: [[246.26666667]]\n",
            "25 Vizinhos | Erro quadrado médio:  45823.00181676179\n",
            "Salario previsto para o jogador: [[218.2]]\n",
            "1000 Vizinhos | Erro quadrado médio:  1940.7415920895164\n",
            "Salario previsto para o jogador: [[47.561]]\n",
            "\n",
            "\n",
            "Fold 5\n",
            "5 Vizinhos | Erro quadrado médio:  134616.09732652447\n",
            "Salario previsto para o jogador: [[366.]]\n",
            "15 Vizinhos | Erro quadrado médio:  71706.96499983312\n",
            "Salario previsto para o jogador: [[258.06666667]]\n",
            "25 Vizinhos | Erro quadrado médio:  46187.9009259237\n",
            "Salario previsto para o jogador: [[211.64]]\n",
            "1000 Vizinhos | Erro quadrado médio:  1935.7240110261337\n",
            "Salario previsto para o jogador: [[47.421]]\n",
            "\n",
            "\n"
          ]
        }
      ],
      "source": [
        "print(\"Modelo - KNN\")\n",
        "contador = 0\n",
        "jogador = [[90,50,70,80,30]]\n",
        "for train_index, test_index in skf.split(X, y):\n",
        "    X_train_fold, X_test_fold = X_scaled[train_index], X_scaled[test_index]\n",
        "    y_train_fold, y_test_fold = y[train_index], y[test_index]\n",
        "    contador = contador + 1\n",
        "    print(\"Fold\", contador)\n",
        "    for i in [5,15, 25,1000]:\n",
        "      knn = KNeighborsRegressor(n_neighbors=i)\n",
        "      knn.fit(X_train_fold, y_train_fold)\n",
        "      y_pred1 = knn.predict(X_test)\n",
        "      previsao = knn.predict(jogador)\n",
        "      mean_squared_error = np.mean((y_pred1 - y_test)**2)\n",
        "      print(i,\"Vizinhos | Erro quadrado médio: \", mean_squared_error)\n",
        "      print(\"Salario previsto para o jogador:\", previsao)\n",
        "    print(\"\\n\")"
      ]
    },
    {
      "cell_type": "markdown",
      "metadata": {
        "id": "ol4bnneOd1ky"
      },
      "source": [
        "<h3>Conclusão</h3>\n",
        "\n",
        "Ao utilizar o algoritmo de KNN na nossa base, conseguimos verificar algumas informações tanto sobre os salários dos jogadores quanto os dados.\n",
        "\n",
        "Podemos ver que a maioria dos jogadores ganha pouco, o que é refletido no KNN. Quando aumentamos a quantidade de vizinhos, o salário de um jogador previsto diminui, devido ao fato de o algoritmo passar a considerar mais vizinhos que, via de regra, reduzem a média.\n",
        "\n",
        "O erro médio do KNN nos mostra que a previsão usando somente os atributos *ShortPassing, LongPassing, Reactions, Vision, Composure*, não retorna uma previsão útil em relação ao salário do jogador, pois a tabela tem um total de 56 atributos e usando somente 5 não é possivel aproximar um valor correto do salário dos jogadores."
      ]
    }
  ],
  "metadata": {
    "colab": {
      "collapsed_sections": [],
      "name": "trabalhoICDFinal (1).ipynb",
      "provenance": []
    },
    "kernelspec": {
      "display_name": "Python 3 (ipykernel)",
      "language": "python",
      "name": "python3"
    },
    "language_info": {
      "codemirror_mode": {
        "name": "ipython",
        "version": 3
      },
      "file_extension": ".py",
      "mimetype": "text/x-python",
      "name": "python",
      "nbconvert_exporter": "python",
      "pygments_lexer": "ipython3",
      "version": "3.9.7"
    }
  },
  "nbformat": 4,
  "nbformat_minor": 0
}