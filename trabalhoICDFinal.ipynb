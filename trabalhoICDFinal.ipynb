{
 "cells": [
  {
   "cell_type": "code",
   "execution_count": 1,
   "metadata": {
    "id": "O6HNqwSkcB3i"
   },
   "outputs": [],
   "source": [
    "import pandas as pd\n",
    "import numpy as np\n",
    "import seaborn as sns\n",
    "import matplotlib.pyplot as plt\n",
    "from sklearn.linear_model import LinearRegression\n",
    "from sklearn.neighbors import KNeighborsClassifier, KNeighborsRegressor\n",
    "from sklearn.model_selection import StratifiedKFold,KFold, train_test_split\n",
    "import warnings\n",
    "from sklearn import preprocessing\n",
    "warnings.filterwarnings(\"ignore\")"
   ]
  },
  {
   "cell_type": "code",
   "execution_count": 2,
   "metadata": {
    "colab": {
     "base_uri": "https://localhost:8080/",
     "height": 408
    },
    "id": "4ZUs5x_K2RZO",
    "outputId": "ca5115e2-2ad8-484a-c25a-7ecce50f2017"
   },
   "outputs": [
    {
     "data": {
      "text/html": [
       "<div>\n",
       "<style scoped>\n",
       "    .dataframe tbody tr th:only-of-type {\n",
       "        vertical-align: middle;\n",
       "    }\n",
       "\n",
       "    .dataframe tbody tr th {\n",
       "        vertical-align: top;\n",
       "    }\n",
       "\n",
       "    .dataframe thead th {\n",
       "        text-align: right;\n",
       "    }\n",
       "</style>\n",
       "<table border=\"1\" class=\"dataframe\">\n",
       "  <thead>\n",
       "    <tr style=\"text-align: right;\">\n",
       "      <th></th>\n",
       "      <th>Unnamed: 0</th>\n",
       "      <th>ID</th>\n",
       "      <th>Name</th>\n",
       "      <th>Age</th>\n",
       "      <th>Photo</th>\n",
       "      <th>Nationality</th>\n",
       "      <th>Flag</th>\n",
       "      <th>Overall</th>\n",
       "      <th>Potential</th>\n",
       "      <th>Club</th>\n",
       "      <th>...</th>\n",
       "      <th>Composure</th>\n",
       "      <th>Marking</th>\n",
       "      <th>StandingTackle</th>\n",
       "      <th>SlidingTackle</th>\n",
       "      <th>GKDiving</th>\n",
       "      <th>GKHandling</th>\n",
       "      <th>GKKicking</th>\n",
       "      <th>GKPositioning</th>\n",
       "      <th>GKReflexes</th>\n",
       "      <th>Release Clause</th>\n",
       "    </tr>\n",
       "  </thead>\n",
       "  <tbody>\n",
       "    <tr>\n",
       "      <th>0</th>\n",
       "      <td>0</td>\n",
       "      <td>158023</td>\n",
       "      <td>L. Messi</td>\n",
       "      <td>31</td>\n",
       "      <td>https://cdn.sofifa.org/players/4/19/158023.png</td>\n",
       "      <td>Argentina</td>\n",
       "      <td>https://cdn.sofifa.org/flags/52.png</td>\n",
       "      <td>94</td>\n",
       "      <td>94</td>\n",
       "      <td>FC Barcelona</td>\n",
       "      <td>...</td>\n",
       "      <td>96.0</td>\n",
       "      <td>33.0</td>\n",
       "      <td>28.0</td>\n",
       "      <td>26.0</td>\n",
       "      <td>6.0</td>\n",
       "      <td>11.0</td>\n",
       "      <td>15.0</td>\n",
       "      <td>14.0</td>\n",
       "      <td>8.0</td>\n",
       "      <td>€226.5M</td>\n",
       "    </tr>\n",
       "    <tr>\n",
       "      <th>1</th>\n",
       "      <td>1</td>\n",
       "      <td>20801</td>\n",
       "      <td>Cristiano Ronaldo</td>\n",
       "      <td>33</td>\n",
       "      <td>https://cdn.sofifa.org/players/4/19/20801.png</td>\n",
       "      <td>Portugal</td>\n",
       "      <td>https://cdn.sofifa.org/flags/38.png</td>\n",
       "      <td>94</td>\n",
       "      <td>94</td>\n",
       "      <td>Juventus</td>\n",
       "      <td>...</td>\n",
       "      <td>95.0</td>\n",
       "      <td>28.0</td>\n",
       "      <td>31.0</td>\n",
       "      <td>23.0</td>\n",
       "      <td>7.0</td>\n",
       "      <td>11.0</td>\n",
       "      <td>15.0</td>\n",
       "      <td>14.0</td>\n",
       "      <td>11.0</td>\n",
       "      <td>€127.1M</td>\n",
       "    </tr>\n",
       "    <tr>\n",
       "      <th>2</th>\n",
       "      <td>2</td>\n",
       "      <td>190871</td>\n",
       "      <td>Neymar Jr</td>\n",
       "      <td>26</td>\n",
       "      <td>https://cdn.sofifa.org/players/4/19/190871.png</td>\n",
       "      <td>Brazil</td>\n",
       "      <td>https://cdn.sofifa.org/flags/54.png</td>\n",
       "      <td>92</td>\n",
       "      <td>93</td>\n",
       "      <td>Paris Saint-Germain</td>\n",
       "      <td>...</td>\n",
       "      <td>94.0</td>\n",
       "      <td>27.0</td>\n",
       "      <td>24.0</td>\n",
       "      <td>33.0</td>\n",
       "      <td>9.0</td>\n",
       "      <td>9.0</td>\n",
       "      <td>15.0</td>\n",
       "      <td>15.0</td>\n",
       "      <td>11.0</td>\n",
       "      <td>€228.1M</td>\n",
       "    </tr>\n",
       "    <tr>\n",
       "      <th>3</th>\n",
       "      <td>3</td>\n",
       "      <td>193080</td>\n",
       "      <td>De Gea</td>\n",
       "      <td>27</td>\n",
       "      <td>https://cdn.sofifa.org/players/4/19/193080.png</td>\n",
       "      <td>Spain</td>\n",
       "      <td>https://cdn.sofifa.org/flags/45.png</td>\n",
       "      <td>91</td>\n",
       "      <td>93</td>\n",
       "      <td>Manchester United</td>\n",
       "      <td>...</td>\n",
       "      <td>68.0</td>\n",
       "      <td>15.0</td>\n",
       "      <td>21.0</td>\n",
       "      <td>13.0</td>\n",
       "      <td>90.0</td>\n",
       "      <td>85.0</td>\n",
       "      <td>87.0</td>\n",
       "      <td>88.0</td>\n",
       "      <td>94.0</td>\n",
       "      <td>€138.6M</td>\n",
       "    </tr>\n",
       "    <tr>\n",
       "      <th>4</th>\n",
       "      <td>4</td>\n",
       "      <td>192985</td>\n",
       "      <td>K. De Bruyne</td>\n",
       "      <td>27</td>\n",
       "      <td>https://cdn.sofifa.org/players/4/19/192985.png</td>\n",
       "      <td>Belgium</td>\n",
       "      <td>https://cdn.sofifa.org/flags/7.png</td>\n",
       "      <td>91</td>\n",
       "      <td>92</td>\n",
       "      <td>Manchester City</td>\n",
       "      <td>...</td>\n",
       "      <td>88.0</td>\n",
       "      <td>68.0</td>\n",
       "      <td>58.0</td>\n",
       "      <td>51.0</td>\n",
       "      <td>15.0</td>\n",
       "      <td>13.0</td>\n",
       "      <td>5.0</td>\n",
       "      <td>10.0</td>\n",
       "      <td>13.0</td>\n",
       "      <td>€196.4M</td>\n",
       "    </tr>\n",
       "  </tbody>\n",
       "</table>\n",
       "<p>5 rows × 89 columns</p>\n",
       "</div>"
      ],
      "text/plain": [
       "   Unnamed: 0      ID               Name  Age  \\\n",
       "0           0  158023           L. Messi   31   \n",
       "1           1   20801  Cristiano Ronaldo   33   \n",
       "2           2  190871          Neymar Jr   26   \n",
       "3           3  193080             De Gea   27   \n",
       "4           4  192985       K. De Bruyne   27   \n",
       "\n",
       "                                            Photo Nationality  \\\n",
       "0  https://cdn.sofifa.org/players/4/19/158023.png   Argentina   \n",
       "1   https://cdn.sofifa.org/players/4/19/20801.png    Portugal   \n",
       "2  https://cdn.sofifa.org/players/4/19/190871.png      Brazil   \n",
       "3  https://cdn.sofifa.org/players/4/19/193080.png       Spain   \n",
       "4  https://cdn.sofifa.org/players/4/19/192985.png     Belgium   \n",
       "\n",
       "                                  Flag  Overall  Potential  \\\n",
       "0  https://cdn.sofifa.org/flags/52.png       94         94   \n",
       "1  https://cdn.sofifa.org/flags/38.png       94         94   \n",
       "2  https://cdn.sofifa.org/flags/54.png       92         93   \n",
       "3  https://cdn.sofifa.org/flags/45.png       91         93   \n",
       "4   https://cdn.sofifa.org/flags/7.png       91         92   \n",
       "\n",
       "                  Club  ... Composure Marking StandingTackle  SlidingTackle  \\\n",
       "0         FC Barcelona  ...      96.0    33.0           28.0           26.0   \n",
       "1             Juventus  ...      95.0    28.0           31.0           23.0   \n",
       "2  Paris Saint-Germain  ...      94.0    27.0           24.0           33.0   \n",
       "3    Manchester United  ...      68.0    15.0           21.0           13.0   \n",
       "4      Manchester City  ...      88.0    68.0           58.0           51.0   \n",
       "\n",
       "  GKDiving  GKHandling  GKKicking  GKPositioning GKReflexes Release Clause  \n",
       "0      6.0        11.0       15.0           14.0        8.0        €226.5M  \n",
       "1      7.0        11.0       15.0           14.0       11.0        €127.1M  \n",
       "2      9.0         9.0       15.0           15.0       11.0        €228.1M  \n",
       "3     90.0        85.0       87.0           88.0       94.0        €138.6M  \n",
       "4     15.0        13.0        5.0           10.0       13.0        €196.4M  \n",
       "\n",
       "[5 rows x 89 columns]"
      ]
     },
     "execution_count": 2,
     "metadata": {},
     "output_type": "execute_result"
    }
   ],
   "source": [
    "data = pd.read_csv('https://raw.githubusercontent.com/leandrodinizsilva/tp-icd/main/data.csv',\n",
    "                 sep=',',\n",
    "                 header=0)\n",
    "data.head()"
   ]
  },
  {
   "cell_type": "markdown",
   "metadata": {
    "id": "ok0VZd4E9jnq"
   },
   "source": [
    "## Processamento de dados"
   ]
  },
  {
   "cell_type": "code",
   "execution_count": 3,
   "metadata": {
    "id": "S3oSiCdferSB"
   },
   "outputs": [],
   "source": [
    "#retirando colunas irrelavantes\n",
    "data.drop(['Unnamed: 0','ID','Photo', 'Flag', 'Club Logo', 'Loaned From'], axis=1, inplace=True)\n",
    "cols = [i for i in range(22,49)]\n",
    "data.drop(data.columns[cols], axis = 1, inplace=True)\n",
    "\n",
    "#arrumando a altura e o peso\n",
    "pd.options.display.max_columns = 90\n",
    "data['Weight'] =  data['Weight'].str[:3].astype(float) /  2.205\n",
    "data['Height(cm)'] = data['Height'].str.split(\"'\") \n",
    "data['Height'] = (12 * data['Height(cm)'].str[0].astype(float) + data['Height(cm)'].str[1].astype(float)) * 2.54\n",
    "data.drop(['Height(cm)'], axis=1, inplace=True)\n",
    "data.rename({'Height': 'Height (cm)', 'Weight': 'Weight (kg)'},axis=1, inplace=True)\n"
   ]
  },
  {
   "cell_type": "code",
   "execution_count": 4,
   "metadata": {
    "id": "AouFNrBayDBz"
   },
   "outputs": [],
   "source": [
    "#arrumando o valor, salário e cláusula de quebra\n",
    "s = pd.Series(['Value','Wage','Release Clause'])\n",
    "for i in s:\n",
    "  data['aux1'] = data[i].str.extract('(€\\d+)')\n",
    "  data['aux1'] = data['aux1'].str.extract('(\\d+)')\n",
    "  data['aux1'] = data['aux1'].astype(float)\n",
    "  data['aux2'] = data[i].str.extract('(\\.\\d+)')\n",
    "  data['aux2'].fillna(0, inplace=True)\n",
    "  data['aux2'] = data['aux2'].astype(float)\n",
    "  data[i] = data['aux1'] + data['aux2']\n",
    "  data.drop(['aux1', 'aux2'],axis=1,inplace=True)"
   ]
  },
  {
   "cell_type": "code",
   "execution_count": 5,
   "metadata": {
    "colab": {
     "base_uri": "https://localhost:8080/"
    },
    "id": "QB9H6TJlzyko",
    "outputId": "1df89519-d501-4ee4-d8bd-447e62bdc565"
   },
   "outputs": [
    {
     "data": {
      "text/plain": [
       "{'Lean', 'Normal', 'Stocky', nan}"
      ]
     },
     "execution_count": 5,
     "metadata": {},
     "output_type": "execute_result"
    }
   ],
   "source": [
    "#Arrumando os tipos corporais\n",
    "data.loc[data['Body Type'] == 'Akinfenwa', 'Body Type'] = 'Stocky'\n",
    "data.loc[data['Body Type'] == 'Neymar', 'Body Type'] = 'Lean'\n",
    "data.loc[data['Body Type'] == 'Messi', 'Body Type'] = 'Lean'\n",
    "data.loc[data['Body Type'] == 'C. Ronaldo', 'Body Type'] = 'Stocky'\n",
    "data.loc[data['Body Type'] == 'Shaqiri', 'Body Type'] = 'Stocky'\n",
    "data.loc[data['Body Type'] == 'Courtois', 'Body Type'] = 'Normal'\n",
    "data.loc[data['Body Type'] == 'PLAYER_BODY_TYPE_25', 'Body Type'] = 'Normal'\n",
    "\n",
    "#Agora só há três tipos\n",
    "set(data['Body Type'])"
   ]
  },
  {
   "cell_type": "code",
   "execution_count": 6,
   "metadata": {
    "colab": {
     "base_uri": "https://localhost:8080/"
    },
    "id": "Z3KzRV8H7hJA",
    "outputId": "0b9a8fda-e218-4ce4-fbde-f54746ba43e2"
   },
   "outputs": [
    {
     "data": {
      "text/plain": [
       "(18207, 56)"
      ]
     },
     "execution_count": 6,
     "metadata": {},
     "output_type": "execute_result"
    }
   ],
   "source": [
    "#tamanho normal\n",
    "data.shape"
   ]
  },
  {
   "cell_type": "code",
   "execution_count": 7,
   "metadata": {
    "colab": {
     "base_uri": "https://localhost:8080/"
    },
    "id": "w5A9657gD-cu",
    "outputId": "ad61ae4e-87fd-4f78-c583-a463ea05d7a7"
   },
   "outputs": [
    {
     "data": {
      "text/plain": [
       "(16643, 56)"
      ]
     },
     "execution_count": 7,
     "metadata": {},
     "output_type": "execute_result"
    }
   ],
   "source": [
    "#tamanho depois de remover os nulos (diferença de ~1500)\n",
    "data = data.dropna()\n",
    "data.shape"
   ]
  },
  {
   "cell_type": "markdown",
   "metadata": {
    "id": "XUNENPEx9X3E"
   },
   "source": [
    "## Análise explatória de dados (Thales)"
   ]
  },
  {
   "cell_type": "code",
   "execution_count": 8,
   "metadata": {
    "colab": {
     "base_uri": "https://localhost:8080/",
     "height": 408
    },
    "id": "f90_S5Fn9c8q",
    "outputId": "4484324d-eb8e-4318-8c2e-5d2da846bc92"
   },
   "outputs": [
    {
     "data": {
      "text/html": [
       "<div>\n",
       "<style scoped>\n",
       "    .dataframe tbody tr th:only-of-type {\n",
       "        vertical-align: middle;\n",
       "    }\n",
       "\n",
       "    .dataframe tbody tr th {\n",
       "        vertical-align: top;\n",
       "    }\n",
       "\n",
       "    .dataframe thead th {\n",
       "        text-align: right;\n",
       "    }\n",
       "</style>\n",
       "<table border=\"1\" class=\"dataframe\">\n",
       "  <thead>\n",
       "    <tr style=\"text-align: right;\">\n",
       "      <th></th>\n",
       "      <th>Name</th>\n",
       "      <th>Age</th>\n",
       "      <th>Nationality</th>\n",
       "      <th>Overall</th>\n",
       "      <th>Potential</th>\n",
       "      <th>Club</th>\n",
       "      <th>Value</th>\n",
       "      <th>Wage</th>\n",
       "      <th>Special</th>\n",
       "      <th>Preferred Foot</th>\n",
       "      <th>International Reputation</th>\n",
       "      <th>Weak Foot</th>\n",
       "      <th>Skill Moves</th>\n",
       "      <th>Work Rate</th>\n",
       "      <th>Body Type</th>\n",
       "      <th>Real Face</th>\n",
       "      <th>Position</th>\n",
       "      <th>Jersey Number</th>\n",
       "      <th>Joined</th>\n",
       "      <th>Contract Valid Until</th>\n",
       "      <th>Height (cm)</th>\n",
       "      <th>Weight (kg)</th>\n",
       "      <th>Finishing</th>\n",
       "      <th>HeadingAccuracy</th>\n",
       "      <th>ShortPassing</th>\n",
       "      <th>Volleys</th>\n",
       "      <th>Dribbling</th>\n",
       "      <th>Curve</th>\n",
       "      <th>FKAccuracy</th>\n",
       "      <th>LongPassing</th>\n",
       "      <th>BallControl</th>\n",
       "      <th>Acceleration</th>\n",
       "      <th>SprintSpeed</th>\n",
       "      <th>Agility</th>\n",
       "      <th>Reactions</th>\n",
       "      <th>Balance</th>\n",
       "      <th>ShotPower</th>\n",
       "      <th>Jumping</th>\n",
       "      <th>Stamina</th>\n",
       "      <th>Strength</th>\n",
       "      <th>LongShots</th>\n",
       "      <th>Aggression</th>\n",
       "      <th>Interceptions</th>\n",
       "      <th>Positioning</th>\n",
       "      <th>Vision</th>\n",
       "      <th>Penalties</th>\n",
       "      <th>Composure</th>\n",
       "      <th>Marking</th>\n",
       "      <th>StandingTackle</th>\n",
       "      <th>SlidingTackle</th>\n",
       "      <th>GKDiving</th>\n",
       "      <th>GKHandling</th>\n",
       "      <th>GKKicking</th>\n",
       "      <th>GKPositioning</th>\n",
       "      <th>GKReflexes</th>\n",
       "      <th>Release Clause</th>\n",
       "    </tr>\n",
       "  </thead>\n",
       "  <tbody>\n",
       "    <tr>\n",
       "      <th>0</th>\n",
       "      <td>L. Messi</td>\n",
       "      <td>31</td>\n",
       "      <td>Argentina</td>\n",
       "      <td>94</td>\n",
       "      <td>94</td>\n",
       "      <td>FC Barcelona</td>\n",
       "      <td>110.5</td>\n",
       "      <td>565.0</td>\n",
       "      <td>2202</td>\n",
       "      <td>Left</td>\n",
       "      <td>5.0</td>\n",
       "      <td>4.0</td>\n",
       "      <td>4.0</td>\n",
       "      <td>Medium/ Medium</td>\n",
       "      <td>Lean</td>\n",
       "      <td>Yes</td>\n",
       "      <td>RF</td>\n",
       "      <td>10.0</td>\n",
       "      <td>Jul 1, 2004</td>\n",
       "      <td>2021</td>\n",
       "      <td>170.18</td>\n",
       "      <td>72.108844</td>\n",
       "      <td>95.0</td>\n",
       "      <td>70.0</td>\n",
       "      <td>90.0</td>\n",
       "      <td>86.0</td>\n",
       "      <td>97.0</td>\n",
       "      <td>93.0</td>\n",
       "      <td>94.0</td>\n",
       "      <td>87.0</td>\n",
       "      <td>96.0</td>\n",
       "      <td>91.0</td>\n",
       "      <td>86.0</td>\n",
       "      <td>91.0</td>\n",
       "      <td>95.0</td>\n",
       "      <td>95.0</td>\n",
       "      <td>85.0</td>\n",
       "      <td>68.0</td>\n",
       "      <td>72.0</td>\n",
       "      <td>59.0</td>\n",
       "      <td>94.0</td>\n",
       "      <td>48.0</td>\n",
       "      <td>22.0</td>\n",
       "      <td>94.0</td>\n",
       "      <td>94.0</td>\n",
       "      <td>75.0</td>\n",
       "      <td>96.0</td>\n",
       "      <td>33.0</td>\n",
       "      <td>28.0</td>\n",
       "      <td>26.0</td>\n",
       "      <td>6.0</td>\n",
       "      <td>11.0</td>\n",
       "      <td>15.0</td>\n",
       "      <td>14.0</td>\n",
       "      <td>8.0</td>\n",
       "      <td>226.5</td>\n",
       "    </tr>\n",
       "    <tr>\n",
       "      <th>1</th>\n",
       "      <td>Cristiano Ronaldo</td>\n",
       "      <td>33</td>\n",
       "      <td>Portugal</td>\n",
       "      <td>94</td>\n",
       "      <td>94</td>\n",
       "      <td>Juventus</td>\n",
       "      <td>77.0</td>\n",
       "      <td>405.0</td>\n",
       "      <td>2228</td>\n",
       "      <td>Right</td>\n",
       "      <td>5.0</td>\n",
       "      <td>4.0</td>\n",
       "      <td>5.0</td>\n",
       "      <td>High/ Low</td>\n",
       "      <td>Stocky</td>\n",
       "      <td>Yes</td>\n",
       "      <td>ST</td>\n",
       "      <td>7.0</td>\n",
       "      <td>Jul 10, 2018</td>\n",
       "      <td>2022</td>\n",
       "      <td>187.96</td>\n",
       "      <td>82.993197</td>\n",
       "      <td>94.0</td>\n",
       "      <td>89.0</td>\n",
       "      <td>81.0</td>\n",
       "      <td>87.0</td>\n",
       "      <td>88.0</td>\n",
       "      <td>81.0</td>\n",
       "      <td>76.0</td>\n",
       "      <td>77.0</td>\n",
       "      <td>94.0</td>\n",
       "      <td>89.0</td>\n",
       "      <td>91.0</td>\n",
       "      <td>87.0</td>\n",
       "      <td>96.0</td>\n",
       "      <td>70.0</td>\n",
       "      <td>95.0</td>\n",
       "      <td>95.0</td>\n",
       "      <td>88.0</td>\n",
       "      <td>79.0</td>\n",
       "      <td>93.0</td>\n",
       "      <td>63.0</td>\n",
       "      <td>29.0</td>\n",
       "      <td>95.0</td>\n",
       "      <td>82.0</td>\n",
       "      <td>85.0</td>\n",
       "      <td>95.0</td>\n",
       "      <td>28.0</td>\n",
       "      <td>31.0</td>\n",
       "      <td>23.0</td>\n",
       "      <td>7.0</td>\n",
       "      <td>11.0</td>\n",
       "      <td>15.0</td>\n",
       "      <td>14.0</td>\n",
       "      <td>11.0</td>\n",
       "      <td>127.1</td>\n",
       "    </tr>\n",
       "    <tr>\n",
       "      <th>2</th>\n",
       "      <td>Neymar Jr</td>\n",
       "      <td>26</td>\n",
       "      <td>Brazil</td>\n",
       "      <td>92</td>\n",
       "      <td>93</td>\n",
       "      <td>Paris Saint-Germain</td>\n",
       "      <td>118.5</td>\n",
       "      <td>290.0</td>\n",
       "      <td>2143</td>\n",
       "      <td>Right</td>\n",
       "      <td>5.0</td>\n",
       "      <td>5.0</td>\n",
       "      <td>5.0</td>\n",
       "      <td>High/ Medium</td>\n",
       "      <td>Lean</td>\n",
       "      <td>Yes</td>\n",
       "      <td>LW</td>\n",
       "      <td>10.0</td>\n",
       "      <td>Aug 3, 2017</td>\n",
       "      <td>2022</td>\n",
       "      <td>175.26</td>\n",
       "      <td>68.027211</td>\n",
       "      <td>87.0</td>\n",
       "      <td>62.0</td>\n",
       "      <td>84.0</td>\n",
       "      <td>84.0</td>\n",
       "      <td>96.0</td>\n",
       "      <td>88.0</td>\n",
       "      <td>87.0</td>\n",
       "      <td>78.0</td>\n",
       "      <td>95.0</td>\n",
       "      <td>94.0</td>\n",
       "      <td>90.0</td>\n",
       "      <td>96.0</td>\n",
       "      <td>94.0</td>\n",
       "      <td>84.0</td>\n",
       "      <td>80.0</td>\n",
       "      <td>61.0</td>\n",
       "      <td>81.0</td>\n",
       "      <td>49.0</td>\n",
       "      <td>82.0</td>\n",
       "      <td>56.0</td>\n",
       "      <td>36.0</td>\n",
       "      <td>89.0</td>\n",
       "      <td>87.0</td>\n",
       "      <td>81.0</td>\n",
       "      <td>94.0</td>\n",
       "      <td>27.0</td>\n",
       "      <td>24.0</td>\n",
       "      <td>33.0</td>\n",
       "      <td>9.0</td>\n",
       "      <td>9.0</td>\n",
       "      <td>15.0</td>\n",
       "      <td>15.0</td>\n",
       "      <td>11.0</td>\n",
       "      <td>228.1</td>\n",
       "    </tr>\n",
       "    <tr>\n",
       "      <th>3</th>\n",
       "      <td>De Gea</td>\n",
       "      <td>27</td>\n",
       "      <td>Spain</td>\n",
       "      <td>91</td>\n",
       "      <td>93</td>\n",
       "      <td>Manchester United</td>\n",
       "      <td>72.0</td>\n",
       "      <td>260.0</td>\n",
       "      <td>1471</td>\n",
       "      <td>Right</td>\n",
       "      <td>4.0</td>\n",
       "      <td>3.0</td>\n",
       "      <td>1.0</td>\n",
       "      <td>Medium/ Medium</td>\n",
       "      <td>Lean</td>\n",
       "      <td>Yes</td>\n",
       "      <td>GK</td>\n",
       "      <td>1.0</td>\n",
       "      <td>Jul 1, 2011</td>\n",
       "      <td>2020</td>\n",
       "      <td>193.04</td>\n",
       "      <td>76.190476</td>\n",
       "      <td>13.0</td>\n",
       "      <td>21.0</td>\n",
       "      <td>50.0</td>\n",
       "      <td>13.0</td>\n",
       "      <td>18.0</td>\n",
       "      <td>21.0</td>\n",
       "      <td>19.0</td>\n",
       "      <td>51.0</td>\n",
       "      <td>42.0</td>\n",
       "      <td>57.0</td>\n",
       "      <td>58.0</td>\n",
       "      <td>60.0</td>\n",
       "      <td>90.0</td>\n",
       "      <td>43.0</td>\n",
       "      <td>31.0</td>\n",
       "      <td>67.0</td>\n",
       "      <td>43.0</td>\n",
       "      <td>64.0</td>\n",
       "      <td>12.0</td>\n",
       "      <td>38.0</td>\n",
       "      <td>30.0</td>\n",
       "      <td>12.0</td>\n",
       "      <td>68.0</td>\n",
       "      <td>40.0</td>\n",
       "      <td>68.0</td>\n",
       "      <td>15.0</td>\n",
       "      <td>21.0</td>\n",
       "      <td>13.0</td>\n",
       "      <td>90.0</td>\n",
       "      <td>85.0</td>\n",
       "      <td>87.0</td>\n",
       "      <td>88.0</td>\n",
       "      <td>94.0</td>\n",
       "      <td>138.6</td>\n",
       "    </tr>\n",
       "    <tr>\n",
       "      <th>4</th>\n",
       "      <td>K. De Bruyne</td>\n",
       "      <td>27</td>\n",
       "      <td>Belgium</td>\n",
       "      <td>91</td>\n",
       "      <td>92</td>\n",
       "      <td>Manchester City</td>\n",
       "      <td>102.0</td>\n",
       "      <td>355.0</td>\n",
       "      <td>2281</td>\n",
       "      <td>Right</td>\n",
       "      <td>4.0</td>\n",
       "      <td>5.0</td>\n",
       "      <td>4.0</td>\n",
       "      <td>High/ High</td>\n",
       "      <td>Normal</td>\n",
       "      <td>Yes</td>\n",
       "      <td>RCM</td>\n",
       "      <td>7.0</td>\n",
       "      <td>Aug 30, 2015</td>\n",
       "      <td>2023</td>\n",
       "      <td>180.34</td>\n",
       "      <td>69.841270</td>\n",
       "      <td>82.0</td>\n",
       "      <td>55.0</td>\n",
       "      <td>92.0</td>\n",
       "      <td>82.0</td>\n",
       "      <td>86.0</td>\n",
       "      <td>85.0</td>\n",
       "      <td>83.0</td>\n",
       "      <td>91.0</td>\n",
       "      <td>91.0</td>\n",
       "      <td>78.0</td>\n",
       "      <td>76.0</td>\n",
       "      <td>79.0</td>\n",
       "      <td>91.0</td>\n",
       "      <td>77.0</td>\n",
       "      <td>91.0</td>\n",
       "      <td>63.0</td>\n",
       "      <td>90.0</td>\n",
       "      <td>75.0</td>\n",
       "      <td>91.0</td>\n",
       "      <td>76.0</td>\n",
       "      <td>61.0</td>\n",
       "      <td>87.0</td>\n",
       "      <td>94.0</td>\n",
       "      <td>79.0</td>\n",
       "      <td>88.0</td>\n",
       "      <td>68.0</td>\n",
       "      <td>58.0</td>\n",
       "      <td>51.0</td>\n",
       "      <td>15.0</td>\n",
       "      <td>13.0</td>\n",
       "      <td>5.0</td>\n",
       "      <td>10.0</td>\n",
       "      <td>13.0</td>\n",
       "      <td>196.4</td>\n",
       "    </tr>\n",
       "  </tbody>\n",
       "</table>\n",
       "</div>"
      ],
      "text/plain": [
       "                Name  Age Nationality  Overall  Potential  \\\n",
       "0           L. Messi   31   Argentina       94         94   \n",
       "1  Cristiano Ronaldo   33    Portugal       94         94   \n",
       "2          Neymar Jr   26      Brazil       92         93   \n",
       "3             De Gea   27       Spain       91         93   \n",
       "4       K. De Bruyne   27     Belgium       91         92   \n",
       "\n",
       "                  Club  Value   Wage  Special Preferred Foot  \\\n",
       "0         FC Barcelona  110.5  565.0     2202           Left   \n",
       "1             Juventus   77.0  405.0     2228          Right   \n",
       "2  Paris Saint-Germain  118.5  290.0     2143          Right   \n",
       "3    Manchester United   72.0  260.0     1471          Right   \n",
       "4      Manchester City  102.0  355.0     2281          Right   \n",
       "\n",
       "   International Reputation  Weak Foot  Skill Moves       Work Rate Body Type  \\\n",
       "0                       5.0        4.0          4.0  Medium/ Medium      Lean   \n",
       "1                       5.0        4.0          5.0       High/ Low    Stocky   \n",
       "2                       5.0        5.0          5.0    High/ Medium      Lean   \n",
       "3                       4.0        3.0          1.0  Medium/ Medium      Lean   \n",
       "4                       4.0        5.0          4.0      High/ High    Normal   \n",
       "\n",
       "  Real Face Position  Jersey Number        Joined Contract Valid Until  \\\n",
       "0       Yes       RF           10.0   Jul 1, 2004                 2021   \n",
       "1       Yes       ST            7.0  Jul 10, 2018                 2022   \n",
       "2       Yes       LW           10.0   Aug 3, 2017                 2022   \n",
       "3       Yes       GK            1.0   Jul 1, 2011                 2020   \n",
       "4       Yes      RCM            7.0  Aug 30, 2015                 2023   \n",
       "\n",
       "   Height (cm)  Weight (kg)  Finishing  HeadingAccuracy  ShortPassing  \\\n",
       "0       170.18    72.108844       95.0             70.0          90.0   \n",
       "1       187.96    82.993197       94.0             89.0          81.0   \n",
       "2       175.26    68.027211       87.0             62.0          84.0   \n",
       "3       193.04    76.190476       13.0             21.0          50.0   \n",
       "4       180.34    69.841270       82.0             55.0          92.0   \n",
       "\n",
       "   Volleys  Dribbling  Curve  FKAccuracy  LongPassing  BallControl  \\\n",
       "0     86.0       97.0   93.0        94.0         87.0         96.0   \n",
       "1     87.0       88.0   81.0        76.0         77.0         94.0   \n",
       "2     84.0       96.0   88.0        87.0         78.0         95.0   \n",
       "3     13.0       18.0   21.0        19.0         51.0         42.0   \n",
       "4     82.0       86.0   85.0        83.0         91.0         91.0   \n",
       "\n",
       "   Acceleration  SprintSpeed  Agility  Reactions  Balance  ShotPower  Jumping  \\\n",
       "0          91.0         86.0     91.0       95.0     95.0       85.0     68.0   \n",
       "1          89.0         91.0     87.0       96.0     70.0       95.0     95.0   \n",
       "2          94.0         90.0     96.0       94.0     84.0       80.0     61.0   \n",
       "3          57.0         58.0     60.0       90.0     43.0       31.0     67.0   \n",
       "4          78.0         76.0     79.0       91.0     77.0       91.0     63.0   \n",
       "\n",
       "   Stamina  Strength  LongShots  Aggression  Interceptions  Positioning  \\\n",
       "0     72.0      59.0       94.0        48.0           22.0         94.0   \n",
       "1     88.0      79.0       93.0        63.0           29.0         95.0   \n",
       "2     81.0      49.0       82.0        56.0           36.0         89.0   \n",
       "3     43.0      64.0       12.0        38.0           30.0         12.0   \n",
       "4     90.0      75.0       91.0        76.0           61.0         87.0   \n",
       "\n",
       "   Vision  Penalties  Composure  Marking  StandingTackle  SlidingTackle  \\\n",
       "0    94.0       75.0       96.0     33.0            28.0           26.0   \n",
       "1    82.0       85.0       95.0     28.0            31.0           23.0   \n",
       "2    87.0       81.0       94.0     27.0            24.0           33.0   \n",
       "3    68.0       40.0       68.0     15.0            21.0           13.0   \n",
       "4    94.0       79.0       88.0     68.0            58.0           51.0   \n",
       "\n",
       "   GKDiving  GKHandling  GKKicking  GKPositioning  GKReflexes  Release Clause  \n",
       "0       6.0        11.0       15.0           14.0         8.0           226.5  \n",
       "1       7.0        11.0       15.0           14.0        11.0           127.1  \n",
       "2       9.0         9.0       15.0           15.0        11.0           228.1  \n",
       "3      90.0        85.0       87.0           88.0        94.0           138.6  \n",
       "4      15.0        13.0        5.0           10.0        13.0           196.4  "
      ]
     },
     "metadata": {},
     "output_type": "display_data"
    }
   ],
   "source": [
    "#A \"cara\" do dataset:\n",
    "display(data.head())"
   ]
  },
  {
   "cell_type": "code",
   "execution_count": 9,
   "metadata": {
    "colab": {
     "base_uri": "https://localhost:8080/",
     "height": 532
    },
    "id": "u5W7XvqF3hQO",
    "outputId": "cf26a870-521f-48b4-a75d-245a48e644eb"
   },
   "outputs": [
    {
     "data": {
      "text/plain": [
       "<AxesSubplot:title={'center':'Nº jogadores por país'}, xlabel='Nationality'>"
      ]
     },
     "execution_count": 9,
     "metadata": {},
     "output_type": "execute_result"
    },
    {
     "data": {
      "image/png": "[encoded data removed]",
      "text/plain": [
       "<Figure size 504x504 with 1 Axes>"
      ]
     },
     "metadata": {
      "needs_background": "light"
     },
     "output_type": "display_data"
    }
   ],
   "source": [
    "attribute = data.groupby(['Nationality'], as_index = False).count()\n",
    "#attribute = attribute[['Nationality', 'Name']]\n",
    "attribute = pd.DataFrame(attribute[['Nationality', 'Name']]).sort_values(by = 'Name', ascending = False)\n",
    "attribute = attribute[:10]\n",
    "\n",
    "#attribute['Name'].plot.bar(x = 'Nationality', xlabel = 'País', title = 'Salário médio por nacionalidade', ylabel = 'Valor (milhares de euros)', legend=False, figsize = (7,7))\n",
    "attribute.plot.bar(x = 'Nationality', title = 'Nº jogadores por país', figsize = (7,7), legend = False)"
   ]
  },
  {
   "cell_type": "code",
   "execution_count": 10,
   "metadata": {
    "colab": {
     "base_uri": "https://localhost:8080/",
     "height": 532
    },
    "id": "ABhuyzE60zSY",
    "outputId": "82066e3c-b8c0-4af7-af4d-643132495496"
   },
   "outputs": [
    {
     "data": {
      "text/plain": [
       "<AxesSubplot:title={'center':'Salário médio por país'}, xlabel='País', ylabel='Valor (milhares de euros)'>"
      ]
     },
     "execution_count": 10,
     "metadata": {},
     "output_type": "execute_result"
    },
    {
     "data": {
      "image/png": "[encoded data removed]",
      "text/plain": [
       "<Figure size 504x504 with 1 Axes>"
      ]
     },
     "metadata": {
      "needs_background": "light"
     },
     "output_type": "display_data"
    }
   ],
   "source": [
    "attribute = data.groupby(['Nationality'], as_index = False).mean()\n",
    "attribute = pd.DataFrame(attribute[['Nationality', 'Wage']]).sort_values(by = 'Wage', ascending = False)\n",
    "attribute = attribute[:10]\n",
    "\n",
    "attribute.plot.bar(x = 'Nationality', xlabel = 'País', title = 'Salário médio por país', ylabel = 'Valor (milhares de euros)', legend=False, figsize = (7,7))"
   ]
  },
  {
   "cell_type": "code",
   "execution_count": 11,
   "metadata": {
    "colab": {
     "base_uri": "https://localhost:8080/",
     "height": 532
    },
    "id": "Wj36tFoY12fk",
    "outputId": "d00ac0c3-8fd4-4343-f93a-39974e04a7fd"
   },
   "outputs": [
    {
     "data": {
      "text/plain": [
       "<AxesSubplot:title={'center':'Salário mediano por país'}, xlabel='País', ylabel='Valor (milhares de euros)'>"
      ]
     },
     "execution_count": 11,
     "metadata": {},
     "output_type": "execute_result"
    },
    {
     "data": {
      "image/png": "[encoded data removed]",
      "text/plain": [
       "<Figure size 504x504 with 1 Axes>"
      ]
     },
     "metadata": {
      "needs_background": "light"
     },
     "output_type": "display_data"
    }
   ],
   "source": [
    "attribute = data.groupby(['Nationality'], as_index = False).median()\n",
    "attribute = pd.DataFrame(attribute[['Nationality', 'Wage']]).sort_values(by = 'Wage', ascending = False)\n",
    "attribute = attribute[:10]\n",
    "\n",
    "attribute.plot.bar(x = 'Nationality', xlabel = 'País', title = 'Salário mediano por país', ylabel = 'Valor (milhares de euros)', legend=False, figsize = (7,7))"
   ]
  },
  {
   "cell_type": "code",
   "execution_count": 12,
   "metadata": {
    "colab": {
     "base_uri": "https://localhost:8080/",
     "height": 748
    },
    "id": "GFsfMVHs9fDa",
    "outputId": "ba05f719-f183-4b28-87dc-00e9c6d0cf6b"
   },
   "outputs": [
    {
     "data": {
      "text/plain": [
       "<matplotlib.legend.Legend at 0x22bcf5dca30>"
      ]
     },
     "execution_count": 12,
     "metadata": {},
     "output_type": "execute_result"
    },
    {
     "data": {
      "image/png": "[encoded data removed]",
      "text/plain": [
       "<Figure size 576x720 with 1 Axes>"
      ]
     },
     "metadata": {
      "needs_background": "light"
     },
     "output_type": "display_data"
    }
   ],
   "source": [
    "#Médias dos atributos por tipo corporal:\n",
    "attribute = data.groupby(['Body Type'], as_index = False).mean()\n",
    "\n",
    "#A maioria das categorias são iguais para todos os grupos, mas essas apresentam algumas diferenças:\n",
    "attribute = pd.DataFrame(attribute[['Body Type', 'Acceleration', 'Agility', 'Dribbling', 'Strength','Aggression']]).sort_values(by = ['Acceleration', 'Agility', 'Dribbling', 'Strength','Aggression'])\n",
    "\n",
    "#Percebe-se que os atletas magros são, em média, um pouco mais rápidos, agéis e driblam melhor.\n",
    "#Os mesormorfos são mais pesados, fortes e agressivos\n",
    "\n",
    "attribute.plot.bar(x ='Body Type', xlabel = 'Tipo Corporal', ylabel ='Valor (adimensional)', title='Média dos atributos por tipo corporal', figsize = (8,10))\n",
    "plt.legend(loc = 4, prop = {'size': 10})"
   ]
  },
  {
   "cell_type": "code",
   "execution_count": 13,
   "metadata": {
    "colab": {
     "base_uri": "https://localhost:8080/",
     "height": 532
    },
    "id": "X68u08qmzq_S",
    "outputId": "3dac8fb9-4786-4c77-910b-c2eba53bfe95"
   },
   "outputs": [
    {
     "data": {
      "text/plain": [
       "<AxesSubplot:title={'center':'Valor médio da clásula de quebra'}, xlabel='Tipo Corporal', ylabel='Valor (milhões de euros)'>"
      ]
     },
     "execution_count": 13,
     "metadata": {},
     "output_type": "execute_result"
    },
    {
     "data": {
      "image/png": "[encoded data removed]",
      "text/plain": [
       "<Figure size 504x504 with 1 Axes>"
      ]
     },
     "metadata": {
      "needs_background": "light"
     },
     "output_type": "display_data"
    }
   ],
   "source": [
    "attribute = data.groupby(['Body Type'], as_index = False).mean()\n",
    "attribute = pd.DataFrame(attribute[['Body Type', 'Release Clause']]).sort_values(by = 'Release Clause')\n",
    "attribute.plot.bar(x = 'Body Type', xlabel = 'Tipo Corporal', title = 'Valor médio da clásula de quebra', ylabel = 'Valor (milhões de euros)', legend=False, figsize = (7,7))"
   ]
  },
  {
   "cell_type": "code",
   "execution_count": 14,
   "metadata": {
    "colab": {
     "base_uri": "https://localhost:8080/",
     "height": 532
    },
    "id": "ME84pQHoCt9a",
    "outputId": "8685dadd-8c12-4eb2-e260-54dd53976872"
   },
   "outputs": [
    {
     "data": {
      "text/plain": [
       "<AxesSubplot:title={'center':'Valor mediano da clásula de quebra'}, xlabel='Tipo Corporal', ylabel='Valor (milhões de euros)'>"
      ]
     },
     "execution_count": 14,
     "metadata": {},
     "output_type": "execute_result"
    },
    {
     "data": {
      "image/png": "[encoded data removed]",
      "text/plain": [
       "<Figure size 504x504 with 1 Axes>"
      ]
     },
     "metadata": {
      "needs_background": "light"
     },
     "output_type": "display_data"
    }
   ],
   "source": [
    "#Vamos considerar as medianas dos mesmos atributos\n",
    "attribute_median = data.groupby(['Body Type'], as_index = False).median()\n",
    "attribute_median = pd.DataFrame(attribute_median[['Body Type', 'Release Clause']]).sort_values(by = 'Release Clause')\n",
    "attribute_median.plot.bar(x = 'Body Type', xlabel = 'Tipo Corporal', title = 'Valor mediano da clásula de quebra', ylabel = 'Valor (milhões de euros)', legend=False, figsize = (7,7))"
   ]
  },
  {
   "cell_type": "code",
   "execution_count": 15,
   "metadata": {
    "colab": {
     "base_uri": "https://localhost:8080/",
     "height": 532
    },
    "id": "cOW3Eru85WFw",
    "outputId": "053b059e-c205-405f-f449-b26a1dafa66f"
   },
   "outputs": [
    {
     "data": {
      "text/plain": [
       "<AxesSubplot:title={'center':'Valor médio do jogador'}, xlabel='Tipo Corporal', ylabel='Valor (milhões de euros)'>"
      ]
     },
     "execution_count": 15,
     "metadata": {},
     "output_type": "execute_result"
    },
    {
     "data": {
      "image/png": "[encoded data removed]",
      "text/plain": [
       "<Figure size 504x504 with 1 Axes>"
      ]
     },
     "metadata": {
      "needs_background": "light"
     },
     "output_type": "display_data"
    }
   ],
   "source": [
    "attribute_median = data.groupby(['Body Type'], as_index = False).mean()\n",
    "attribute_median = pd.DataFrame(attribute_median[['Body Type', 'Value']]).sort_values(by = 'Value')\n",
    "attribute_median.plot.bar(x = 'Body Type', xlabel = 'Tipo Corporal', title = 'Valor médio do jogador', ylabel = 'Valor (milhões de euros)', legend=False, figsize = (7,7))"
   ]
  },
  {
   "cell_type": "code",
   "execution_count": 16,
   "metadata": {
    "colab": {
     "base_uri": "https://localhost:8080/",
     "height": 532
    },
    "id": "d_evyXoh6pGg",
    "outputId": "3c3d5814-4116-4ef5-dead-47d3f772f6ad"
   },
   "outputs": [
    {
     "data": {
      "text/plain": [
       "<AxesSubplot:title={'center':'Valor mediano do jogador'}, xlabel='Tipo Corporal', ylabel='Valor (milhões de euros)'>"
      ]
     },
     "execution_count": 16,
     "metadata": {},
     "output_type": "execute_result"
    },
    {
     "data": {
      "image/png": "[encoded data removed]",
      "text/plain": [
       "<Figure size 504x504 with 1 Axes>"
      ]
     },
     "metadata": {
      "needs_background": "light"
     },
     "output_type": "display_data"
    }
   ],
   "source": [
    "attribute_median = data.groupby(['Body Type'], as_index = False).median()\n",
    "attribute_median = pd.DataFrame(attribute_median[['Body Type', 'Value']]).sort_values(by = 'Value')\n",
    "attribute_median.plot.bar(x = 'Body Type', xlabel = 'Tipo Corporal', title = 'Valor mediano do jogador', ylabel = 'Valor (milhões de euros)', legend=False, figsize = (7,7))"
   ]
  },
  {
   "cell_type": "code",
   "execution_count": 17,
   "metadata": {
    "colab": {
     "base_uri": "https://localhost:8080/",
     "height": 460
    },
    "id": "23K5jqlfGIUQ",
    "outputId": "ee7ab01b-0208-4a5e-9154-d6eff64ddd58"
   },
   "outputs": [
    {
     "data": {
      "text/plain": [
       "<AxesSubplot:title={'center':'Salário médio por posição'}, xlabel='Position'>"
      ]
     },
     "execution_count": 17,
     "metadata": {},
     "output_type": "execute_result"
    },
    {
     "data": {
      "image/png": "[encoded data removed]",
      "text/plain": [
       "<Figure size 432x288 with 1 Axes>"
      ]
     },
     "metadata": {
      "needs_background": "light"
     },
     "output_type": "display_data"
    }
   ],
   "source": [
    "attribute_position = pd.DataFrame(data.groupby(['Position']).mean()['Wage'])\n",
    "attribute_position = attribute_position.sort_values(by = 'Wage')\n",
    "attribute_position.plot.bar(title = \"Salário médio por posição\")"
   ]
  },
  {
   "cell_type": "code",
   "execution_count": 18,
   "metadata": {
    "colab": {
     "base_uri": "https://localhost:8080/",
     "height": 460
    },
    "id": "jEuWD3No2uqG",
    "outputId": "7d0c7864-9711-45c1-8d3b-7ec1a38bbee5"
   },
   "outputs": [
    {
     "data": {
      "text/plain": [
       "<AxesSubplot:title={'center':'Salário mediano por posição'}, xlabel='Position'>"
      ]
     },
     "execution_count": 18,
     "metadata": {},
     "output_type": "execute_result"
    },
    {
     "data": {
      "image/png": "[encoded data removed]",
      "text/plain": [
       "<Figure size 432x288 with 1 Axes>"
      ]
     },
     "metadata": {
      "needs_background": "light"
     },
     "output_type": "display_data"
    }
   ],
   "source": [
    "attribute_position = pd.DataFrame(data.groupby(['Position']).median()['Wage'])\n",
    "attribute_position = attribute_position.sort_values(by = 'Wage')\n",
    "attribute_position.plot.bar(title = \"Salário mediano por posição\")"
   ]
  },
  {
   "cell_type": "markdown",
   "metadata": {
    "id": "zDOJJOLA2xwm"
   },
   "source": [
    "O ponto principal é que a visualização dos dados pode mudar muito dependendo da estatística sendo analisada. Isto é, diferenças que existem na média podem não existir quando consideramos a mediana (e vice-versa)."
   ]
  },
  {
   "cell_type": "markdown",
   "metadata": {
    "id": "x6HIQ1mTNke1"
   },
   "source": []
  },
  {
   "cell_type": "code",
   "execution_count": 19,
   "metadata": {
    "colab": {
     "base_uri": "https://localhost:8080/",
     "height": 455
    },
    "id": "Q28Kn1VlaH0O",
    "outputId": "ead7d201-030b-453e-d1bf-81476cee0de4"
   },
   "outputs": [
    {
     "data": {
      "text/html": [
       "<div>\n",
       "<style scoped>\n",
       "    .dataframe tbody tr th:only-of-type {\n",
       "        vertical-align: middle;\n",
       "    }\n",
       "\n",
       "    .dataframe tbody tr th {\n",
       "        vertical-align: top;\n",
       "    }\n",
       "\n",
       "    .dataframe thead th {\n",
       "        text-align: right;\n",
       "    }\n",
       "</style>\n",
       "<table border=\"1\" class=\"dataframe\">\n",
       "  <thead>\n",
       "    <tr style=\"text-align: right;\">\n",
       "      <th></th>\n",
       "      <th>Wage</th>\n",
       "    </tr>\n",
       "    <tr>\n",
       "      <th>Club</th>\n",
       "      <th></th>\n",
       "    </tr>\n",
       "  </thead>\n",
       "  <tbody>\n",
       "    <tr>\n",
       "      <th>Padova</th>\n",
       "      <td>1.0</td>\n",
       "    </tr>\n",
       "    <tr>\n",
       "      <th>Hokkaido Consadole Sapporo</th>\n",
       "      <td>1.0</td>\n",
       "    </tr>\n",
       "    <tr>\n",
       "      <th>Derry City</th>\n",
       "      <td>1.0</td>\n",
       "    </tr>\n",
       "    <tr>\n",
       "      <th>CD Antofagasta</th>\n",
       "      <td>1.0</td>\n",
       "    </tr>\n",
       "    <tr>\n",
       "      <th>Perugia</th>\n",
       "      <td>1.0</td>\n",
       "    </tr>\n",
       "    <tr>\n",
       "      <th>...</th>\n",
       "      <td>...</td>\n",
       "    </tr>\n",
       "    <tr>\n",
       "      <th>Manchester United</th>\n",
       "      <td>110.0</td>\n",
       "    </tr>\n",
       "    <tr>\n",
       "      <th>Real Madrid</th>\n",
       "      <td>120.0</td>\n",
       "    </tr>\n",
       "    <tr>\n",
       "      <th>Manchester City</th>\n",
       "      <td>120.0</td>\n",
       "    </tr>\n",
       "    <tr>\n",
       "      <th>Juventus</th>\n",
       "      <td>125.0</td>\n",
       "    </tr>\n",
       "    <tr>\n",
       "      <th>FC Barcelona</th>\n",
       "      <td>125.0</td>\n",
       "    </tr>\n",
       "  </tbody>\n",
       "</table>\n",
       "<p>651 rows × 1 columns</p>\n",
       "</div>"
      ],
      "text/plain": [
       "                             Wage\n",
       "Club                             \n",
       "Padova                        1.0\n",
       "Hokkaido Consadole Sapporo    1.0\n",
       "Derry City                    1.0\n",
       "CD Antofagasta                1.0\n",
       "Perugia                       1.0\n",
       "...                           ...\n",
       "Manchester United           110.0\n",
       "Real Madrid                 120.0\n",
       "Manchester City             120.0\n",
       "Juventus                    125.0\n",
       "FC Barcelona                125.0\n",
       "\n",
       "[651 rows x 1 columns]"
      ]
     },
     "execution_count": 19,
     "metadata": {},
     "output_type": "execute_result"
    }
   ],
   "source": [
    "attribute_position = pd.DataFrame(data.groupby(['Club']).median()['Wage'])\n",
    "attribute_position.sort_values(by='Wage')"
   ]
  },
  {
   "cell_type": "markdown",
   "metadata": {
    "id": "oouycLh3W-Or"
   },
   "source": [
    "Os resultados para a mediana são bem menos impressionantes. A diferença aqui é de apenas 7K, enquanto que para a média, era de 42k, seis vezes mais. Como interpretar isso? Muito provavelmente, existem jogadores em RF/LF que estão puxando a média para cima. Na prática, essas posições não são necessariamente as melhores do ponto de vista financeiro."
   ]
  },
  {
   "cell_type": "markdown",
   "metadata": {
    "id": "gjG3rXq4W5mD"
   },
   "source": [
    "## Hipótese I (Leandro)\n",
    "\n"
   ]
  },
  {
   "cell_type": "code",
   "execution_count": 20,
   "metadata": {
    "colab": {
     "base_uri": "https://localhost:8080/",
     "height": 652
    },
    "id": "sVwaBstVXGNa",
    "outputId": "c5bfe55d-00b5-49a1-d16d-b2a63aab69f0"
   },
   "outputs": [
    {
     "data": {
      "text/html": [
       "<div>\n",
       "<style scoped>\n",
       "    .dataframe tbody tr th:only-of-type {\n",
       "        vertical-align: middle;\n",
       "    }\n",
       "\n",
       "    .dataframe tbody tr th {\n",
       "        vertical-align: top;\n",
       "    }\n",
       "\n",
       "    .dataframe thead th {\n",
       "        text-align: right;\n",
       "    }\n",
       "</style>\n",
       "<table border=\"1\" class=\"dataframe\">\n",
       "  <thead>\n",
       "    <tr style=\"text-align: right;\">\n",
       "      <th></th>\n",
       "      <th>Name</th>\n",
       "      <th>Age</th>\n",
       "      <th>Nationality</th>\n",
       "      <th>Overall</th>\n",
       "      <th>Potential</th>\n",
       "      <th>Club</th>\n",
       "      <th>Value</th>\n",
       "      <th>Wage</th>\n",
       "      <th>Special</th>\n",
       "      <th>Preferred Foot</th>\n",
       "      <th>International Reputation</th>\n",
       "      <th>Weak Foot</th>\n",
       "      <th>Skill Moves</th>\n",
       "      <th>Work Rate</th>\n",
       "      <th>Body Type</th>\n",
       "      <th>Real Face</th>\n",
       "      <th>Position</th>\n",
       "      <th>Jersey Number</th>\n",
       "      <th>Joined</th>\n",
       "      <th>Contract Valid Until</th>\n",
       "      <th>Height (cm)</th>\n",
       "      <th>Weight (kg)</th>\n",
       "      <th>Finishing</th>\n",
       "      <th>HeadingAccuracy</th>\n",
       "      <th>ShortPassing</th>\n",
       "      <th>Volleys</th>\n",
       "      <th>Dribbling</th>\n",
       "      <th>Curve</th>\n",
       "      <th>FKAccuracy</th>\n",
       "      <th>LongPassing</th>\n",
       "      <th>BallControl</th>\n",
       "      <th>Acceleration</th>\n",
       "      <th>SprintSpeed</th>\n",
       "      <th>Agility</th>\n",
       "      <th>Reactions</th>\n",
       "      <th>Balance</th>\n",
       "      <th>ShotPower</th>\n",
       "      <th>Jumping</th>\n",
       "      <th>Stamina</th>\n",
       "      <th>Strength</th>\n",
       "      <th>LongShots</th>\n",
       "      <th>Aggression</th>\n",
       "      <th>Interceptions</th>\n",
       "      <th>Positioning</th>\n",
       "      <th>Vision</th>\n",
       "      <th>Penalties</th>\n",
       "      <th>Composure</th>\n",
       "      <th>Marking</th>\n",
       "      <th>StandingTackle</th>\n",
       "      <th>SlidingTackle</th>\n",
       "      <th>GKDiving</th>\n",
       "      <th>GKHandling</th>\n",
       "      <th>GKKicking</th>\n",
       "      <th>GKPositioning</th>\n",
       "      <th>GKReflexes</th>\n",
       "      <th>Release Clause</th>\n",
       "    </tr>\n",
       "  </thead>\n",
       "  <tbody>\n",
       "    <tr>\n",
       "      <th>0</th>\n",
       "      <td>L. Messi</td>\n",
       "      <td>31</td>\n",
       "      <td>Argentina</td>\n",
       "      <td>94</td>\n",
       "      <td>94</td>\n",
       "      <td>FC Barcelona</td>\n",
       "      <td>110.5</td>\n",
       "      <td>565.0</td>\n",
       "      <td>2202</td>\n",
       "      <td>Left</td>\n",
       "      <td>5.0</td>\n",
       "      <td>4.0</td>\n",
       "      <td>4.0</td>\n",
       "      <td>Medium/ Medium</td>\n",
       "      <td>Lean</td>\n",
       "      <td>Yes</td>\n",
       "      <td>RF</td>\n",
       "      <td>10.0</td>\n",
       "      <td>Jul 1, 2004</td>\n",
       "      <td>2021</td>\n",
       "      <td>170.18</td>\n",
       "      <td>72.108844</td>\n",
       "      <td>95.0</td>\n",
       "      <td>70.0</td>\n",
       "      <td>90.0</td>\n",
       "      <td>86.0</td>\n",
       "      <td>97.0</td>\n",
       "      <td>93.0</td>\n",
       "      <td>94.0</td>\n",
       "      <td>87.0</td>\n",
       "      <td>96.0</td>\n",
       "      <td>91.0</td>\n",
       "      <td>86.0</td>\n",
       "      <td>91.0</td>\n",
       "      <td>95.0</td>\n",
       "      <td>95.0</td>\n",
       "      <td>85.0</td>\n",
       "      <td>68.0</td>\n",
       "      <td>72.0</td>\n",
       "      <td>59.0</td>\n",
       "      <td>94.0</td>\n",
       "      <td>48.0</td>\n",
       "      <td>22.0</td>\n",
       "      <td>94.0</td>\n",
       "      <td>94.0</td>\n",
       "      <td>75.0</td>\n",
       "      <td>96.0</td>\n",
       "      <td>33.0</td>\n",
       "      <td>28.0</td>\n",
       "      <td>26.0</td>\n",
       "      <td>6.0</td>\n",
       "      <td>11.0</td>\n",
       "      <td>15.0</td>\n",
       "      <td>14.0</td>\n",
       "      <td>8.0</td>\n",
       "      <td>226.5</td>\n",
       "    </tr>\n",
       "    <tr>\n",
       "      <th>1</th>\n",
       "      <td>Cristiano Ronaldo</td>\n",
       "      <td>33</td>\n",
       "      <td>Portugal</td>\n",
       "      <td>94</td>\n",
       "      <td>94</td>\n",
       "      <td>Juventus</td>\n",
       "      <td>77.0</td>\n",
       "      <td>405.0</td>\n",
       "      <td>2228</td>\n",
       "      <td>Right</td>\n",
       "      <td>5.0</td>\n",
       "      <td>4.0</td>\n",
       "      <td>5.0</td>\n",
       "      <td>High/ Low</td>\n",
       "      <td>Stocky</td>\n",
       "      <td>Yes</td>\n",
       "      <td>ST</td>\n",
       "      <td>7.0</td>\n",
       "      <td>Jul 10, 2018</td>\n",
       "      <td>2022</td>\n",
       "      <td>187.96</td>\n",
       "      <td>82.993197</td>\n",
       "      <td>94.0</td>\n",
       "      <td>89.0</td>\n",
       "      <td>81.0</td>\n",
       "      <td>87.0</td>\n",
       "      <td>88.0</td>\n",
       "      <td>81.0</td>\n",
       "      <td>76.0</td>\n",
       "      <td>77.0</td>\n",
       "      <td>94.0</td>\n",
       "      <td>89.0</td>\n",
       "      <td>91.0</td>\n",
       "      <td>87.0</td>\n",
       "      <td>96.0</td>\n",
       "      <td>70.0</td>\n",
       "      <td>95.0</td>\n",
       "      <td>95.0</td>\n",
       "      <td>88.0</td>\n",
       "      <td>79.0</td>\n",
       "      <td>93.0</td>\n",
       "      <td>63.0</td>\n",
       "      <td>29.0</td>\n",
       "      <td>95.0</td>\n",
       "      <td>82.0</td>\n",
       "      <td>85.0</td>\n",
       "      <td>95.0</td>\n",
       "      <td>28.0</td>\n",
       "      <td>31.0</td>\n",
       "      <td>23.0</td>\n",
       "      <td>7.0</td>\n",
       "      <td>11.0</td>\n",
       "      <td>15.0</td>\n",
       "      <td>14.0</td>\n",
       "      <td>11.0</td>\n",
       "      <td>127.1</td>\n",
       "    </tr>\n",
       "    <tr>\n",
       "      <th>2</th>\n",
       "      <td>Neymar Jr</td>\n",
       "      <td>26</td>\n",
       "      <td>Brazil</td>\n",
       "      <td>92</td>\n",
       "      <td>93</td>\n",
       "      <td>Paris Saint-Germain</td>\n",
       "      <td>118.5</td>\n",
       "      <td>290.0</td>\n",
       "      <td>2143</td>\n",
       "      <td>Right</td>\n",
       "      <td>5.0</td>\n",
       "      <td>5.0</td>\n",
       "      <td>5.0</td>\n",
       "      <td>High/ Medium</td>\n",
       "      <td>Lean</td>\n",
       "      <td>Yes</td>\n",
       "      <td>LW</td>\n",
       "      <td>10.0</td>\n",
       "      <td>Aug 3, 2017</td>\n",
       "      <td>2022</td>\n",
       "      <td>175.26</td>\n",
       "      <td>68.027211</td>\n",
       "      <td>87.0</td>\n",
       "      <td>62.0</td>\n",
       "      <td>84.0</td>\n",
       "      <td>84.0</td>\n",
       "      <td>96.0</td>\n",
       "      <td>88.0</td>\n",
       "      <td>87.0</td>\n",
       "      <td>78.0</td>\n",
       "      <td>95.0</td>\n",
       "      <td>94.0</td>\n",
       "      <td>90.0</td>\n",
       "      <td>96.0</td>\n",
       "      <td>94.0</td>\n",
       "      <td>84.0</td>\n",
       "      <td>80.0</td>\n",
       "      <td>61.0</td>\n",
       "      <td>81.0</td>\n",
       "      <td>49.0</td>\n",
       "      <td>82.0</td>\n",
       "      <td>56.0</td>\n",
       "      <td>36.0</td>\n",
       "      <td>89.0</td>\n",
       "      <td>87.0</td>\n",
       "      <td>81.0</td>\n",
       "      <td>94.0</td>\n",
       "      <td>27.0</td>\n",
       "      <td>24.0</td>\n",
       "      <td>33.0</td>\n",
       "      <td>9.0</td>\n",
       "      <td>9.0</td>\n",
       "      <td>15.0</td>\n",
       "      <td>15.0</td>\n",
       "      <td>11.0</td>\n",
       "      <td>228.1</td>\n",
       "    </tr>\n",
       "    <tr>\n",
       "      <th>3</th>\n",
       "      <td>De Gea</td>\n",
       "      <td>27</td>\n",
       "      <td>Spain</td>\n",
       "      <td>91</td>\n",
       "      <td>93</td>\n",
       "      <td>Manchester United</td>\n",
       "      <td>72.0</td>\n",
       "      <td>260.0</td>\n",
       "      <td>1471</td>\n",
       "      <td>Right</td>\n",
       "      <td>4.0</td>\n",
       "      <td>3.0</td>\n",
       "      <td>1.0</td>\n",
       "      <td>Medium/ Medium</td>\n",
       "      <td>Lean</td>\n",
       "      <td>Yes</td>\n",
       "      <td>GK</td>\n",
       "      <td>1.0</td>\n",
       "      <td>Jul 1, 2011</td>\n",
       "      <td>2020</td>\n",
       "      <td>193.04</td>\n",
       "      <td>76.190476</td>\n",
       "      <td>13.0</td>\n",
       "      <td>21.0</td>\n",
       "      <td>50.0</td>\n",
       "      <td>13.0</td>\n",
       "      <td>18.0</td>\n",
       "      <td>21.0</td>\n",
       "      <td>19.0</td>\n",
       "      <td>51.0</td>\n",
       "      <td>42.0</td>\n",
       "      <td>57.0</td>\n",
       "      <td>58.0</td>\n",
       "      <td>60.0</td>\n",
       "      <td>90.0</td>\n",
       "      <td>43.0</td>\n",
       "      <td>31.0</td>\n",
       "      <td>67.0</td>\n",
       "      <td>43.0</td>\n",
       "      <td>64.0</td>\n",
       "      <td>12.0</td>\n",
       "      <td>38.0</td>\n",
       "      <td>30.0</td>\n",
       "      <td>12.0</td>\n",
       "      <td>68.0</td>\n",
       "      <td>40.0</td>\n",
       "      <td>68.0</td>\n",
       "      <td>15.0</td>\n",
       "      <td>21.0</td>\n",
       "      <td>13.0</td>\n",
       "      <td>90.0</td>\n",
       "      <td>85.0</td>\n",
       "      <td>87.0</td>\n",
       "      <td>88.0</td>\n",
       "      <td>94.0</td>\n",
       "      <td>138.6</td>\n",
       "    </tr>\n",
       "    <tr>\n",
       "      <th>4</th>\n",
       "      <td>K. De Bruyne</td>\n",
       "      <td>27</td>\n",
       "      <td>Belgium</td>\n",
       "      <td>91</td>\n",
       "      <td>92</td>\n",
       "      <td>Manchester City</td>\n",
       "      <td>102.0</td>\n",
       "      <td>355.0</td>\n",
       "      <td>2281</td>\n",
       "      <td>Right</td>\n",
       "      <td>4.0</td>\n",
       "      <td>5.0</td>\n",
       "      <td>4.0</td>\n",
       "      <td>High/ High</td>\n",
       "      <td>Normal</td>\n",
       "      <td>Yes</td>\n",
       "      <td>RCM</td>\n",
       "      <td>7.0</td>\n",
       "      <td>Aug 30, 2015</td>\n",
       "      <td>2023</td>\n",
       "      <td>180.34</td>\n",
       "      <td>69.841270</td>\n",
       "      <td>82.0</td>\n",
       "      <td>55.0</td>\n",
       "      <td>92.0</td>\n",
       "      <td>82.0</td>\n",
       "      <td>86.0</td>\n",
       "      <td>85.0</td>\n",
       "      <td>83.0</td>\n",
       "      <td>91.0</td>\n",
       "      <td>91.0</td>\n",
       "      <td>78.0</td>\n",
       "      <td>76.0</td>\n",
       "      <td>79.0</td>\n",
       "      <td>91.0</td>\n",
       "      <td>77.0</td>\n",
       "      <td>91.0</td>\n",
       "      <td>63.0</td>\n",
       "      <td>90.0</td>\n",
       "      <td>75.0</td>\n",
       "      <td>91.0</td>\n",
       "      <td>76.0</td>\n",
       "      <td>61.0</td>\n",
       "      <td>87.0</td>\n",
       "      <td>94.0</td>\n",
       "      <td>79.0</td>\n",
       "      <td>88.0</td>\n",
       "      <td>68.0</td>\n",
       "      <td>58.0</td>\n",
       "      <td>51.0</td>\n",
       "      <td>15.0</td>\n",
       "      <td>13.0</td>\n",
       "      <td>5.0</td>\n",
       "      <td>10.0</td>\n",
       "      <td>13.0</td>\n",
       "      <td>196.4</td>\n",
       "    </tr>\n",
       "    <tr>\n",
       "      <th>5</th>\n",
       "      <td>E. Hazard</td>\n",
       "      <td>27</td>\n",
       "      <td>Belgium</td>\n",
       "      <td>91</td>\n",
       "      <td>91</td>\n",
       "      <td>Chelsea</td>\n",
       "      <td>93.0</td>\n",
       "      <td>340.0</td>\n",
       "      <td>2142</td>\n",
       "      <td>Right</td>\n",
       "      <td>4.0</td>\n",
       "      <td>4.0</td>\n",
       "      <td>4.0</td>\n",
       "      <td>High/ Medium</td>\n",
       "      <td>Normal</td>\n",
       "      <td>Yes</td>\n",
       "      <td>LF</td>\n",
       "      <td>10.0</td>\n",
       "      <td>Jul 1, 2012</td>\n",
       "      <td>2020</td>\n",
       "      <td>172.72</td>\n",
       "      <td>73.922902</td>\n",
       "      <td>84.0</td>\n",
       "      <td>61.0</td>\n",
       "      <td>89.0</td>\n",
       "      <td>80.0</td>\n",
       "      <td>95.0</td>\n",
       "      <td>83.0</td>\n",
       "      <td>79.0</td>\n",
       "      <td>83.0</td>\n",
       "      <td>94.0</td>\n",
       "      <td>94.0</td>\n",
       "      <td>88.0</td>\n",
       "      <td>95.0</td>\n",
       "      <td>90.0</td>\n",
       "      <td>94.0</td>\n",
       "      <td>82.0</td>\n",
       "      <td>56.0</td>\n",
       "      <td>83.0</td>\n",
       "      <td>66.0</td>\n",
       "      <td>80.0</td>\n",
       "      <td>54.0</td>\n",
       "      <td>41.0</td>\n",
       "      <td>87.0</td>\n",
       "      <td>89.0</td>\n",
       "      <td>86.0</td>\n",
       "      <td>91.0</td>\n",
       "      <td>34.0</td>\n",
       "      <td>27.0</td>\n",
       "      <td>22.0</td>\n",
       "      <td>11.0</td>\n",
       "      <td>12.0</td>\n",
       "      <td>6.0</td>\n",
       "      <td>8.0</td>\n",
       "      <td>8.0</td>\n",
       "      <td>172.1</td>\n",
       "    </tr>\n",
       "    <tr>\n",
       "      <th>6</th>\n",
       "      <td>L. Modrić</td>\n",
       "      <td>32</td>\n",
       "      <td>Croatia</td>\n",
       "      <td>91</td>\n",
       "      <td>91</td>\n",
       "      <td>Real Madrid</td>\n",
       "      <td>67.0</td>\n",
       "      <td>420.0</td>\n",
       "      <td>2280</td>\n",
       "      <td>Right</td>\n",
       "      <td>4.0</td>\n",
       "      <td>4.0</td>\n",
       "      <td>4.0</td>\n",
       "      <td>High/ High</td>\n",
       "      <td>Lean</td>\n",
       "      <td>Yes</td>\n",
       "      <td>RCM</td>\n",
       "      <td>10.0</td>\n",
       "      <td>Aug 1, 2012</td>\n",
       "      <td>2020</td>\n",
       "      <td>172.72</td>\n",
       "      <td>66.213152</td>\n",
       "      <td>72.0</td>\n",
       "      <td>55.0</td>\n",
       "      <td>93.0</td>\n",
       "      <td>76.0</td>\n",
       "      <td>90.0</td>\n",
       "      <td>85.0</td>\n",
       "      <td>78.0</td>\n",
       "      <td>88.0</td>\n",
       "      <td>93.0</td>\n",
       "      <td>80.0</td>\n",
       "      <td>72.0</td>\n",
       "      <td>93.0</td>\n",
       "      <td>90.0</td>\n",
       "      <td>94.0</td>\n",
       "      <td>79.0</td>\n",
       "      <td>68.0</td>\n",
       "      <td>89.0</td>\n",
       "      <td>58.0</td>\n",
       "      <td>82.0</td>\n",
       "      <td>62.0</td>\n",
       "      <td>83.0</td>\n",
       "      <td>79.0</td>\n",
       "      <td>92.0</td>\n",
       "      <td>82.0</td>\n",
       "      <td>84.0</td>\n",
       "      <td>60.0</td>\n",
       "      <td>76.0</td>\n",
       "      <td>73.0</td>\n",
       "      <td>13.0</td>\n",
       "      <td>9.0</td>\n",
       "      <td>7.0</td>\n",
       "      <td>14.0</td>\n",
       "      <td>9.0</td>\n",
       "      <td>137.4</td>\n",
       "    </tr>\n",
       "    <tr>\n",
       "      <th>7</th>\n",
       "      <td>L. Suárez</td>\n",
       "      <td>31</td>\n",
       "      <td>Uruguay</td>\n",
       "      <td>91</td>\n",
       "      <td>91</td>\n",
       "      <td>FC Barcelona</td>\n",
       "      <td>80.0</td>\n",
       "      <td>455.0</td>\n",
       "      <td>2346</td>\n",
       "      <td>Right</td>\n",
       "      <td>5.0</td>\n",
       "      <td>4.0</td>\n",
       "      <td>3.0</td>\n",
       "      <td>High/ Medium</td>\n",
       "      <td>Normal</td>\n",
       "      <td>Yes</td>\n",
       "      <td>RS</td>\n",
       "      <td>9.0</td>\n",
       "      <td>Jul 11, 2014</td>\n",
       "      <td>2021</td>\n",
       "      <td>182.88</td>\n",
       "      <td>86.167800</td>\n",
       "      <td>93.0</td>\n",
       "      <td>77.0</td>\n",
       "      <td>82.0</td>\n",
       "      <td>88.0</td>\n",
       "      <td>87.0</td>\n",
       "      <td>86.0</td>\n",
       "      <td>84.0</td>\n",
       "      <td>64.0</td>\n",
       "      <td>90.0</td>\n",
       "      <td>86.0</td>\n",
       "      <td>75.0</td>\n",
       "      <td>82.0</td>\n",
       "      <td>92.0</td>\n",
       "      <td>83.0</td>\n",
       "      <td>86.0</td>\n",
       "      <td>69.0</td>\n",
       "      <td>90.0</td>\n",
       "      <td>83.0</td>\n",
       "      <td>85.0</td>\n",
       "      <td>87.0</td>\n",
       "      <td>41.0</td>\n",
       "      <td>92.0</td>\n",
       "      <td>84.0</td>\n",
       "      <td>85.0</td>\n",
       "      <td>85.0</td>\n",
       "      <td>62.0</td>\n",
       "      <td>45.0</td>\n",
       "      <td>38.0</td>\n",
       "      <td>27.0</td>\n",
       "      <td>25.0</td>\n",
       "      <td>31.0</td>\n",
       "      <td>33.0</td>\n",
       "      <td>37.0</td>\n",
       "      <td>164.0</td>\n",
       "    </tr>\n",
       "    <tr>\n",
       "      <th>8</th>\n",
       "      <td>Sergio Ramos</td>\n",
       "      <td>32</td>\n",
       "      <td>Spain</td>\n",
       "      <td>91</td>\n",
       "      <td>91</td>\n",
       "      <td>Real Madrid</td>\n",
       "      <td>51.0</td>\n",
       "      <td>380.0</td>\n",
       "      <td>2201</td>\n",
       "      <td>Right</td>\n",
       "      <td>4.0</td>\n",
       "      <td>3.0</td>\n",
       "      <td>3.0</td>\n",
       "      <td>High/ Medium</td>\n",
       "      <td>Normal</td>\n",
       "      <td>Yes</td>\n",
       "      <td>RCB</td>\n",
       "      <td>15.0</td>\n",
       "      <td>Aug 1, 2005</td>\n",
       "      <td>2020</td>\n",
       "      <td>182.88</td>\n",
       "      <td>82.086168</td>\n",
       "      <td>60.0</td>\n",
       "      <td>91.0</td>\n",
       "      <td>78.0</td>\n",
       "      <td>66.0</td>\n",
       "      <td>63.0</td>\n",
       "      <td>74.0</td>\n",
       "      <td>72.0</td>\n",
       "      <td>77.0</td>\n",
       "      <td>84.0</td>\n",
       "      <td>76.0</td>\n",
       "      <td>75.0</td>\n",
       "      <td>78.0</td>\n",
       "      <td>85.0</td>\n",
       "      <td>66.0</td>\n",
       "      <td>79.0</td>\n",
       "      <td>93.0</td>\n",
       "      <td>84.0</td>\n",
       "      <td>83.0</td>\n",
       "      <td>59.0</td>\n",
       "      <td>88.0</td>\n",
       "      <td>90.0</td>\n",
       "      <td>60.0</td>\n",
       "      <td>63.0</td>\n",
       "      <td>75.0</td>\n",
       "      <td>82.0</td>\n",
       "      <td>87.0</td>\n",
       "      <td>92.0</td>\n",
       "      <td>91.0</td>\n",
       "      <td>11.0</td>\n",
       "      <td>8.0</td>\n",
       "      <td>9.0</td>\n",
       "      <td>7.0</td>\n",
       "      <td>11.0</td>\n",
       "      <td>104.6</td>\n",
       "    </tr>\n",
       "    <tr>\n",
       "      <th>9</th>\n",
       "      <td>J. Oblak</td>\n",
       "      <td>25</td>\n",
       "      <td>Slovenia</td>\n",
       "      <td>90</td>\n",
       "      <td>93</td>\n",
       "      <td>Atlético Madrid</td>\n",
       "      <td>68.0</td>\n",
       "      <td>94.0</td>\n",
       "      <td>1331</td>\n",
       "      <td>Right</td>\n",
       "      <td>3.0</td>\n",
       "      <td>3.0</td>\n",
       "      <td>1.0</td>\n",
       "      <td>Medium/ Medium</td>\n",
       "      <td>Normal</td>\n",
       "      <td>Yes</td>\n",
       "      <td>GK</td>\n",
       "      <td>1.0</td>\n",
       "      <td>Jul 16, 2014</td>\n",
       "      <td>2021</td>\n",
       "      <td>187.96</td>\n",
       "      <td>87.074830</td>\n",
       "      <td>11.0</td>\n",
       "      <td>15.0</td>\n",
       "      <td>29.0</td>\n",
       "      <td>13.0</td>\n",
       "      <td>12.0</td>\n",
       "      <td>13.0</td>\n",
       "      <td>14.0</td>\n",
       "      <td>26.0</td>\n",
       "      <td>16.0</td>\n",
       "      <td>43.0</td>\n",
       "      <td>60.0</td>\n",
       "      <td>67.0</td>\n",
       "      <td>86.0</td>\n",
       "      <td>49.0</td>\n",
       "      <td>22.0</td>\n",
       "      <td>76.0</td>\n",
       "      <td>41.0</td>\n",
       "      <td>78.0</td>\n",
       "      <td>12.0</td>\n",
       "      <td>34.0</td>\n",
       "      <td>19.0</td>\n",
       "      <td>11.0</td>\n",
       "      <td>70.0</td>\n",
       "      <td>11.0</td>\n",
       "      <td>70.0</td>\n",
       "      <td>27.0</td>\n",
       "      <td>12.0</td>\n",
       "      <td>18.0</td>\n",
       "      <td>86.0</td>\n",
       "      <td>92.0</td>\n",
       "      <td>78.0</td>\n",
       "      <td>88.0</td>\n",
       "      <td>89.0</td>\n",
       "      <td>144.5</td>\n",
       "    </tr>\n",
       "  </tbody>\n",
       "</table>\n",
       "</div>"
      ],
      "text/plain": [
       "                Name  Age Nationality  Overall  Potential  \\\n",
       "0           L. Messi   31   Argentina       94         94   \n",
       "1  Cristiano Ronaldo   33    Portugal       94         94   \n",
       "2          Neymar Jr   26      Brazil       92         93   \n",
       "3             De Gea   27       Spain       91         93   \n",
       "4       K. De Bruyne   27     Belgium       91         92   \n",
       "5          E. Hazard   27     Belgium       91         91   \n",
       "6          L. Modrić   32     Croatia       91         91   \n",
       "7          L. Suárez   31     Uruguay       91         91   \n",
       "8       Sergio Ramos   32       Spain       91         91   \n",
       "9           J. Oblak   25    Slovenia       90         93   \n",
       "\n",
       "                  Club  Value   Wage  Special Preferred Foot  \\\n",
       "0         FC Barcelona  110.5  565.0     2202           Left   \n",
       "1             Juventus   77.0  405.0     2228          Right   \n",
       "2  Paris Saint-Germain  118.5  290.0     2143          Right   \n",
       "3    Manchester United   72.0  260.0     1471          Right   \n",
       "4      Manchester City  102.0  355.0     2281          Right   \n",
       "5              Chelsea   93.0  340.0     2142          Right   \n",
       "6          Real Madrid   67.0  420.0     2280          Right   \n",
       "7         FC Barcelona   80.0  455.0     2346          Right   \n",
       "8          Real Madrid   51.0  380.0     2201          Right   \n",
       "9      Atlético Madrid   68.0   94.0     1331          Right   \n",
       "\n",
       "   International Reputation  Weak Foot  Skill Moves       Work Rate Body Type  \\\n",
       "0                       5.0        4.0          4.0  Medium/ Medium      Lean   \n",
       "1                       5.0        4.0          5.0       High/ Low    Stocky   \n",
       "2                       5.0        5.0          5.0    High/ Medium      Lean   \n",
       "3                       4.0        3.0          1.0  Medium/ Medium      Lean   \n",
       "4                       4.0        5.0          4.0      High/ High    Normal   \n",
       "5                       4.0        4.0          4.0    High/ Medium    Normal   \n",
       "6                       4.0        4.0          4.0      High/ High      Lean   \n",
       "7                       5.0        4.0          3.0    High/ Medium    Normal   \n",
       "8                       4.0        3.0          3.0    High/ Medium    Normal   \n",
       "9                       3.0        3.0          1.0  Medium/ Medium    Normal   \n",
       "\n",
       "  Real Face Position  Jersey Number        Joined Contract Valid Until  \\\n",
       "0       Yes       RF           10.0   Jul 1, 2004                 2021   \n",
       "1       Yes       ST            7.0  Jul 10, 2018                 2022   \n",
       "2       Yes       LW           10.0   Aug 3, 2017                 2022   \n",
       "3       Yes       GK            1.0   Jul 1, 2011                 2020   \n",
       "4       Yes      RCM            7.0  Aug 30, 2015                 2023   \n",
       "5       Yes       LF           10.0   Jul 1, 2012                 2020   \n",
       "6       Yes      RCM           10.0   Aug 1, 2012                 2020   \n",
       "7       Yes       RS            9.0  Jul 11, 2014                 2021   \n",
       "8       Yes      RCB           15.0   Aug 1, 2005                 2020   \n",
       "9       Yes       GK            1.0  Jul 16, 2014                 2021   \n",
       "\n",
       "   Height (cm)  Weight (kg)  Finishing  HeadingAccuracy  ShortPassing  \\\n",
       "0       170.18    72.108844       95.0             70.0          90.0   \n",
       "1       187.96    82.993197       94.0             89.0          81.0   \n",
       "2       175.26    68.027211       87.0             62.0          84.0   \n",
       "3       193.04    76.190476       13.0             21.0          50.0   \n",
       "4       180.34    69.841270       82.0             55.0          92.0   \n",
       "5       172.72    73.922902       84.0             61.0          89.0   \n",
       "6       172.72    66.213152       72.0             55.0          93.0   \n",
       "7       182.88    86.167800       93.0             77.0          82.0   \n",
       "8       182.88    82.086168       60.0             91.0          78.0   \n",
       "9       187.96    87.074830       11.0             15.0          29.0   \n",
       "\n",
       "   Volleys  Dribbling  Curve  FKAccuracy  LongPassing  BallControl  \\\n",
       "0     86.0       97.0   93.0        94.0         87.0         96.0   \n",
       "1     87.0       88.0   81.0        76.0         77.0         94.0   \n",
       "2     84.0       96.0   88.0        87.0         78.0         95.0   \n",
       "3     13.0       18.0   21.0        19.0         51.0         42.0   \n",
       "4     82.0       86.0   85.0        83.0         91.0         91.0   \n",
       "5     80.0       95.0   83.0        79.0         83.0         94.0   \n",
       "6     76.0       90.0   85.0        78.0         88.0         93.0   \n",
       "7     88.0       87.0   86.0        84.0         64.0         90.0   \n",
       "8     66.0       63.0   74.0        72.0         77.0         84.0   \n",
       "9     13.0       12.0   13.0        14.0         26.0         16.0   \n",
       "\n",
       "   Acceleration  SprintSpeed  Agility  Reactions  Balance  ShotPower  Jumping  \\\n",
       "0          91.0         86.0     91.0       95.0     95.0       85.0     68.0   \n",
       "1          89.0         91.0     87.0       96.0     70.0       95.0     95.0   \n",
       "2          94.0         90.0     96.0       94.0     84.0       80.0     61.0   \n",
       "3          57.0         58.0     60.0       90.0     43.0       31.0     67.0   \n",
       "4          78.0         76.0     79.0       91.0     77.0       91.0     63.0   \n",
       "5          94.0         88.0     95.0       90.0     94.0       82.0     56.0   \n",
       "6          80.0         72.0     93.0       90.0     94.0       79.0     68.0   \n",
       "7          86.0         75.0     82.0       92.0     83.0       86.0     69.0   \n",
       "8          76.0         75.0     78.0       85.0     66.0       79.0     93.0   \n",
       "9          43.0         60.0     67.0       86.0     49.0       22.0     76.0   \n",
       "\n",
       "   Stamina  Strength  LongShots  Aggression  Interceptions  Positioning  \\\n",
       "0     72.0      59.0       94.0        48.0           22.0         94.0   \n",
       "1     88.0      79.0       93.0        63.0           29.0         95.0   \n",
       "2     81.0      49.0       82.0        56.0           36.0         89.0   \n",
       "3     43.0      64.0       12.0        38.0           30.0         12.0   \n",
       "4     90.0      75.0       91.0        76.0           61.0         87.0   \n",
       "5     83.0      66.0       80.0        54.0           41.0         87.0   \n",
       "6     89.0      58.0       82.0        62.0           83.0         79.0   \n",
       "7     90.0      83.0       85.0        87.0           41.0         92.0   \n",
       "8     84.0      83.0       59.0        88.0           90.0         60.0   \n",
       "9     41.0      78.0       12.0        34.0           19.0         11.0   \n",
       "\n",
       "   Vision  Penalties  Composure  Marking  StandingTackle  SlidingTackle  \\\n",
       "0    94.0       75.0       96.0     33.0            28.0           26.0   \n",
       "1    82.0       85.0       95.0     28.0            31.0           23.0   \n",
       "2    87.0       81.0       94.0     27.0            24.0           33.0   \n",
       "3    68.0       40.0       68.0     15.0            21.0           13.0   \n",
       "4    94.0       79.0       88.0     68.0            58.0           51.0   \n",
       "5    89.0       86.0       91.0     34.0            27.0           22.0   \n",
       "6    92.0       82.0       84.0     60.0            76.0           73.0   \n",
       "7    84.0       85.0       85.0     62.0            45.0           38.0   \n",
       "8    63.0       75.0       82.0     87.0            92.0           91.0   \n",
       "9    70.0       11.0       70.0     27.0            12.0           18.0   \n",
       "\n",
       "   GKDiving  GKHandling  GKKicking  GKPositioning  GKReflexes  Release Clause  \n",
       "0       6.0        11.0       15.0           14.0         8.0           226.5  \n",
       "1       7.0        11.0       15.0           14.0        11.0           127.1  \n",
       "2       9.0         9.0       15.0           15.0        11.0           228.1  \n",
       "3      90.0        85.0       87.0           88.0        94.0           138.6  \n",
       "4      15.0        13.0        5.0           10.0        13.0           196.4  \n",
       "5      11.0        12.0        6.0            8.0         8.0           172.1  \n",
       "6      13.0         9.0        7.0           14.0         9.0           137.4  \n",
       "7      27.0        25.0       31.0           33.0        37.0           164.0  \n",
       "8      11.0         8.0        9.0            7.0        11.0           104.6  \n",
       "9      86.0        92.0       78.0           88.0        89.0           144.5  "
      ]
     },
     "execution_count": 20,
     "metadata": {},
     "output_type": "execute_result"
    }
   ],
   "source": [
    "data.loc[data['Position'] == \"GK\"].sort_values(\"Height (cm)\", ascending=False)\n",
    "data.sort_values(\"Height (cm)\", ascending=False)\n",
    "\n",
    "data.head(10)"
   ]
  },
  {
   "cell_type": "markdown",
   "metadata": {
    "id": "jLK4mfOlWPpI"
   },
   "source": [
    "**Hipótese**\n",
    "\n",
    "Se um jogador brasileiro ganha mais que um jogador argentino e se isso é isso é provado aleatoriamente ou por um outro motivo alem de \"u\"\n",
    "\n",
    "*uSerBrasileiro != uSerArgentino*\n"
   ]
  },
  {
   "cell_type": "code",
   "execution_count": 21,
   "metadata": {
    "colab": {
     "base_uri": "https://localhost:8080/",
     "height": 460
    },
    "id": "g0dFqxPLYU4r",
    "outputId": "68159879-dd30-47b4-afaf-32f84cde663a"
   },
   "outputs": [
    {
     "data": {
      "text/plain": [
       "<AxesSubplot:title={'center':'Média Salarial dos jogadores'}, xlabel='Nationality'>"
      ]
     },
     "execution_count": 21,
     "metadata": {},
     "output_type": "execute_result"
    },
    {
     "data": {
      "image/png": "[encoded data removed]",
      "text/plain": [
       "<Figure size 432x288 with 1 Axes>"
      ]
     },
     "metadata": {
      "needs_background": "light"
     },
     "output_type": "display_data"
    }
   ],
   "source": [
    "brasilArgentina = data.loc[(data['Nationality'] == 'Brazil') | (data['Nationality'] == 'Argentina')].sort_values('Wage', ascending = False)\n",
    "brasilArgentina['log_wage'] = np.log(brasilArgentina['Wage'])\n",
    "\n",
    "meanPlot = brasilArgentina[['Nationality','Wage']].groupby(\"Nationality\").agg([np.mean])\n",
    "meanPlot.plot(kind = \"bar\", y = \"Wage\", legend = False,\n",
    "            title = \"Média Salarial dos jogadores\")"
   ]
  },
  {
   "cell_type": "code",
   "execution_count": 22,
   "metadata": {
    "colab": {
     "base_uri": "https://localhost:8080/",
     "height": 477
    },
    "id": "isHTKuiyWPpL",
    "outputId": "3846b926-95c8-4dfb-9cca-bd0a2076985f"
   },
   "outputs": [
    {
     "name": "stdout",
     "output_type": "stream",
     "text": [
      "Diferença observada:  5.996279730166178\n"
     ]
    },
    {
     "data": {
      "text/plain": [
       "<AxesSubplot:title={'center':'Média Salarial dos jogadores'}, xlabel='Nationality'>"
      ]
     },
     "execution_count": 22,
     "metadata": {},
     "output_type": "execute_result"
    },
    {
     "data": {
      "image/png": "[encoded data removed]",
      "text/plain": [
       "<Figure size 432x288 with 1 Axes>"
      ]
     },
     "metadata": {
      "needs_background": "light"
     },
     "output_type": "display_data"
    }
   ],
   "source": [
    "#data = pd.read_csv('fifa.csv', index_col='ID')\n",
    "brasilArgentina = data.loc[(data['Nationality'] == 'Brazil') | (data['Nationality'] == 'Argentina')].sort_values('Wage', ascending = False)\n",
    "t_obs = brasilArgentina[brasilArgentina['Nationality'] == 'Brazil']['Wage'].mean() - brasilArgentina[brasilArgentina['Nationality'] != 'Brazil']['Wage'].mean()\n",
    "print(\"Diferença observada: \", t_obs)\n",
    "meanPlot = brasilArgentina[['Nationality','Wage']].groupby(\"Nationality\").agg([np.mean])\n",
    "meanPlot.plot(kind = \"bar\", y = \"Wage\", legend = False,\n",
    "            title = \"Média Salarial dos jogadores\")"
   ]
  },
  {
   "cell_type": "code",
   "execution_count": 23,
   "metadata": {
    "colab": {
     "base_uri": "https://localhost:8080/",
     "height": 388
    },
    "id": "eBFn2U_eWPpM",
    "outputId": "516883e3-f871-48b9-a5e1-3df5bb614adc"
   },
   "outputs": [
    {
     "data": {
      "text/plain": [
       "<AxesSubplot:xlabel='Nationality', ylabel='log_wage'>"
      ]
     },
     "execution_count": 23,
     "metadata": {},
     "output_type": "execute_result"
    },
    {
     "data": {
      "image/png": "[encoded data removed]",
      "text/plain": [
       "<Figure size 360x360 with 1 Axes>"
      ]
     },
     "metadata": {
      "needs_background": "light"
     },
     "output_type": "display_data"
    }
   ],
   "source": [
    "brasilArgentina['log_wage'] = np.log(brasilArgentina['Wage'])\n",
    "g = sns.catplot(x=\"Nationality\", y=\"log_wage\", kind=\"violin\", inner=None, data=brasilArgentina)\n",
    "sns.swarmplot(x=\"Nationality\", y=\"log_wage\", color=\"k\", size=0.5, data=brasilArgentina, ax=g.ax)"
   ]
  },
  {
   "cell_type": "markdown",
   "metadata": {
    "id": "C9hL8XpwWPpM"
   },
   "source": [
    "Pelo violin plot é possível perceber que existem menos jogadores brasileiro que recebem \"pouco\" comparado aos jogadores argentinos, onde no centro do \"violiono\" brasileiro é possivel reparar que ele é mais \"aberto\", representando uma quantidade maior de jogadores com salario \"médio\"."
   ]
  },
  {
   "cell_type": "code",
   "execution_count": 24,
   "metadata": {
    "colab": {
     "base_uri": "https://localhost:8080/",
     "height": 550
    },
    "id": "GXyNxvT4WPpO",
    "outputId": "b0bf9b7f-7fd8-46eb-ca20-c66034af8a4f"
   },
   "outputs": [
    {
     "data": {
      "image/png": "[encoded data removed]",
      "text/plain": [
       "<Figure size 576x432 with 1 Axes>"
      ]
     },
     "metadata": {
      "needs_background": "light"
     },
     "output_type": "display_data"
    },
    {
     "name": "stdout",
     "output_type": "stream",
     "text": [
      "Intervalo de confiança:  3.066616824394732 ,  8.94910744754754\n",
      "Valores extremos (Brasil):  15.407328680203046 ,  19.863007614213195\n",
      "Valores extremos (Argentina):  9.824699879951982 ,  13.522298919567826\n",
      "Calculando o p-valor:\n",
      "P-Valor:  0.4996\n"
     ]
    }
   ],
   "source": [
    "def bootstrap_mean(df1, df2, column, n=5000):\n",
    "    size1 = len(df1)\n",
    "    size2 = len(df2)\n",
    "    values1 = np.zeros(n)\n",
    "    values2 = np.zeros(n)\n",
    "    values_diff = np.zeros(n)\n",
    "    for i in range(n):\n",
    "        sample1 = df1[column].sample(size1, replace=True, random_state=i)\n",
    "        sample2 = df2[column].sample(size2, replace=True, random_state=i*3)\n",
    "        values1[i] = sample1.mean()\n",
    "        values2[i] = sample2.mean()\n",
    "        values_diff[i] = sample1.mean() - sample2.mean()\n",
    "    return values1, values2, values_diff\n",
    "\n",
    "brasil = brasilArgentina[brasilArgentina['Nationality']=='Brazil']\n",
    "argentina = brasilArgentina[brasilArgentina['Nationality']=='Argentina']\n",
    "col = 'Wage'\n",
    "v_brasil, v_argentina, v_diff = bootstrap_mean(brasil, argentina, col)\n",
    "\n",
    "bp_data = [v_brasil, v_argentina]\n",
    "plt.rcParams['figure.figsize']  = (8, 6)\n",
    "plt.boxplot(bp_data,  positions=[1,2], showfliers=False, showmeans=True)\n",
    "plt.xticks([1,2], ['Brasil', 'Argentina'], fontsize=10)\n",
    "plt.ylabel('', fontsize=13)\n",
    "plt.xlabel('Nacionalidade', fontsize=12)\n",
    "plt.title('Salário Médio dos Jogadores por Nacionalidade', fontsize=14)\n",
    "plt.show()\n",
    "\n",
    "\n",
    "print(\"Intervalo de confiança: \", np.percentile(v_diff, 2.5), \", \", np.percentile(v_diff, 97.5))\n",
    "print(\"Valores extremos (Brasil): \", np.percentile(v_brasil, 2.5), \", \", np.percentile(v_brasil, 97.5))\n",
    "print(\"Valores extremos (Argentina): \", np.percentile(v_argentina, 2.5), \", \", np.percentile(v_argentina, 97.5))\n",
    "\n",
    "k = 0\n",
    "#p-valor\n",
    "print(\"Calculando o p-valor:\")\n",
    "for element in v_diff:\n",
    "    if element > t_obs:\n",
    "        k += 1 \n",
    "p = k / len(v_diff)\n",
    "print(\"P-Valor: \",p)"
   ]
  },
  {
   "cell_type": "markdown",
   "metadata": {},
   "source": [
    "<h4>Calculando o p-valor</h4>\n",
    "O p-valor 0.4996 é altíssimo, então a hipótese nula não é rejeitada."
   ]
  },
  {
   "cell_type": "markdown",
   "metadata": {
    "id": "rfCi3y5QZ0p5"
   },
   "source": [
    "**Teste A/B**\n",
    "\n",
    "Realizando um teste *A/B* sobre os salários (em *log*) dos jogadores, percebemos que com 5% de chance os jogadores brasileiros se encontram com o mesmo salário que os argentinos, verificando que com os dados usados no FIFA nesse ano, os brasileiros ganham mais que os argentinos"
   ]
  },
  {
   "cell_type": "code",
   "execution_count": 25,
   "metadata": {
    "colab": {
     "base_uri": "https://localhost:8080/",
     "height": 587
    },
    "id": "0QJSdHH-XIOY",
    "outputId": "89f47937-c924-4546-efff-bc91664e2fd3"
   },
   "outputs": [
    {
     "data": {
      "text/plain": [
       "(array([  1.,   4.,  12.,  35.,  82., 171., 295., 468., 638., 842., 765.,\n",
       "        646., 490., 284., 146.,  75.,  36.,   5.,   4.,   1.]),\n",
       " array([ 0.15878331,  0.74678719,  1.33479107,  1.92279496,  2.51079884,\n",
       "         3.09880272,  3.6868066 ,  4.27481048,  4.86281436,  5.45081825,\n",
       "         6.03882213,  6.62682601,  7.21482989,  7.80283377,  8.39083765,\n",
       "         8.97884154,  9.56684542, 10.1548493 , 10.74285318, 11.33085706,\n",
       "        11.91886095]),\n",
       " <BarContainer object of 20 artists>)"
      ]
     },
     "execution_count": 25,
     "metadata": {},
     "output_type": "execute_result"
    },
    {
     "data": {
      "image/png": "[encoded data removed]",
      "text/plain": [
       "<Figure size 576x432 with 1 Axes>"
      ]
     },
     "metadata": {
      "needs_background": "light"
     },
     "output_type": "display_data"
    }
   ],
   "source": [
    "plt.hist(v_diff, bins = 20)"
   ]
  },
  {
   "cell_type": "code",
   "execution_count": 26,
   "metadata": {
    "colab": {
     "base_uri": "https://localhost:8080/"
    },
    "id": "2-5LaWhZPa7w",
    "outputId": "a47bba4e-c45a-4e83-d8bf-6288b5ae9762"
   },
   "outputs": [
    {
     "name": "stdout",
     "output_type": "stream",
     "text": [
      "[5.3539756  5.2548263  7.33466585 ... 3.73651288 6.50045094 5.79673494]\n"
     ]
    }
   ],
   "source": [
    "print(v_diff)"
   ]
  },
  {
   "cell_type": "code",
   "execution_count": 27,
   "metadata": {},
   "outputs": [
    {
     "data": {
      "text/html": [
       "<div>\n",
       "<style scoped>\n",
       "    .dataframe tbody tr th:only-of-type {\n",
       "        vertical-align: middle;\n",
       "    }\n",
       "\n",
       "    .dataframe tbody tr th {\n",
       "        vertical-align: top;\n",
       "    }\n",
       "\n",
       "    .dataframe thead th {\n",
       "        text-align: right;\n",
       "    }\n",
       "</style>\n",
       "<table border=\"1\" class=\"dataframe\">\n",
       "  <thead>\n",
       "    <tr style=\"text-align: right;\">\n",
       "      <th></th>\n",
       "      <th>Wage</th>\n",
       "    </tr>\n",
       "    <tr>\n",
       "      <th>Club</th>\n",
       "      <th></th>\n",
       "    </tr>\n",
       "  </thead>\n",
       "  <tbody>\n",
       "    <tr>\n",
       "      <th>Lokomotiv Moscow</th>\n",
       "      <td>1.000000</td>\n",
       "    </tr>\n",
       "    <tr>\n",
       "      <th>IF Brommapojkarna</th>\n",
       "      <td>1.000000</td>\n",
       "    </tr>\n",
       "    <tr>\n",
       "      <th>Envigado FC</th>\n",
       "      <td>1.000000</td>\n",
       "    </tr>\n",
       "    <tr>\n",
       "      <th>Trelleborgs FF</th>\n",
       "      <td>1.000000</td>\n",
       "    </tr>\n",
       "    <tr>\n",
       "      <th>FC Carl Zeiss Jena</th>\n",
       "      <td>1.000000</td>\n",
       "    </tr>\n",
       "    <tr>\n",
       "      <th>...</th>\n",
       "      <td>...</td>\n",
       "    </tr>\n",
       "    <tr>\n",
       "      <th>Manchester United</th>\n",
       "      <td>102.757576</td>\n",
       "    </tr>\n",
       "    <tr>\n",
       "      <th>Manchester City</th>\n",
       "      <td>113.363636</td>\n",
       "    </tr>\n",
       "    <tr>\n",
       "      <th>Juventus</th>\n",
       "      <td>131.680000</td>\n",
       "    </tr>\n",
       "    <tr>\n",
       "      <th>FC Barcelona</th>\n",
       "      <td>146.575758</td>\n",
       "    </tr>\n",
       "    <tr>\n",
       "      <th>Real Madrid</th>\n",
       "      <td>152.030303</td>\n",
       "    </tr>\n",
       "  </tbody>\n",
       "</table>\n",
       "<p>651 rows × 1 columns</p>\n",
       "</div>"
      ],
      "text/plain": [
       "                          Wage\n",
       "Club                          \n",
       "Lokomotiv Moscow      1.000000\n",
       "IF Brommapojkarna     1.000000\n",
       "Envigado FC           1.000000\n",
       "Trelleborgs FF        1.000000\n",
       "FC Carl Zeiss Jena    1.000000\n",
       "...                        ...\n",
       "Manchester United   102.757576\n",
       "Manchester City     113.363636\n",
       "Juventus            131.680000\n",
       "FC Barcelona        146.575758\n",
       "Real Madrid         152.030303\n",
       "\n",
       "[651 rows x 1 columns]"
      ]
     },
     "execution_count": 27,
     "metadata": {},
     "output_type": "execute_result"
    }
   ],
   "source": [
    "clubes = pd.DataFrame(data.groupby(['Club']).mean()['Wage'])\n",
    "clubes.sort_values(by='Wage')"
   ]
  },
  {
   "cell_type": "code",
   "execution_count": 28,
   "metadata": {},
   "outputs": [
    {
     "name": "stdout",
     "output_type": "stream",
     "text": [
      "8.965544035531927\n"
     ]
    }
   ],
   "source": [
    "mediaSalarial = clubes['Wage'].mean()\n",
    "print(mediaSalarial)"
   ]
  },
  {
   "cell_type": "markdown",
   "metadata": {},
   "source": [
    "A média dos clubes é 8.73 mil euros, e alguns clubes ganham muito mais como o Barcelona e o Real Madrid.\n",
    "Assim podemos fazer uma hipótese sobre isso, será que a chance consegue explicar essa diferença."
   ]
  },
  {
   "cell_type": "code",
   "execution_count": 29,
   "metadata": {},
   "outputs": [
    {
     "name": "stdout",
     "output_type": "stream",
     "text": [
      "Diferença observada:  137.2298213927353\n",
      "FC Barcelona:  146.57575757575756\n",
      "Outros Times:  9.345936183022276\n"
     ]
    },
    {
     "data": {
      "text/plain": [
       "Text(0.5, 1.0, 'Média Salarial dos jogadores Barcelona / Outros (Mil Euros)')"
      ]
     },
     "execution_count": 29,
     "metadata": {},
     "output_type": "execute_result"
    },
    {
     "data": {
      "image/png": "[encoded data removed]",
      "text/plain": [
       "<Figure size 576x432 with 1 Axes>"
      ]
     },
     "metadata": {
      "needs_background": "light"
     },
     "output_type": "display_data"
    }
   ],
   "source": [
    "#data = pd.read_csv('fifa.csv', index_col='ID')\n",
    "times = data\n",
    "# times[times['Club'] != 'FC Barcelona']\n",
    "t_obs = times[times['Club'] == 'FC Barcelona']['Wage'].mean() - times[times['Club'] != 'FC Barcelona']['Wage'].mean()\n",
    "mediaBarcelona = times[times['Club'] == 'FC Barcelona']['Wage'].mean()\n",
    "mediaOutros = times[times['Club'] != 'FC Barcelona']['Wage'].mean()\n",
    "print(\"Diferença observada: \", t_obs)\n",
    "print(\"FC Barcelona: \", mediaBarcelona)\n",
    "print(\"Outros Times: \", mediaOutros)\n",
    "# meanPlot = times[['Club','Wage']].groupby(\"Club\").agg([np.mean])\n",
    "# meanPlot.plot(kind = \"bar\", y = \"Wage\", legend = False,\n",
    "#             title = \"Média Salarial dos jogadores Barcelona / Outros (Mil Euros)\")\n",
    "plt.bar(['FC Barcelona', 'Outros Times'], [mediaBarcelona,mediaOutros])\n",
    "plt.title(\"Média Salarial dos jogadores Barcelona / Outros (Mil Euros)\")"
   ]
  },
  {
   "cell_type": "code",
   "execution_count": null,
   "metadata": {
    "id": "VgA-DrX0UrS0"
   },
   "outputs": [],
   "source": [
    "filtro = times['Club'] == 'FC Barcelona'\n",
    "N = 1000\n",
    "diferencas =  np.zeros(N)\n",
    "for i in range(N):\n",
    "    np.random.shuffle(filtro.values)\n",
    "    diff = times[filtro]['Wage'].mean() - times[~filtro]['Wage'].mean()\n",
    "    diferencas[i] = diff"
   ]
  },
  {
   "cell_type": "code",
   "execution_count": null,
   "metadata": {},
   "outputs": [],
   "source": [
    "k = 0\n",
    "for element in diferencas:\n",
    "    if element > 145:\n",
    "        k += 1 \n",
    "p = k / len(diferencas)\n",
    "print(\"P-Valor: \",p)\n",
    "\n",
    "t_obs = times[~filtro]['Wage'].mean() - times[filtro]['Wage'].mean()\n",
    "print(\"Média Salarial:\", t_obs)\n",
    "\n",
    "print(\"Intervalo de confiança: \", np.percentile(diferencas, 2.5), \", \", np.percentile(diferencas, 97.5))"
   ]
  },
  {
   "cell_type": "code",
   "execution_count": null,
   "metadata": {
    "id": "pMP7w-cRsvmq"
   },
   "outputs": [],
   "source": [
    "plt.hist(diferencas,bins=50, edgecolor='k')"
   ]
  },
  {
   "cell_type": "markdown",
   "metadata": {},
   "source": [
    "O P-Valor encontrado foi muito pequeno o que nos leva a rejeitar a hipótese nula. Ou seja,\n",
    "a diferença salarial entre o Barcelona e os outros times não pode ser explicada pelo acaso."
   ]
  },
  {
   "cell_type": "markdown",
   "metadata": {
    "id": "MmQr0O28Mt2r"
   },
   "source": [
    "# Regressão (Rodrigo)\n"
   ]
  },
  {
   "cell_type": "code",
   "execution_count": null,
   "metadata": {
    "id": "2q1VVllNPbqT"
   },
   "outputs": [],
   "source": [
    "cols = ['Age', 'Wage']\n",
    "series = data[cols].groupby('Age', as_index=False).mean()\n",
    "series"
   ]
  },
  {
   "cell_type": "code",
   "execution_count": null,
   "metadata": {
    "colab": {
     "base_uri": "https://localhost:8080/",
     "height": 927
    },
    "id": "5DGVBNpKMwqJ",
    "outputId": "f611f197-740b-4b09-a8b1-3d12e423bf49"
   },
   "outputs": [],
   "source": [
    "plt.rcParams['figure.figsize']  = (18, 10)\n",
    "plt.rcParams['axes.labelsize']  = 20\n",
    "plt.rcParams['axes.titlesize']  = 20\n",
    "plt.rcParams['legend.fontsize'] = 20\n",
    "plt.rcParams['xtick.labelsize'] = 20\n",
    "plt.rcParams['ytick.labelsize'] = 20\n",
    "plt.rcParams['lines.linewidth'] = 4\n",
    "plt.ion()\n",
    "\n",
    "plt.style.use('seaborn-colorblind')\n",
    "plt.rcParams['figure.figsize']  = (12, 8)\n",
    "\n",
    "ols = ['Age', 'Wage']\n",
    "\n",
    "series = data[cols].groupby('Age', as_index=False).mean()\n",
    "series"
   ]
  },
  {
   "cell_type": "code",
   "execution_count": null,
   "metadata": {
    "colab": {
     "base_uri": "https://localhost:8080/"
    },
    "id": "ZCXLu-NHM1sU",
    "outputId": "a88eaf06-b1c0-4aa2-de8f-b0b5869620bc"
   },
   "outputs": [],
   "source": [
    "def beta(series, mean_x, mean_y):\n",
    "    num = 0\n",
    "    den = 0\n",
    "    for i in range(len(series)):\n",
    "        num += (series.iloc[i][0] - mean_x) * (series.iloc[i][1] - mean_y)\n",
    "        den += (series.iloc[i][0] - mean_x) ** 2\n",
    "    return num/den\n",
    "\n",
    "mean_x = np.mean(series['Age'])\n",
    "mean_y = np.mean(series['Wage'])\n",
    "beta = beta(series, mean_x, mean_y)\n",
    "beta"
   ]
  },
  {
   "cell_type": "code",
   "execution_count": null,
   "metadata": {
    "colab": {
     "base_uri": "https://localhost:8080/"
    },
    "id": "Kk9gBShiM5Zx",
    "outputId": "7cb962a5-bac3-4685-8ad2-a72a4c746877"
   },
   "outputs": [],
   "source": [
    "alpha = mean_y - beta*mean_x\n",
    "alpha"
   ]
  },
  {
   "cell_type": "code",
   "execution_count": null,
   "metadata": {
    "colab": {
     "base_uri": "https://localhost:8080/",
     "height": 502
    },
    "id": "NvJmsUNxM7bB",
    "outputId": "00abf5fd-e8b0-483c-d73b-4285f8483ac4"
   },
   "outputs": [],
   "source": [
    "fig,ax = plt.subplots()\n",
    "x = np.linspace(10.,50.)\n",
    "ax.plot(x,beta*x+alpha)\n",
    "x = np.array(series.iloc[:len(series)-1,0].values).reshape((-1,1)) \n",
    "y = np.array(series.iloc[:len(series)-1,1].values).reshape((-1,1))\n",
    "plt.scatter(x,y,color=\"black\")\n",
    "plt.show()"
   ]
  },
  {
   "cell_type": "code",
   "execution_count": null,
   "metadata": {
    "colab": {
     "base_uri": "https://localhost:8080/",
     "height": 520
    },
    "id": "PzTrhjAUNAaj",
    "outputId": "e72be808-f614-4a73-803f-62c23e838a69"
   },
   "outputs": [],
   "source": [
    "from sklearn.linear_model import LinearRegression\n",
    "\n",
    "model = LinearRegression()\n",
    "x = np.array(series.iloc[:len(series)-1,0].values).reshape((-1,1)) \n",
    "y = np.array(series.iloc[:len(series)-1,1].values).reshape((-1,1))\n",
    "\n",
    "model.fit(x,y)\n",
    "new_y = model.predict(x)\n",
    "plt.scatter(x,y,color=\"black\")\n",
    "plt.plot(x,new_y,color=\"blue\", linewidth=1)"
   ]
  },
  {
   "cell_type": "code",
   "execution_count": null,
   "metadata": {
    "id": "-Hcn_LLUNEOj"
   },
   "outputs": [],
   "source": [
    "from sklearn.preprocessing import PolynomialFeatures\n",
    "poly_reg = PolynomialFeatures(degree=2)\n",
    "X_poly = poly_reg.fit_transform(x)"
   ]
  },
  {
   "cell_type": "code",
   "execution_count": null,
   "metadata": {
    "colab": {
     "base_uri": "https://localhost:8080/",
     "height": 502
    },
    "id": "sGHAgYaMNHzQ",
    "outputId": "5a0b20c4-cb96-4433-fc1c-3011f86e6588"
   },
   "outputs": [],
   "source": [
    "lin_reg2 = LinearRegression()\n",
    "lin_reg2.fit(X_poly,y)\n",
    "from sklearn.preprocessing import PolynomialFeatures\n",
    "poly_reg = PolynomialFeatures(degree=4)\n",
    "X_poly = poly_reg.fit_transform(x)\n",
    "lin_reg2 = LinearRegression()\n",
    "lin_reg2.fit(X_poly,y)\n",
    "  \n",
    "X_grid = np.arange(min(x),max(x),0.1)\n",
    "X_grid = X_grid.reshape(len(X_grid),1) \n",
    "plt.scatter(x,y, color='red') \n",
    "  \n",
    "plt.plot(X_grid, lin_reg2.predict(poly_reg.fit_transform(X_grid)),color='blue') \n",
    "  \n",
    "plt.title(\"Salário por Idade\")\n",
    "plt.xlabel('Idade')\n",
    "plt.ylabel('Salário')\n",
    "plt.show()"
   ]
  },
  {
   "cell_type": "markdown",
   "metadata": {
    "id": "kDF26B4-Q6Av"
   },
   "source": [
    "# Outras Regressões (Hélio)"
   ]
  },
  {
   "cell_type": "code",
   "execution_count": null,
   "metadata": {
    "colab": {
     "base_uri": "https://localhost:8080/",
     "height": 460
    },
    "id": "96pn7o7lQ7xu",
    "outputId": "7afd9e6e-1756-4010-94a9-63490458a4b4"
   },
   "outputs": [],
   "source": [
    "from sklearn.datasets import load_diabetes\n",
    "from sklearn.linear_model import LinearRegression\n",
    "from sklearn.metrics import mean_squared_error\n",
    "\n",
    "data.reset_index(drop=True, inplace=True)\n",
    "s = data[['Height (cm)']].round(2)\n",
    "s['Count p/ Altura'] = s.groupby('Height (cm)')['Height (cm)'].transform('count')\n",
    "s = s.sort_values(['Height (cm)'])\n",
    "j = s.drop_duplicates(subset = [\"Height (cm)\",\"Count p/ Altura\"])\n",
    "j.reset_index(inplace=True, drop=True)\n",
    "j.plot.bar(x='Height (cm)',y='Count p/ Altura',figsize=(10,6))"
   ]
  },
  {
   "cell_type": "code",
   "execution_count": null,
   "metadata": {
    "id": "jzWy9PlYQ9s_"
   },
   "outputs": [],
   "source": [
    "def error(alpha, beta, x, y):\n",
    "    return y - alpha - beta*x\n",
    "\n",
    "def sum_of_squared_errors(alpha, beta, x, y):\n",
    "    result = 0\n",
    "    index = 0\n",
    "    while index < len(y):\n",
    "      result += (error(alpha,beta,x[index],y[index]))**2\n",
    "      index += 1\n",
    "    result = result\n",
    "\n",
    "    return result\n",
    "\n",
    "def total_sum_of_squares(y):\n",
    "    result = 0\n",
    "    mean = y.mean()\n",
    "\n",
    "    for element in y:\n",
    "      result += (element - mean)**2\n",
    "    result \n",
    "\n",
    "    return result\n",
    "\n",
    "def r_squared(alpha, beta, x, y):\n",
    "    SQT = total_sum_of_squares(y)\n",
    "    SQR = sum_of_squared_errors(alpha,beta,x,y)\n",
    "\n",
    "    return (SQT - SQR)/SQT"
   ]
  },
  {
   "cell_type": "code",
   "execution_count": null,
   "metadata": {
    "id": "4hG-bF8MRCfe"
   },
   "outputs": [],
   "source": [
    "def linear_regression(x,y):\n",
    "  alpha = 0\n",
    "  beta = 0\n",
    "  mean_x = x.mean()\n",
    "  mean_y = y.mean()\n",
    "\n",
    "  index = 0\n",
    "  covariancia = 0\n",
    "  variancia = 0\n",
    "  while index < len(y):\n",
    "    covariancia += (x[index] - mean_x)*(y[index] - mean_y)\n",
    "    index += 1\n",
    "  covariancia = covariancia/len(y)\n",
    "  index = 0\n",
    "  while index < len(x):\n",
    "    variancia += (x[index] - mean_x)**2\n",
    "    index += 1\n",
    "  variancia = variancia/len(x)\n",
    "  beta = covariancia/variancia\n",
    "  alpha = mean_y - beta*mean_x\n",
    "\n",
    "  return (alpha, beta)"
   ]
  },
  {
   "cell_type": "code",
   "execution_count": null,
   "metadata": {
    "id": "lO-y195fRDZn"
   },
   "outputs": [],
   "source": [
    "def correlacao(x_name,y_name):\n",
    "  x = data[x_name]\n",
    "  y = data[y_name]\n",
    "  x = x[:10000]\n",
    "  y = y[:10000]\n",
    "  print(\"jj\")\n",
    "  (alpha,beta) = linear_regression(x,y)\n",
    "  print(\"Alpha , Beta:\")\n",
    "  print((alpha,beta))\n",
    "  print(\"Coeficiente de Determinação:\")\n",
    "  print(r_squared(alpha,beta,x,y))\n",
    "  plt.plot(data[x_name], data[y_name],'o')\n",
    "  plt.plot(data[x_name], alpha + beta*data[x_name], color='r')"
   ]
  },
  {
   "cell_type": "code",
   "execution_count": null,
   "metadata": {
    "colab": {
     "base_uri": "https://localhost:8080/",
     "height": 593
    },
    "id": "ngdukZuARFaW",
    "outputId": "7595b9f4-654d-4c8a-9903-531b1112104e"
   },
   "outputs": [],
   "source": [
    "correlacao('Acceleration','Wage')"
   ]
  },
  {
   "cell_type": "code",
   "execution_count": null,
   "metadata": {
    "colab": {
     "base_uri": "https://localhost:8080/",
     "height": 593
    },
    "id": "hNRFrl9NdXgP",
    "outputId": "e05a2725-3af6-4b5c-b999-84701bd55143"
   },
   "outputs": [],
   "source": [
    "correlacao('Height (cm)','Dribbling')"
   ]
  },
  {
   "cell_type": "code",
   "execution_count": null,
   "metadata": {
    "colab": {
     "base_uri": "https://localhost:8080/",
     "height": 593
    },
    "id": "zfrheKouRQVK",
    "outputId": "da0030b6-2d00-43b0-d5bd-54dd507ea86c"
   },
   "outputs": [],
   "source": [
    "correlacao('Height (cm)','Marking')"
   ]
  },
  {
   "cell_type": "code",
   "execution_count": null,
   "metadata": {
    "colab": {
     "base_uri": "https://localhost:8080/",
     "height": 593
    },
    "id": "XHDb-b-BRXL6",
    "outputId": "bd49b291-0f1a-4c96-e975-ee4c4ac9381e"
   },
   "outputs": [],
   "source": [
    "correlacao('Height (cm)','Balance')"
   ]
  },
  {
   "cell_type": "code",
   "execution_count": null,
   "metadata": {
    "colab": {
     "base_uri": "https://localhost:8080/",
     "height": 593
    },
    "id": "Om_dDb3gRkT4",
    "outputId": "79287e6d-1d98-407f-84bb-f1b1a9136b80"
   },
   "outputs": [],
   "source": [
    "correlacao('Height (cm)','Interceptions')"
   ]
  },
  {
   "cell_type": "code",
   "execution_count": null,
   "metadata": {
    "colab": {
     "base_uri": "https://localhost:8080/",
     "height": 730
    },
    "id": "-sfnjF5EtjKK",
    "outputId": "43dba864-aa28-472b-a6b6-4938183fc4e1"
   },
   "outputs": [],
   "source": [
    "display(data)"
   ]
  },
  {
   "cell_type": "code",
   "execution_count": null,
   "metadata": {
    "colab": {
     "base_uri": "https://localhost:8080/",
     "height": 593
    },
    "id": "OrenQciUbUka",
    "outputId": "4f5b5ef8-a5f7-43b7-f6f0-1c7be20d0719"
   },
   "outputs": [],
   "source": [
    "correlacao('Wage','Strength')"
   ]
  },
  {
   "cell_type": "code",
   "execution_count": null,
   "metadata": {
    "colab": {
     "base_uri": "https://localhost:8080/",
     "height": 593
    },
    "id": "OaJIpAP1bVBx",
    "outputId": "ab15ff2e-694b-4db5-d35e-de45e68b57ed"
   },
   "outputs": [],
   "source": [
    "correlacao('Height (cm)','Strength')"
   ]
  },
  {
   "cell_type": "code",
   "execution_count": null,
   "metadata": {
    "colab": {
     "base_uri": "https://localhost:8080/",
     "height": 575
    },
    "id": "JAYVf_ex8Bjl",
    "outputId": "df6ee725-7bf2-40ed-9d65-9b7a807ac962"
   },
   "outputs": [],
   "source": [
    "df = data[['Position','Height (cm)']]\n",
    "df = df.dropna()\n",
    "\n",
    "def set_values(row, value):\n",
    "    return value[row]\n",
    "\n",
    "map_dictionary ={\"ST\": 9, \"CF\": 9,\n",
    "                 \"RF\" : 8, \"LF\": 8,\n",
    "                 \"LS\" : 7, \"RS\" : 7,\n",
    "                 \"CAM\": 6, \"RAM\" : 6, \"LAM\" : 6, \"LW\" : 6,\"RW\" : 6,\n",
    "                 \"RCM\" : 5, \"LCM\" : 5, \"RM\" : 5,\"LM\" : 5,\"CM\" : 5,\n",
    "                 \"LDM\" : 4, \"CDM\" : 4, \"RDM\" : 4,\n",
    "                 \"RWB\" : 3, \"LWB\" : 3,\n",
    "                 \"RCB\": 2, \"CB\": 2, \"LCB\": 2,\n",
    "                 \"LB\": 1, \"RB\": 1,\n",
    "                 \"GK\": 0} \n",
    "\n",
    "df['Position_Num'] = df['Position'].apply(set_values, args =(map_dictionary, )) \n",
    "\n",
    "\n",
    "\n",
    "df = df.reset_index()\n",
    "y = df['Height (cm)']\n",
    "x = df['Position_Num']\n",
    "\n",
    "(alpha,beta) = linear_regression(x,y)\n",
    "print(\"Alpha , Beta:\")\n",
    "print((alpha,beta))\n",
    "plt.plot(df['Position_Num'], df['Height (cm)'],'o')\n",
    "plt.plot(df['Position_Num'], alpha + beta*df['Position_Num'], color='magenta')\n",
    "plt.rcParams[\"figure.figsize\"] = [7.50, 3.50]\n",
    "plt.rcParams[\"figure.autolayout\"] = True\n",
    "print(\"Coeficiente de Determinação:\")\n",
    "print(r_squared(alpha,beta,x,y))"
   ]
  },
  {
   "cell_type": "markdown",
   "metadata": {
    "id": "Mr3eaiNY9fg6"
   },
   "source": [
    "## Template de Regressão"
   ]
  },
  {
   "cell_type": "code",
   "execution_count": null,
   "metadata": {
    "colab": {
     "base_uri": "https://localhost:8080/",
     "height": 279
    },
    "id": "VKGwouj4ALiX",
    "outputId": "a0c903f6-05a7-44f1-8c1d-afcf098acf9e"
   },
   "outputs": [],
   "source": [
    "#modelo de regressão\n",
    "\n",
    "from sklearn.linear_model import LinearRegression\n",
    "import matplotlib.pyplot as plt\n",
    "\n",
    "#cria-se um modelo\n",
    "model = LinearRegression()\n",
    "\n",
    "#é só mudar os valores de x e y com as colunas que vocês quiserem\n",
    "x = np.array(data['Height (cm)'].values).reshape((-1,1))\n",
    "y = np.array(data['Agility'].values).reshape((-1,1))\n",
    "\n",
    "model.fit(x,y)\n",
    "new_y = model.predict(x)\n",
    "\n",
    "#resultado\n",
    "#parece que a altura e a agilidade estão inversamente correlacionados\n",
    "plt.scatter(x, y, color=\"black\", s=1, edgecolor='k', alpha=0.75)\n",
    "plt.plot(x, new_y,color=\"blue\", linewidth=1)"
   ]
  },
  {
   "cell_type": "markdown",
   "metadata": {
    "id": "GhPCGjF4yvxu"
   },
   "source": []
  },
  {
   "cell_type": "markdown",
   "metadata": {
    "id": "61TRTDE30Sjt"
   },
   "source": [
    "# A fazer:\n",
    "\n",
    "* Mais regressões e hipóteses\n",
    "* Arrumar os gráficos\n",
    "* Intervalos de confiança e p-valor\n",
    "* Entrega por streamlit\n",
    "* Algo mais?\n",
    "\n",
    "\n"
   ]
  },
  {
   "cell_type": "markdown",
   "metadata": {},
   "source": [
    "# Previsão\n",
    "\n"
   ]
  },
  {
   "cell_type": "code",
   "execution_count": null,
   "metadata": {},
   "outputs": [],
   "source": [
    "#Pegar as colunas que serão usadas na classificação\n",
    "#features = ['Overall']\n",
    "features = ['ShortPassing','LongPassing','Reactions','Vision','Composure']\n",
    "# features = data.columns[22:-1]\n",
    "# Número de folds da validação cruzada\n",
    "SPLITS = 5\n",
    "\n",
    "X = data[features].values\n",
    "y = data[['Wage']].values\n",
    "\n",
    "X_train, X_test, y_train, y_test = train_test_split(X, y, test_size=0.20, random_state=40)"
   ]
  },
  {
   "cell_type": "code",
   "execution_count": null,
   "metadata": {},
   "outputs": [],
   "source": [
    "# YOUR CODE HERE\n",
    "# Feature Scaling for input features.\n",
    "scaler = preprocessing.MinMaxScaler()\n",
    "X_scaled = scaler.fit_transform(X)\n",
    "# Create StratifiedKFold object.\n",
    "skf = StratifiedKFold(n_splits=SPLITS, shuffle=True, random_state=1)"
   ]
  },
  {
   "cell_type": "code",
   "execution_count": null,
   "metadata": {},
   "outputs": [],
   "source": [
    "print(\"KNN\")\n",
    "contador = 0\n",
    "jogador = [[90,50,70,80,30]]\n",
    "for train_index, test_index in skf.split(X, y):\n",
    "    X_train_fold, X_test_fold = X_scaled[train_index], X_scaled[test_index]\n",
    "    y_train_fold, y_test_fold = y[train_index], y[test_index]\n",
    "    contador = contador + 1\n",
    "    print(\"Fold\", contador)\n",
    "    for i in [5,15, 25,1000]:\n",
    "      knn = KNeighborsRegressor(n_neighbors=i)\n",
    "      knn.fit(X_train_fold, y_train_fold)\n",
    "      y_pred1 = knn.predict(X_test)\n",
    "      previsao = knn.predict(jogador)\n",
    "      mean_squared_error = np.mean((y_pred1 - y_test)**2)\n",
    "      print(i,\"Vizinhos | Erro quadrado médio: \", mean_squared_error)\n",
    "      print(\"Salario previsto para o jogador:\", previsao)\n",
    "    print(\"\\n\")"
   ]
  },
  {
   "cell_type": "markdown",
   "metadata": {},
   "source": [
    "<h3>Previsão Usando KNVizinhos</h3>\n",
    "\n",
    "Ao utilizar o algoritmo de KNN na nossa base de dados conseguimos verificar algumas informações tanto sobre os salarios dos jogadores quanto a própria base de dados.\n",
    "\n",
    "No salário dos jogadores podemos ver que a maioria dos jogadores ganham pouco, isso pode ser visto no KNN quando aumentamos a quantidade de vizinhos o salario de um jogador previsto diminui relativo ao aumento quantidade.\n",
    "\n",
    "O erro médio do KNN nos mostra que a previsão usando somente os atributos *ShortPassing, LongPassing, Reactions, Vision, Composure*, não retorna uma previsão util em relação ao salário do jogador, pois a tabela tem um total de 56 atributos e usando somente 6 dos mesmos não é possivel aproximar um valor correto do salário dos jogadores"
   ]
  }
 ],
 "metadata": {
  "colab": {
   "collapsed_sections": [],
   "name": "trabalhoICD (1) (1).ipynb",
   "provenance": []
  },
  "kernelspec": {
   "display_name": "Python 3 (ipykernel)",
   "language": "python",
   "name": "python3"
  },
  "language_info": {
   "codemirror_mode": {
    "name": "ipython",
    "version": 3
   },
   "file_extension": ".py",
   "mimetype": "text/x-python",
   "name": "python",
   "nbconvert_exporter": "python",
   "pygments_lexer": "ipython3",
   "version": "3.9.7"
  }
 },
 "nbformat": 4,
 "nbformat_minor": 1
}
